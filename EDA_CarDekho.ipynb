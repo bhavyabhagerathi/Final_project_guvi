{
  "metadata": {
    "kernelspec": {
      "language": "python",
      "display_name": "Python 3",
      "name": "python3"
    },
    "language_info": {
      "pygments_lexer": "ipython3",
      "nbconvert_exporter": "python",
      "version": "3.6.4",
      "file_extension": ".py",
      "codemirror_mode": {
        "name": "ipython",
        "version": 3
      },
      "name": "python",
      "mimetype": "text/x-python"
    },
    "colab": {
      "provenance": []
    }
  },
  "nbformat_minor": 0,
  "nbformat": 4,
  "cells": [
    {
      "cell_type": "code",
      "source": [
        "# This Python 3 environment comes with many helpful analytics libraries installed\n",
        "# It is defined by the kaggle/python Docker image: https://github.com/kaggle/docker-python\n",
        "# For example, here's several helpful packages to load\n",
        "\n",
        "import numpy as np # linear algebra\n",
        "import pandas as pd # data processing, CSV file I/O (e.g. pd.read_csv)\n",
        "\n",
        "# Input data files are available in the read-only \"../input/\" directory\n",
        "# For example, running this (by clicking run or pressing Shift+Enter) will list all files under the input directory\n",
        "\n",
        "import os\n",
        "for dirname, _, filenames in os.walk('/kaggle/input'):\n",
        "    for filename in filenames:\n",
        "        print(os.path.join(dirname, filename))\n",
        "\n",
        "# You can write up to 20GB to the current directory (/kaggle/working/) that gets preserved as output when you create a version using \"Save & Run All\"\n",
        "# You can also write temporary files to /kaggle/temp/, but they won't be saved outside of the current session"
      ],
      "metadata": {
        "_uuid": "8f2839f25d086af736a60e9eeb907d3b93b6e0e5",
        "_cell_guid": "b1076dfc-b9ad-4769-8c92-a6c4dae69d19",
        "execution": {
          "iopub.status.busy": "2023-09-19T05:32:18.083475Z",
          "iopub.execute_input": "2023-09-19T05:32:18.083853Z",
          "iopub.status.idle": "2023-09-19T05:32:18.107607Z",
          "shell.execute_reply.started": "2023-09-19T05:32:18.083823Z",
          "shell.execute_reply": "2023-09-19T05:32:18.106445Z"
        },
        "trusted": true,
        "id": "6MubkKQ-75MH"
      },
      "execution_count": null,
      "outputs": []
    },
    {
      "cell_type": "code",
      "source": [
        "import numpy as np\n",
        "import pandas as pd\n",
        "import seaborn as sns\n",
        "import matplotlib.pyplot as plt\n",
        "\n",
        "plt.rcParams[\"figure.figsize\"] = (10, 6)"
      ],
      "metadata": {
        "execution": {
          "iopub.status.busy": "2023-09-19T05:32:18.109695Z",
          "iopub.execute_input": "2023-09-19T05:32:18.110200Z",
          "iopub.status.idle": "2023-09-19T05:32:18.863110Z",
          "shell.execute_reply.started": "2023-09-19T05:32:18.110169Z",
          "shell.execute_reply": "2023-09-19T05:32:18.861789Z"
        },
        "trusted": true,
        "id": "04pNIgjc75MJ"
      },
      "execution_count": null,
      "outputs": []
    },
    {
      "cell_type": "code",
      "source": [
        "df = pd.read_csv('/kaggle/input/eda-project-analyze-us-citizens/adult_eda.csv')"
      ],
      "metadata": {
        "execution": {
          "iopub.status.busy": "2023-09-19T05:32:18.864225Z",
          "iopub.execute_input": "2023-09-19T05:32:18.864526Z",
          "iopub.status.idle": "2023-09-19T05:32:19.008732Z",
          "shell.execute_reply.started": "2023-09-19T05:32:18.864497Z",
          "shell.execute_reply": "2023-09-19T05:32:19.007544Z"
        },
        "trusted": true,
        "id": "Jd6Xc65C75MJ"
      },
      "execution_count": null,
      "outputs": []
    },
    {
      "cell_type": "markdown",
      "source": [
        "## 1.Try to understand what the data looks like\n",
        "#### ** Check the head, shape, data-types of the features.\n",
        "#### ** Check if there are some dublicate rows or not. If there are, then drop them.\n",
        "#### ** Check the statistical values of features.\n",
        "#### ** If needed, rename the columns' names for easy use.\n",
        "#### ** Basically check the missing values."
      ],
      "metadata": {
        "id": "Ld_XygFY75MJ"
      }
    },
    {
      "cell_type": "code",
      "source": [
        "df.head()"
      ],
      "metadata": {
        "execution": {
          "iopub.status.busy": "2023-09-19T05:32:19.010121Z",
          "iopub.execute_input": "2023-09-19T05:32:19.010523Z",
          "iopub.status.idle": "2023-09-19T05:32:19.040799Z",
          "shell.execute_reply.started": "2023-09-19T05:32:19.010482Z",
          "shell.execute_reply": "2023-09-19T05:32:19.039507Z"
        },
        "trusted": true,
        "id": "CHIbk4Jx75MK"
      },
      "execution_count": null,
      "outputs": []
    },
    {
      "cell_type": "code",
      "source": [
        "df.shape"
      ],
      "metadata": {
        "execution": {
          "iopub.status.busy": "2023-09-19T05:32:19.043707Z",
          "iopub.execute_input": "2023-09-19T05:32:19.044349Z",
          "iopub.status.idle": "2023-09-19T05:32:19.050858Z",
          "shell.execute_reply.started": "2023-09-19T05:32:19.044315Z",
          "shell.execute_reply": "2023-09-19T05:32:19.049997Z"
        },
        "trusted": true,
        "id": "-uEVouCd75ML"
      },
      "execution_count": null,
      "outputs": []
    },
    {
      "cell_type": "code",
      "source": [
        "df.info()"
      ],
      "metadata": {
        "execution": {
          "iopub.status.busy": "2023-09-19T05:32:19.052359Z",
          "iopub.execute_input": "2023-09-19T05:32:19.052858Z",
          "iopub.status.idle": "2023-09-19T05:32:19.180908Z",
          "shell.execute_reply.started": "2023-09-19T05:32:19.052822Z",
          "shell.execute_reply": "2023-09-19T05:32:19.179795Z"
        },
        "trusted": true,
        "id": "2FUBrP7A75ML"
      },
      "execution_count": null,
      "outputs": []
    },
    {
      "cell_type": "code",
      "source": [
        "# renaming column name if necessary\n",
        "\n",
        "df.columns = df.columns.str.replace('-','_')\n",
        "df.columns"
      ],
      "metadata": {
        "execution": {
          "iopub.status.busy": "2023-09-19T05:32:19.182185Z",
          "iopub.execute_input": "2023-09-19T05:32:19.182510Z",
          "iopub.status.idle": "2023-09-19T05:32:19.190963Z",
          "shell.execute_reply.started": "2023-09-19T05:32:19.182481Z",
          "shell.execute_reply": "2023-09-19T05:32:19.189791Z"
        },
        "trusted": true,
        "id": "2CkwPYjY75ML"
      },
      "execution_count": null,
      "outputs": []
    },
    {
      "cell_type": "code",
      "source": [
        "df.describe().T"
      ],
      "metadata": {
        "execution": {
          "iopub.status.busy": "2023-09-19T05:32:19.192668Z",
          "iopub.execute_input": "2023-09-19T05:32:19.193622Z",
          "iopub.status.idle": "2023-09-19T05:32:19.243219Z",
          "shell.execute_reply.started": "2023-09-19T05:32:19.193557Z",
          "shell.execute_reply": "2023-09-19T05:32:19.242218Z"
        },
        "trusted": true,
        "id": "QYryYxUF75MM"
      },
      "execution_count": null,
      "outputs": []
    },
    {
      "cell_type": "code",
      "source": [
        "df.duplicated().value_counts()"
      ],
      "metadata": {
        "execution": {
          "iopub.status.busy": "2023-09-19T05:32:19.244375Z",
          "iopub.execute_input": "2023-09-19T05:32:19.244753Z",
          "iopub.status.idle": "2023-09-19T05:32:19.295716Z",
          "shell.execute_reply.started": "2023-09-19T05:32:19.244724Z",
          "shell.execute_reply": "2023-09-19T05:32:19.294673Z"
        },
        "trusted": true,
        "id": "nuSuQuqu75MM"
      },
      "execution_count": null,
      "outputs": []
    },
    {
      "cell_type": "code",
      "source": [
        "df = df.drop_duplicates()"
      ],
      "metadata": {
        "execution": {
          "iopub.status.busy": "2023-09-19T05:32:19.296824Z",
          "iopub.execute_input": "2023-09-19T05:32:19.297133Z",
          "iopub.status.idle": "2023-09-19T05:32:19.345458Z",
          "shell.execute_reply.started": "2023-09-19T05:32:19.297107Z",
          "shell.execute_reply": "2023-09-19T05:32:19.344412Z"
        },
        "trusted": true,
        "id": "nJgZj3nw75MM"
      },
      "execution_count": null,
      "outputs": []
    },
    {
      "cell_type": "code",
      "source": [
        "df.isnull().sum()"
      ],
      "metadata": {
        "execution": {
          "iopub.status.busy": "2023-09-19T05:32:19.347087Z",
          "iopub.execute_input": "2023-09-19T05:32:19.348198Z",
          "iopub.status.idle": "2023-09-19T05:32:19.452574Z",
          "shell.execute_reply.started": "2023-09-19T05:32:19.348154Z",
          "shell.execute_reply": "2023-09-19T05:32:19.451360Z"
        },
        "trusted": true,
        "id": "ljvuTZnx75MN"
      },
      "execution_count": null,
      "outputs": []
    },
    {
      "cell_type": "markdown",
      "source": [
        "### 2.Look at the value counts of columns that have object datatype and detect strange values apart from the NaN Values"
      ],
      "metadata": {
        "id": "FvLbaFVq75MN"
      }
    },
    {
      "cell_type": "code",
      "source": [
        "df.describe(include = object)"
      ],
      "metadata": {
        "execution": {
          "iopub.status.busy": "2023-09-19T05:32:19.454272Z",
          "iopub.execute_input": "2023-09-19T05:32:19.454699Z",
          "iopub.status.idle": "2023-09-19T05:32:19.565028Z",
          "shell.execute_reply.started": "2023-09-19T05:32:19.454660Z",
          "shell.execute_reply": "2023-09-19T05:32:19.563909Z"
        },
        "trusted": true,
        "id": "10pwlXCW75MN"
      },
      "execution_count": null,
      "outputs": []
    },
    {
      "cell_type": "code",
      "source": [
        "obj_col = df.loc[:, df.dtypes == object].columns\n",
        "obj_col"
      ],
      "metadata": {
        "execution": {
          "iopub.status.busy": "2023-09-19T05:32:19.566521Z",
          "iopub.execute_input": "2023-09-19T05:32:19.567478Z",
          "iopub.status.idle": "2023-09-19T05:32:19.580318Z",
          "shell.execute_reply.started": "2023-09-19T05:32:19.567436Z",
          "shell.execute_reply": "2023-09-19T05:32:19.579235Z"
        },
        "trusted": true,
        "id": "55aCcnBk75MN"
      },
      "execution_count": null,
      "outputs": []
    },
    {
      "cell_type": "code",
      "source": [
        "df.education.value_counts()"
      ],
      "metadata": {
        "execution": {
          "iopub.status.busy": "2023-09-19T05:32:19.586792Z",
          "iopub.execute_input": "2023-09-19T05:32:19.588013Z",
          "iopub.status.idle": "2023-09-19T05:32:19.602993Z",
          "shell.execute_reply.started": "2023-09-19T05:32:19.587964Z",
          "shell.execute_reply": "2023-09-19T05:32:19.601675Z"
        },
        "trusted": true,
        "id": "3PCGJTwK75MN"
      },
      "execution_count": null,
      "outputs": []
    },
    {
      "cell_type": "code",
      "source": [
        "for col in obj_col:\n",
        "    print(col)\n",
        "    print(df[col].value_counts())\n",
        "    print('------------------------------------------')"
      ],
      "metadata": {
        "execution": {
          "iopub.status.busy": "2023-09-19T05:32:19.604584Z",
          "iopub.execute_input": "2023-09-19T05:32:19.605497Z",
          "iopub.status.idle": "2023-09-19T05:32:19.662223Z",
          "shell.execute_reply.started": "2023-09-19T05:32:19.605464Z",
          "shell.execute_reply": "2023-09-19T05:32:19.660932Z"
        },
        "trusted": true,
        "id": "gSw_rUEK75MN"
      },
      "execution_count": null,
      "outputs": []
    },
    {
      "cell_type": "code",
      "source": [
        "df.salary.value_counts()"
      ],
      "metadata": {
        "execution": {
          "iopub.status.busy": "2023-09-19T05:32:19.663645Z",
          "iopub.execute_input": "2023-09-19T05:32:19.664637Z",
          "iopub.status.idle": "2023-09-19T05:32:19.677564Z",
          "shell.execute_reply.started": "2023-09-19T05:32:19.664585Z",
          "shell.execute_reply": "2023-09-19T05:32:19.676319Z"
        },
        "trusted": true,
        "id": "Hrl1_ZSS75MN"
      },
      "execution_count": null,
      "outputs": []
    },
    {
      "cell_type": "code",
      "source": [
        "print((df.astype(str)=='?').sum())\n",
        "\n",
        "## any() - gives bool value\n",
        "## sum() - gives no.of values present"
      ],
      "metadata": {
        "execution": {
          "iopub.status.busy": "2023-09-19T05:32:19.679191Z",
          "iopub.execute_input": "2023-09-19T05:32:19.679551Z",
          "iopub.status.idle": "2023-09-19T05:32:19.929161Z",
          "shell.execute_reply.started": "2023-09-19T05:32:19.679508Z",
          "shell.execute_reply": "2023-09-19T05:32:19.927958Z"
        },
        "trusted": true,
        "id": "d__bMF7i75MN"
      },
      "execution_count": null,
      "outputs": []
    },
    {
      "cell_type": "markdown",
      "source": [
        "## Examine all features (first target feature(\"salary\"), then numeric ones, lastly categoric ones) separetly from different aspects according to target feature.\n",
        "\n",
        "### to do list for numeric features:\n",
        "\n",
        "##### ** Check the boxplot to see extreme values\n",
        "##### ** Check the histplot/kdeplot to see distribution of feature\n",
        "##### ** Check the statistical values\n",
        "##### ** Check the boxplot and histplot/kdeplot by \"salary\" levels\n",
        "##### ** Check the statistical values by \"salary\" levels\n",
        "##### ** Write down the conclusions you draw from your analysis\n",
        "\n",
        "### to do list for categoric features:\n",
        "\n",
        "##### ** Find the features which contains similar values, examine the similarities and analyze them together\n",
        "##### ** Check the count/percentage of person in each categories and visualize it with a suitable plot\n",
        "##### ** If need, decrease the number of categories by combining similar categories\n",
        "##### ** Check the count of person in each \"salary\" levels by categories and visualize it with a suitable plot\n",
        "##### ** Check the percentage distribution of person in each \"salary\" levels by categories and visualize it with suitable plot\n",
        "##### ** Check the count of person in each categories by \"salary\" levels and visualize it with a suitable plot\n",
        "##### ** Check the percentage distribution of person in each categories by \"salary\" levels and visualize it with suitable plot\n",
        "##### ** Write down the conclusions you draw from your analysis"
      ],
      "metadata": {
        "id": "HzMru0Lz75MO"
      }
    },
    {
      "cell_type": "markdown",
      "source": [
        "## Salary"
      ],
      "metadata": {
        "id": "pKalBjsy75MO"
      }
    },
    {
      "cell_type": "code",
      "source": [
        "df.salary.value_counts()"
      ],
      "metadata": {
        "execution": {
          "iopub.status.busy": "2023-09-19T05:32:19.930634Z",
          "iopub.execute_input": "2023-09-19T05:32:19.930952Z",
          "iopub.status.idle": "2023-09-19T05:32:19.944101Z",
          "shell.execute_reply.started": "2023-09-19T05:32:19.930924Z",
          "shell.execute_reply": "2023-09-19T05:32:19.943176Z"
        },
        "trusted": true,
        "id": "buZxj6mi75MO"
      },
      "execution_count": null,
      "outputs": []
    },
    {
      "cell_type": "code",
      "source": [
        "plt.figure(figsize=(8,5))\n",
        "sal_plot = sns.countplot(x='salary',data=df)\n",
        "for sal in sal_plot.patches:\n",
        "    sal_plot.annotate((sal.get_height()),(sal.get_x()+0.4, sal.get_height()+1),fontsize=10);"
      ],
      "metadata": {
        "execution": {
          "iopub.status.busy": "2023-09-19T05:32:19.945642Z",
          "iopub.execute_input": "2023-09-19T05:32:19.946701Z",
          "iopub.status.idle": "2023-09-19T05:32:20.208875Z",
          "shell.execute_reply.started": "2023-09-19T05:32:19.946654Z",
          "shell.execute_reply": "2023-09-19T05:32:20.207684Z"
        },
        "trusted": true,
        "id": "g_Vd7lCB75MO"
      },
      "execution_count": null,
      "outputs": []
    },
    {
      "cell_type": "code",
      "source": [
        "per_sal = df['salary'].value_counts()/len(df)\n",
        "per_sal"
      ],
      "metadata": {
        "execution": {
          "iopub.status.busy": "2023-09-19T05:32:20.211103Z",
          "iopub.execute_input": "2023-09-19T05:32:20.211560Z",
          "iopub.status.idle": "2023-09-19T05:32:20.226487Z",
          "shell.execute_reply.started": "2023-09-19T05:32:20.211517Z",
          "shell.execute_reply": "2023-09-19T05:32:20.225200Z"
        },
        "trusted": true,
        "id": "jKhOfZIX75MO"
      },
      "execution_count": null,
      "outputs": []
    },
    {
      "cell_type": "code",
      "source": [
        "plt.figure(figsize=(10,5))\n",
        "\n",
        "plt.pie(per_sal,\n",
        "       labels=['<=50k','>50k'],\n",
        "       explode = [0,0.1],\n",
        "       shadow = True,\n",
        "       autopct = '%0.1f%%',\n",
        "       colors = ['lightskyblue','gold'])\n",
        "plt.title('Percentage of Income_Levels',fontsize=14);"
      ],
      "metadata": {
        "execution": {
          "iopub.status.busy": "2023-09-19T05:32:20.228533Z",
          "iopub.execute_input": "2023-09-19T05:32:20.229079Z",
          "iopub.status.idle": "2023-09-19T05:32:20.412368Z",
          "shell.execute_reply.started": "2023-09-19T05:32:20.229035Z",
          "shell.execute_reply": "2023-09-19T05:32:20.410753Z"
        },
        "trusted": true,
        "id": "6FRd5tiB75MO"
      },
      "execution_count": null,
      "outputs": []
    },
    {
      "cell_type": "markdown",
      "source": [
        "#### Result : 75.9% of the people's salary is lesser than 50K and rest of 24.1% of the people's salary is greater than 50K"
      ],
      "metadata": {
        "id": "ip-Xfg4875MO"
      }
    },
    {
      "cell_type": "markdown",
      "source": [
        "### comparing all the other numerical features with the salary and finding the final conclusion / result\n",
        "\n",
        "## Numeric Data\n",
        "\n",
        "#### For a numeric or continous data column we need to use either the hist,kde,box plots\n",
        "\n",
        "## Age"
      ],
      "metadata": {
        "id": "5fuRN9Md75MO"
      }
    },
    {
      "cell_type": "code",
      "source": [
        "# kde can also be included in the histplot\n",
        "\n",
        "plt.figure(figsize=(8,5))\n",
        "sns.histplot(x='age', data = df, kde = True , bins = 25)"
      ],
      "metadata": {
        "execution": {
          "iopub.status.busy": "2023-09-19T05:32:20.414022Z",
          "iopub.execute_input": "2023-09-19T05:32:20.414895Z",
          "iopub.status.idle": "2023-09-19T05:32:20.990354Z",
          "shell.execute_reply.started": "2023-09-19T05:32:20.414849Z",
          "shell.execute_reply": "2023-09-19T05:32:20.989280Z"
        },
        "trusted": true,
        "id": "-2WQ9Lap75MO"
      },
      "execution_count": null,
      "outputs": []
    },
    {
      "cell_type": "code",
      "source": [
        "# boxplot also indicates the 3 quartiles (i.e q1 ,q2 ,q3)\n",
        "\n",
        "plt.figure(figsize=(6,5))\n",
        "sns.boxplot(x='age',data = df)"
      ],
      "metadata": {
        "execution": {
          "iopub.status.busy": "2023-09-19T05:32:20.991658Z",
          "iopub.execute_input": "2023-09-19T05:32:20.991977Z",
          "iopub.status.idle": "2023-09-19T05:32:21.225979Z",
          "shell.execute_reply.started": "2023-09-19T05:32:20.991949Z",
          "shell.execute_reply": "2023-09-19T05:32:21.224784Z"
        },
        "trusted": true,
        "id": "qs43nvS475MP"
      },
      "execution_count": null,
      "outputs": []
    },
    {
      "cell_type": "code",
      "source": [
        "# comparing both the age and the salary data\n",
        "\n",
        "plt.figure(figsize=(8,5))\n",
        "sns.histplot(x='age',hue='salary',kde=True,data=df,bins=25)"
      ],
      "metadata": {
        "execution": {
          "iopub.status.busy": "2023-09-19T05:32:21.227213Z",
          "iopub.execute_input": "2023-09-19T05:32:21.227523Z",
          "iopub.status.idle": "2023-09-19T05:32:22.031613Z",
          "shell.execute_reply.started": "2023-09-19T05:32:21.227495Z",
          "shell.execute_reply": "2023-09-19T05:32:22.030478Z"
        },
        "trusted": true,
        "id": "6UTDKAtK75MP"
      },
      "execution_count": null,
      "outputs": []
    },
    {
      "cell_type": "code",
      "source": [
        "plt.figure(figsize=(9,5))\n",
        "sns.boxplot(x='salary',y='age',data=df)"
      ],
      "metadata": {
        "execution": {
          "iopub.status.busy": "2023-09-19T05:32:22.033756Z",
          "iopub.execute_input": "2023-09-19T05:32:22.034544Z",
          "iopub.status.idle": "2023-09-19T05:32:22.267784Z",
          "shell.execute_reply.started": "2023-09-19T05:32:22.034500Z",
          "shell.execute_reply": "2023-09-19T05:32:22.266688Z"
        },
        "trusted": true,
        "id": "jwcgayoL75MP"
      },
      "execution_count": null,
      "outputs": []
    },
    {
      "cell_type": "code",
      "source": [
        "df.groupby('salary')['age'].describe()"
      ],
      "metadata": {
        "execution": {
          "iopub.status.busy": "2023-09-19T05:32:22.269285Z",
          "iopub.execute_input": "2023-09-19T05:32:22.270415Z",
          "iopub.status.idle": "2023-09-19T05:32:22.302786Z",
          "shell.execute_reply.started": "2023-09-19T05:32:22.270362Z",
          "shell.execute_reply": "2023-09-19T05:32:22.301799Z"
        },
        "trusted": true,
        "id": "N93zC9gI75MP"
      },
      "execution_count": null,
      "outputs": []
    },
    {
      "cell_type": "markdown",
      "source": [
        "#### Result : The mean and median age of the high-income group is higher than the low-income group. It means the older generation possesses more wealth than the young."
      ],
      "metadata": {
        "id": "AsYjCGvJ75MP"
      }
    },
    {
      "cell_type": "markdown",
      "source": [
        "## fnlwgt\n",
        "\n",
        "#### check the box plot to see the extreme values"
      ],
      "metadata": {
        "id": "qicKmYcI75MP"
      }
    },
    {
      "cell_type": "code",
      "source": [
        "plt.figure(figsize=(8,5))\n",
        "sns.kdeplot(x='fnlwgt',data=df,fill=True)"
      ],
      "metadata": {
        "execution": {
          "iopub.status.busy": "2023-09-19T05:32:22.304141Z",
          "iopub.execute_input": "2023-09-19T05:32:22.304543Z",
          "iopub.status.idle": "2023-09-19T05:32:22.943589Z",
          "shell.execute_reply.started": "2023-09-19T05:32:22.304514Z",
          "shell.execute_reply": "2023-09-19T05:32:22.942367Z"
        },
        "trusted": true,
        "id": "kCKevkXV75MP"
      },
      "execution_count": null,
      "outputs": []
    },
    {
      "cell_type": "code",
      "source": [
        "plt.figure(figsize=(8,5))\n",
        "sns.boxplot(x='fnlwgt',data=df)"
      ],
      "metadata": {
        "execution": {
          "iopub.status.busy": "2023-09-19T05:32:22.945472Z",
          "iopub.execute_input": "2023-09-19T05:32:22.945882Z",
          "iopub.status.idle": "2023-09-19T05:32:23.155672Z",
          "shell.execute_reply.started": "2023-09-19T05:32:22.945850Z",
          "shell.execute_reply": "2023-09-19T05:32:23.154506Z"
        },
        "trusted": true,
        "id": "YV59Wh6p75MP"
      },
      "execution_count": null,
      "outputs": []
    },
    {
      "cell_type": "code",
      "source": [
        "plt.figure(figsize=(8,5))\n",
        "sns.boxplot(x='salary',y='fnlwgt',data=df)"
      ],
      "metadata": {
        "execution": {
          "iopub.status.busy": "2023-09-19T05:32:23.157330Z",
          "iopub.execute_input": "2023-09-19T05:32:23.157748Z",
          "iopub.status.idle": "2023-09-19T05:32:23.407786Z",
          "shell.execute_reply.started": "2023-09-19T05:32:23.157707Z",
          "shell.execute_reply": "2023-09-19T05:32:23.406628Z"
        },
        "trusted": true,
        "id": "_Ye91Oc675MP"
      },
      "execution_count": null,
      "outputs": []
    },
    {
      "cell_type": "code",
      "source": [
        "plt.figure(figsize=(8,5))\n",
        "sns.histplot(x='fnlwgt',hue='salary',data=df,kde=True,bins=25)"
      ],
      "metadata": {
        "execution": {
          "iopub.status.busy": "2023-09-19T05:32:23.410071Z",
          "iopub.execute_input": "2023-09-19T05:32:23.410540Z",
          "iopub.status.idle": "2023-09-19T05:32:24.300234Z",
          "shell.execute_reply.started": "2023-09-19T05:32:23.410486Z",
          "shell.execute_reply": "2023-09-19T05:32:24.299179Z"
        },
        "trusted": true,
        "id": "lOkg7ZOO75MP"
      },
      "execution_count": null,
      "outputs": []
    },
    {
      "cell_type": "code",
      "source": [
        "df.groupby('salary')['fnlwgt'].describe()"
      ],
      "metadata": {
        "execution": {
          "iopub.status.busy": "2023-09-19T05:32:24.301377Z",
          "iopub.execute_input": "2023-09-19T05:32:24.301774Z",
          "iopub.status.idle": "2023-09-19T05:32:24.334392Z",
          "shell.execute_reply.started": "2023-09-19T05:32:24.301740Z",
          "shell.execute_reply": "2023-09-19T05:32:24.333224Z"
        },
        "trusted": true,
        "id": "p_jn8xun75MQ"
      },
      "execution_count": null,
      "outputs": []
    },
    {
      "cell_type": "markdown",
      "source": [
        "#### Result : There is no significant difference between high and low-income groups according to the \"fnlwgt\" feature."
      ],
      "metadata": {
        "id": "LKwznA5d75MR"
      }
    },
    {
      "cell_type": "markdown",
      "source": [
        "## Capital_gain"
      ],
      "metadata": {
        "id": "idcYfoMO75MR"
      }
    },
    {
      "cell_type": "code",
      "source": [
        "plt.figure(figsize=(8,5))\n",
        "sns.kdeplot(x='capital_gain',data=df,fill=True)"
      ],
      "metadata": {
        "execution": {
          "iopub.status.busy": "2023-09-19T05:32:24.335873Z",
          "iopub.execute_input": "2023-09-19T05:32:24.336294Z",
          "iopub.status.idle": "2023-09-19T05:32:24.899093Z",
          "shell.execute_reply.started": "2023-09-19T05:32:24.336250Z",
          "shell.execute_reply": "2023-09-19T05:32:24.897945Z"
        },
        "trusted": true,
        "id": "Ac1j-aaL75MR"
      },
      "execution_count": null,
      "outputs": []
    },
    {
      "cell_type": "code",
      "source": [
        "plt.figure(figsize=(8,5))\n",
        "sns.boxplot(x='capital_gain',data=df)"
      ],
      "metadata": {
        "execution": {
          "iopub.status.busy": "2023-09-19T05:32:24.900482Z",
          "iopub.execute_input": "2023-09-19T05:32:24.900842Z",
          "iopub.status.idle": "2023-09-19T05:32:25.139969Z",
          "shell.execute_reply.started": "2023-09-19T05:32:24.900810Z",
          "shell.execute_reply": "2023-09-19T05:32:25.138671Z"
        },
        "trusted": true,
        "id": "SX8gE8U775MS"
      },
      "execution_count": null,
      "outputs": []
    },
    {
      "cell_type": "code",
      "source": [
        "plt.figure(figsize=(8,5))\n",
        "sns.boxplot(x='salary',y='capital_gain',data=df)"
      ],
      "metadata": {
        "execution": {
          "iopub.status.busy": "2023-09-19T05:32:25.143511Z",
          "iopub.execute_input": "2023-09-19T05:32:25.143897Z",
          "iopub.status.idle": "2023-09-19T05:32:25.446744Z",
          "shell.execute_reply.started": "2023-09-19T05:32:25.143865Z",
          "shell.execute_reply": "2023-09-19T05:32:25.445651Z"
        },
        "trusted": true,
        "id": "eCB3vgFT75MS"
      },
      "execution_count": null,
      "outputs": []
    },
    {
      "cell_type": "code",
      "source": [
        "plt.figure(figsize=(8,5))\n",
        "sns.histplot(x='capital_gain',hue='salary',data=df,kde=True,bins=15)"
      ],
      "metadata": {
        "execution": {
          "iopub.status.busy": "2023-09-19T05:32:25.448125Z",
          "iopub.execute_input": "2023-09-19T05:32:25.448460Z",
          "iopub.status.idle": "2023-09-19T05:32:26.279844Z",
          "shell.execute_reply.started": "2023-09-19T05:32:25.448430Z",
          "shell.execute_reply": "2023-09-19T05:32:26.278654Z"
        },
        "trusted": true,
        "id": "MQdLbnBc75MS"
      },
      "execution_count": null,
      "outputs": []
    },
    {
      "cell_type": "code",
      "source": [
        "df.groupby('salary')['capital_gain'].describe()"
      ],
      "metadata": {
        "execution": {
          "iopub.status.busy": "2023-09-19T05:32:26.281348Z",
          "iopub.execute_input": "2023-09-19T05:32:26.281685Z",
          "iopub.status.idle": "2023-09-19T05:32:26.310048Z",
          "shell.execute_reply.started": "2023-09-19T05:32:26.281655Z",
          "shell.execute_reply": "2023-09-19T05:32:26.308936Z"
        },
        "trusted": true,
        "id": "tKTj5oDH75MT"
      },
      "execution_count": null,
      "outputs": []
    },
    {
      "cell_type": "markdown",
      "source": [
        "#### Check the statistical values by \"salary\" levels for capital_gain not equal the zero"
      ],
      "metadata": {
        "id": "oy8-UJKt75MT"
      }
    },
    {
      "cell_type": "code",
      "source": [
        "df.loc[df['capital_gain'] != 0].groupby('salary')['capital_gain'].describe()"
      ],
      "metadata": {
        "execution": {
          "iopub.status.busy": "2023-09-19T05:32:26.312356Z",
          "iopub.execute_input": "2023-09-19T05:32:26.312824Z",
          "iopub.status.idle": "2023-09-19T05:32:26.339004Z",
          "shell.execute_reply.started": "2023-09-19T05:32:26.312784Z",
          "shell.execute_reply": "2023-09-19T05:32:26.338094Z"
        },
        "trusted": true,
        "id": "3d6KYdZO75MT"
      },
      "execution_count": null,
      "outputs": []
    },
    {
      "cell_type": "markdown",
      "source": [
        "#### Result : The \"capital-gain\" feature has not provided very meaningful insights. Nevertheless, we can say that the more \"capital-gain\", the more \"high-income\"."
      ],
      "metadata": {
        "id": "kNn96UG175MT"
      }
    },
    {
      "cell_type": "markdown",
      "source": [
        "## Capital_loss"
      ],
      "metadata": {
        "id": "T0eviLgm75MT"
      }
    },
    {
      "cell_type": "code",
      "source": [
        "plt.figure(figsize=(8,5))\n",
        "sns.kdeplot(x='capital_loss',data=df,fill=True)"
      ],
      "metadata": {
        "execution": {
          "iopub.status.busy": "2023-09-19T05:32:26.339942Z",
          "iopub.execute_input": "2023-09-19T05:32:26.340239Z",
          "iopub.status.idle": "2023-09-19T05:32:26.883532Z",
          "shell.execute_reply.started": "2023-09-19T05:32:26.340212Z",
          "shell.execute_reply": "2023-09-19T05:32:26.882385Z"
        },
        "trusted": true,
        "id": "ORpXp9xp75MT"
      },
      "execution_count": null,
      "outputs": []
    },
    {
      "cell_type": "code",
      "source": [
        "plt.figure(figsize=(8,5))\n",
        "sns.boxplot(x='capital_loss',data=df)"
      ],
      "metadata": {
        "execution": {
          "iopub.status.busy": "2023-09-19T05:32:26.885151Z",
          "iopub.execute_input": "2023-09-19T05:32:26.885573Z",
          "iopub.status.idle": "2023-09-19T05:32:27.118362Z",
          "shell.execute_reply.started": "2023-09-19T05:32:26.885533Z",
          "shell.execute_reply": "2023-09-19T05:32:27.117258Z"
        },
        "trusted": true,
        "id": "TOB4TN_x75MT"
      },
      "execution_count": null,
      "outputs": []
    },
    {
      "cell_type": "code",
      "source": [
        "plt.figure(figsize=(8,5))\n",
        "sns.histplot(x='capital_loss',hue='salary',data=df,kde=True,bins=20)"
      ],
      "metadata": {
        "execution": {
          "iopub.status.busy": "2023-09-19T05:32:27.119868Z",
          "iopub.execute_input": "2023-09-19T05:32:27.121030Z",
          "iopub.status.idle": "2023-09-19T05:32:27.963293Z",
          "shell.execute_reply.started": "2023-09-19T05:32:27.120993Z",
          "shell.execute_reply": "2023-09-19T05:32:27.962346Z"
        },
        "trusted": true,
        "id": "ve3utAJw75MU"
      },
      "execution_count": null,
      "outputs": []
    },
    {
      "cell_type": "code",
      "source": [
        "plt.figure(figsize=(8,5))\n",
        "sns.boxplot(x='salary',y='capital_loss',data=df)"
      ],
      "metadata": {
        "execution": {
          "iopub.status.busy": "2023-09-19T05:32:27.975216Z",
          "iopub.execute_input": "2023-09-19T05:32:27.976213Z",
          "iopub.status.idle": "2023-09-19T05:32:28.258536Z",
          "shell.execute_reply.started": "2023-09-19T05:32:27.976173Z",
          "shell.execute_reply": "2023-09-19T05:32:28.257439Z"
        },
        "trusted": true,
        "id": "O9N-VS_G75MU"
      },
      "execution_count": null,
      "outputs": []
    },
    {
      "cell_type": "code",
      "source": [
        "df.groupby('salary')['capital_loss'].describe()"
      ],
      "metadata": {
        "execution": {
          "iopub.status.busy": "2023-09-19T05:32:28.260084Z",
          "iopub.execute_input": "2023-09-19T05:32:28.260384Z",
          "iopub.status.idle": "2023-09-19T05:32:28.287428Z",
          "shell.execute_reply.started": "2023-09-19T05:32:28.260356Z",
          "shell.execute_reply": "2023-09-19T05:32:28.286297Z"
        },
        "trusted": true,
        "id": "pQ7P6s0P75MU"
      },
      "execution_count": null,
      "outputs": []
    },
    {
      "cell_type": "code",
      "source": [
        "df.loc[df['capital_loss']!=0].groupby('salary')['capital_loss'].describe()"
      ],
      "metadata": {
        "execution": {
          "iopub.status.busy": "2023-09-19T05:32:28.288849Z",
          "iopub.execute_input": "2023-09-19T05:32:28.289264Z",
          "iopub.status.idle": "2023-09-19T05:32:28.319934Z",
          "shell.execute_reply.started": "2023-09-19T05:32:28.289224Z",
          "shell.execute_reply": "2023-09-19T05:32:28.318703Z"
        },
        "trusted": true,
        "id": "SI5xJRy775MU"
      },
      "execution_count": null,
      "outputs": []
    },
    {
      "cell_type": "markdown",
      "source": [
        "#### Result : there is no significant difference between high and low_income groups according to the capital_loss"
      ],
      "metadata": {
        "id": "QrPyVFas75MU"
      }
    },
    {
      "cell_type": "markdown",
      "source": [
        "## Hours_per_week\n"
      ],
      "metadata": {
        "id": "mbGxzyKh75MU"
      }
    },
    {
      "cell_type": "code",
      "source": [
        "plt.figure(figsize=(8,5))\n",
        "sns.kdeplot(x='hours_per_week',data=df,fill=True)"
      ],
      "metadata": {
        "execution": {
          "iopub.status.busy": "2023-09-19T05:32:28.321530Z",
          "iopub.execute_input": "2023-09-19T05:32:28.322060Z",
          "iopub.status.idle": "2023-09-19T05:32:28.836691Z",
          "shell.execute_reply.started": "2023-09-19T05:32:28.322019Z",
          "shell.execute_reply": "2023-09-19T05:32:28.835570Z"
        },
        "trusted": true,
        "id": "1MqqtBFu75MU"
      },
      "execution_count": null,
      "outputs": []
    },
    {
      "cell_type": "code",
      "source": [
        "plt.figure(figsize=(8,5))\n",
        "sns.boxplot(x='hours_per_week',data=df)"
      ],
      "metadata": {
        "execution": {
          "iopub.status.busy": "2023-09-19T05:32:28.838168Z",
          "iopub.execute_input": "2023-09-19T05:32:28.838728Z",
          "iopub.status.idle": "2023-09-19T05:32:29.101261Z",
          "shell.execute_reply.started": "2023-09-19T05:32:28.838696Z",
          "shell.execute_reply": "2023-09-19T05:32:29.100196Z"
        },
        "trusted": true,
        "id": "LXJiKvWR75MV"
      },
      "execution_count": null,
      "outputs": []
    },
    {
      "cell_type": "code",
      "source": [
        "plt.figure(figsize=(8,5))\n",
        "sns.histplot(x='hours_per_week',hue='salary',data=df,kde=True,bins=20)"
      ],
      "metadata": {
        "execution": {
          "iopub.status.busy": "2023-09-19T05:32:29.102394Z",
          "iopub.execute_input": "2023-09-19T05:32:29.102723Z",
          "iopub.status.idle": "2023-09-19T05:32:29.934446Z",
          "shell.execute_reply.started": "2023-09-19T05:32:29.102694Z",
          "shell.execute_reply": "2023-09-19T05:32:29.933359Z"
        },
        "trusted": true,
        "id": "zEjPG0CJ75MV"
      },
      "execution_count": null,
      "outputs": []
    },
    {
      "cell_type": "code",
      "source": [
        "plt.figure(figsize=(8,5))\n",
        "sns.boxplot(x='salary',y='hours_per_week',data=df)"
      ],
      "metadata": {
        "execution": {
          "iopub.status.busy": "2023-09-19T05:32:29.936113Z",
          "iopub.execute_input": "2023-09-19T05:32:29.936847Z",
          "iopub.status.idle": "2023-09-19T05:32:30.191564Z",
          "shell.execute_reply.started": "2023-09-19T05:32:29.936800Z",
          "shell.execute_reply": "2023-09-19T05:32:30.190305Z"
        },
        "trusted": true,
        "id": "CElEmJ9R75MV"
      },
      "execution_count": null,
      "outputs": []
    },
    {
      "cell_type": "code",
      "source": [
        "df.groupby('salary')['hours_per_week'].describe()"
      ],
      "metadata": {
        "execution": {
          "iopub.status.busy": "2023-09-19T05:32:30.193264Z",
          "iopub.execute_input": "2023-09-19T05:32:30.193634Z",
          "iopub.status.idle": "2023-09-19T05:32:30.222761Z",
          "shell.execute_reply.started": "2023-09-19T05:32:30.193579Z",
          "shell.execute_reply": "2023-09-19T05:32:30.221431Z"
        },
        "trusted": true,
        "id": "LqglI2PA75MV"
      },
      "execution_count": null,
      "outputs": []
    },
    {
      "cell_type": "markdown",
      "source": [
        "#### Result : To be in a high-income group, almost at least 40 hours working per week is required. Most of those who work less than 40 hours per week are in the low-income group."
      ],
      "metadata": {
        "id": "JlcRXGAf75MV"
      }
    },
    {
      "cell_type": "markdown",
      "source": [
        "## education_num"
      ],
      "metadata": {
        "id": "iLmphLMy75MV"
      }
    },
    {
      "cell_type": "code",
      "source": [
        "plt.figure(figsize=(8,5))\n",
        "sns.kdeplot(x='education_num',data=df,fill=True)"
      ],
      "metadata": {
        "execution": {
          "iopub.status.busy": "2023-09-19T05:32:30.224925Z",
          "iopub.execute_input": "2023-09-19T05:32:30.225379Z",
          "iopub.status.idle": "2023-09-19T05:32:30.762829Z",
          "shell.execute_reply.started": "2023-09-19T05:32:30.225336Z",
          "shell.execute_reply": "2023-09-19T05:32:30.761650Z"
        },
        "trusted": true,
        "id": "yTzRaJG175MV"
      },
      "execution_count": null,
      "outputs": []
    },
    {
      "cell_type": "code",
      "source": [
        "plt.subplots(figsize=(8,5))\n",
        "sns.boxplot(x='education_num',data=df)"
      ],
      "metadata": {
        "execution": {
          "iopub.status.busy": "2023-09-19T05:32:30.764525Z",
          "iopub.execute_input": "2023-09-19T05:32:30.764877Z",
          "iopub.status.idle": "2023-09-19T05:32:31.006122Z",
          "shell.execute_reply.started": "2023-09-19T05:32:30.764846Z",
          "shell.execute_reply": "2023-09-19T05:32:31.004941Z"
        },
        "trusted": true,
        "id": "bxeAojBS75MV"
      },
      "execution_count": null,
      "outputs": []
    },
    {
      "cell_type": "code",
      "source": [
        "plt.subplots(figsize=(8,5))\n",
        "sns.kdeplot(x='education_num',data=df,hue='salary',fill=True)"
      ],
      "metadata": {
        "execution": {
          "iopub.status.busy": "2023-09-19T05:32:31.007378Z",
          "iopub.execute_input": "2023-09-19T05:32:31.007742Z",
          "iopub.status.idle": "2023-09-19T05:32:31.661561Z",
          "shell.execute_reply.started": "2023-09-19T05:32:31.007711Z",
          "shell.execute_reply": "2023-09-19T05:32:31.660330Z"
        },
        "trusted": true,
        "id": "sBj9O3Sv75MV"
      },
      "execution_count": null,
      "outputs": []
    },
    {
      "cell_type": "code",
      "source": [
        "plt.figure(figsize=(8,5))\n",
        "sns.boxplot(x='salary',data=df,y='education_num')"
      ],
      "metadata": {
        "execution": {
          "iopub.status.busy": "2023-09-19T05:32:31.663042Z",
          "iopub.execute_input": "2023-09-19T05:32:31.663407Z",
          "iopub.status.idle": "2023-09-19T05:32:31.987762Z",
          "shell.execute_reply.started": "2023-09-19T05:32:31.663375Z",
          "shell.execute_reply": "2023-09-19T05:32:31.986701Z"
        },
        "trusted": true,
        "id": "xBaMNbii75MW"
      },
      "execution_count": null,
      "outputs": []
    },
    {
      "cell_type": "code",
      "source": [
        "df.groupby('education_num')['salary'].value_counts()"
      ],
      "metadata": {
        "execution": {
          "iopub.status.busy": "2023-09-19T05:32:31.990530Z",
          "iopub.execute_input": "2023-09-19T05:32:31.990996Z",
          "iopub.status.idle": "2023-09-19T05:32:32.012546Z",
          "shell.execute_reply.started": "2023-09-19T05:32:31.990952Z",
          "shell.execute_reply": "2023-09-19T05:32:32.011362Z"
        },
        "trusted": true,
        "id": "Oh5eGsiI75MW"
      },
      "execution_count": null,
      "outputs": []
    },
    {
      "cell_type": "markdown",
      "source": [
        "## Categorical Featuers\n",
        "\n",
        "## Education"
      ],
      "metadata": {
        "id": "EGJXYWWm75MW"
      }
    },
    {
      "cell_type": "code",
      "source": [
        "df.education.unique()"
      ],
      "metadata": {
        "execution": {
          "iopub.status.busy": "2023-09-19T05:32:32.013782Z",
          "iopub.execute_input": "2023-09-19T05:32:32.014097Z",
          "iopub.status.idle": "2023-09-19T05:32:32.022933Z",
          "shell.execute_reply.started": "2023-09-19T05:32:32.014069Z",
          "shell.execute_reply": "2023-09-19T05:32:32.021844Z"
        },
        "trusted": true,
        "id": "Ma5s5W_375MW"
      },
      "execution_count": null,
      "outputs": []
    },
    {
      "cell_type": "code",
      "source": [
        "df.education.value_counts(dropna=False)"
      ],
      "metadata": {
        "execution": {
          "iopub.status.busy": "2023-09-19T05:32:32.024326Z",
          "iopub.execute_input": "2023-09-19T05:32:32.024731Z",
          "iopub.status.idle": "2023-09-19T05:32:32.043875Z",
          "shell.execute_reply.started": "2023-09-19T05:32:32.024698Z",
          "shell.execute_reply": "2023-09-19T05:32:32.042695Z"
        },
        "trusted": true,
        "id": "y9VPhzDt75MW"
      },
      "execution_count": null,
      "outputs": []
    },
    {
      "cell_type": "code",
      "source": [
        "fig,ax = plt.subplots(figsize=(8,5))\n",
        "sns.countplot(x='education',data=df,color='skyblue')\n",
        "ax.set_xticklabels(df.education.unique(),rotation=90);"
      ],
      "metadata": {
        "execution": {
          "iopub.status.busy": "2023-09-19T05:32:32.045161Z",
          "iopub.execute_input": "2023-09-19T05:32:32.045464Z",
          "iopub.status.idle": "2023-09-19T05:32:32.471892Z",
          "shell.execute_reply.started": "2023-09-19T05:32:32.045438Z",
          "shell.execute_reply": "2023-09-19T05:32:32.470899Z"
        },
        "trusted": true,
        "id": "4RvJcMGx75MW"
      },
      "execution_count": null,
      "outputs": []
    },
    {
      "cell_type": "markdown",
      "source": [
        "### Check the count of person in each \"salary\" levels by the feature education and visualize them with countplot"
      ],
      "metadata": {
        "id": "Wgtf3R9Z75MW"
      }
    },
    {
      "cell_type": "code",
      "source": [
        "fig,ax = plt.subplots(figsize=(8,5))\n",
        "sns.countplot(x='education',data=df,hue='salary')\n",
        "ax.set_xticklabels(df.education.unique(),rotation=90);"
      ],
      "metadata": {
        "execution": {
          "iopub.status.busy": "2023-09-19T05:32:32.472954Z",
          "iopub.execute_input": "2023-09-19T05:32:32.473670Z",
          "iopub.status.idle": "2023-09-19T05:32:33.217955Z",
          "shell.execute_reply.started": "2023-09-19T05:32:32.473639Z",
          "shell.execute_reply": "2023-09-19T05:32:33.216673Z"
        },
        "trusted": true,
        "id": "NDS76i3F75MW"
      },
      "execution_count": null,
      "outputs": []
    },
    {
      "cell_type": "code",
      "source": [
        "df.groupby('education')['salary'].value_counts(dropna=False)"
      ],
      "metadata": {
        "execution": {
          "iopub.status.busy": "2023-09-19T05:32:33.219084Z",
          "iopub.execute_input": "2023-09-19T05:32:33.219427Z",
          "iopub.status.idle": "2023-09-19T05:32:33.241807Z",
          "shell.execute_reply.started": "2023-09-19T05:32:33.219395Z",
          "shell.execute_reply": "2023-09-19T05:32:33.240549Z"
        },
        "trusted": true,
        "id": "SG-JQ_NC75MX"
      },
      "execution_count": null,
      "outputs": []
    },
    {
      "cell_type": "markdown",
      "source": [
        "## To plot a piechart\n",
        "\n",
        "### Decrease the number of categories in \"education\" feature as low, medium, and high level and create a new feature with this new categorical data."
      ],
      "metadata": {
        "id": "HECM-bhZ75MX"
      }
    },
    {
      "cell_type": "code",
      "source": [
        "def mapping_education(x):\n",
        "    if x in [\"Preschool\", \"1st-4th\", \"5th-6th\", \"7th-8th\", \"9th\", \"10th\", \"11th\", \"12th\"]:\n",
        "             return \"low_level_grade\"\n",
        "    if x in [\"HS-grad\", \"Some-college\", \"Assoc-voc\", \"Assoc-acdm\"]:\n",
        "             return \"medium_level_grades\"\n",
        "    if x in [\"Bachelors\", \"Masters\", \"Prof-school\", \"Doctorate\"]:\n",
        "             return \"high_level_grade\""
      ],
      "metadata": {
        "execution": {
          "iopub.status.busy": "2023-09-19T05:32:33.243333Z",
          "iopub.execute_input": "2023-09-19T05:32:33.243946Z",
          "iopub.status.idle": "2023-09-19T05:32:33.250327Z",
          "shell.execute_reply.started": "2023-09-19T05:32:33.243912Z",
          "shell.execute_reply": "2023-09-19T05:32:33.249243Z"
        },
        "trusted": true,
        "id": "pWk4CQvV75MX"
      },
      "execution_count": null,
      "outputs": []
    },
    {
      "cell_type": "code",
      "source": [
        "df.education.apply(mapping_education).value_counts()"
      ],
      "metadata": {
        "execution": {
          "iopub.status.busy": "2023-09-19T05:32:33.251568Z",
          "iopub.execute_input": "2023-09-19T05:32:33.251979Z",
          "iopub.status.idle": "2023-09-19T05:32:33.290140Z",
          "shell.execute_reply.started": "2023-09-19T05:32:33.251935Z",
          "shell.execute_reply": "2023-09-19T05:32:33.288883Z"
        },
        "trusted": true,
        "id": "0-pPkFVN75Ma"
      },
      "execution_count": null,
      "outputs": []
    },
    {
      "cell_type": "code",
      "source": [
        "df['education_summary']=df.education.apply(mapping_education)\n",
        "df.head(2)"
      ],
      "metadata": {
        "execution": {
          "iopub.status.busy": "2023-09-19T05:32:33.291534Z",
          "iopub.execute_input": "2023-09-19T05:32:33.291968Z",
          "iopub.status.idle": "2023-09-19T05:32:33.329985Z",
          "shell.execute_reply.started": "2023-09-19T05:32:33.291925Z",
          "shell.execute_reply": "2023-09-19T05:32:33.328920Z"
        },
        "trusted": true,
        "id": "cvpHkKD875Ma"
      },
      "execution_count": null,
      "outputs": []
    },
    {
      "cell_type": "code",
      "source": [
        "plt.subplots(figsize=(8,5))\n",
        "edu_lev = sns.countplot(x='education_summary',data=df)"
      ],
      "metadata": {
        "execution": {
          "iopub.status.busy": "2023-09-19T05:32:33.331329Z",
          "iopub.execute_input": "2023-09-19T05:32:33.331781Z",
          "iopub.status.idle": "2023-09-19T05:32:33.639697Z",
          "shell.execute_reply.started": "2023-09-19T05:32:33.331748Z",
          "shell.execute_reply": "2023-09-19T05:32:33.638691Z"
        },
        "trusted": true,
        "id": "ROnYXxis75Ma"
      },
      "execution_count": null,
      "outputs": []
    },
    {
      "cell_type": "code",
      "source": [
        "plt.subplots(figsize=(8,5))\n",
        "sns.countplot(x='education_summary',data=df,hue='salary')"
      ],
      "metadata": {
        "execution": {
          "iopub.status.busy": "2023-09-19T05:32:33.641368Z",
          "iopub.execute_input": "2023-09-19T05:32:33.642127Z",
          "iopub.status.idle": "2023-09-19T05:32:34.033823Z",
          "shell.execute_reply.started": "2023-09-19T05:32:33.642080Z",
          "shell.execute_reply": "2023-09-19T05:32:34.032695Z"
        },
        "trusted": true,
        "id": "1pcQaQu675Ma"
      },
      "execution_count": null,
      "outputs": []
    },
    {
      "cell_type": "code",
      "source": [
        "df.salary.value_counts()"
      ],
      "metadata": {
        "execution": {
          "iopub.status.busy": "2023-09-19T05:32:34.035782Z",
          "iopub.execute_input": "2023-09-19T05:32:34.036539Z",
          "iopub.status.idle": "2023-09-19T05:32:34.051120Z",
          "shell.execute_reply.started": "2023-09-19T05:32:34.036495Z",
          "shell.execute_reply": "2023-09-19T05:32:34.049642Z"
        },
        "trusted": true,
        "id": "Xnahtzoo75Mb"
      },
      "execution_count": null,
      "outputs": []
    },
    {
      "cell_type": "code",
      "source": [
        "df.groupby('education_summary')['salary'].value_counts()"
      ],
      "metadata": {
        "execution": {
          "iopub.status.busy": "2023-09-19T05:32:34.052584Z",
          "iopub.execute_input": "2023-09-19T05:32:34.053055Z",
          "iopub.status.idle": "2023-09-19T05:32:34.075204Z",
          "shell.execute_reply.started": "2023-09-19T05:32:34.053011Z",
          "shell.execute_reply": "2023-09-19T05:32:34.074025Z"
        },
        "trusted": true,
        "id": "NN4uaM2n75Mb"
      },
      "execution_count": null,
      "outputs": []
    },
    {
      "cell_type": "code",
      "source": [
        "(df.groupby('education_summary')['salary']).count()"
      ],
      "metadata": {
        "execution": {
          "iopub.status.busy": "2023-09-19T05:32:34.076670Z",
          "iopub.execute_input": "2023-09-19T05:32:34.077022Z",
          "iopub.status.idle": "2023-09-19T05:32:34.094002Z",
          "shell.execute_reply.started": "2023-09-19T05:32:34.076992Z",
          "shell.execute_reply": "2023-09-19T05:32:34.092864Z"
        },
        "trusted": true,
        "id": "zuP5LJr175Mb"
      },
      "execution_count": null,
      "outputs": []
    },
    {
      "cell_type": "code",
      "source": [
        "percentile = (df.groupby('education_summary')['salary']).value_counts()/ (df.groupby('education_summary')['salary']).count()\n",
        "percentile"
      ],
      "metadata": {
        "execution": {
          "iopub.status.busy": "2023-09-19T05:32:34.095246Z",
          "iopub.execute_input": "2023-09-19T05:32:34.095549Z",
          "iopub.status.idle": "2023-09-19T05:32:34.125173Z",
          "shell.execute_reply.started": "2023-09-19T05:32:34.095522Z",
          "shell.execute_reply": "2023-09-19T05:32:34.124136Z"
        },
        "trusted": true,
        "id": "BCPA6BDZ75Mb"
      },
      "execution_count": null,
      "outputs": []
    },
    {
      "cell_type": "code",
      "source": [
        "high= percentile[:2]\n",
        "high\n"
      ],
      "metadata": {
        "execution": {
          "iopub.status.busy": "2023-09-19T05:32:34.126737Z",
          "iopub.execute_input": "2023-09-19T05:32:34.127880Z",
          "iopub.status.idle": "2023-09-19T05:32:34.136440Z",
          "shell.execute_reply.started": "2023-09-19T05:32:34.127844Z",
          "shell.execute_reply": "2023-09-19T05:32:34.135498Z"
        },
        "trusted": true,
        "id": "doVABfjN75Mb"
      },
      "execution_count": null,
      "outputs": []
    },
    {
      "cell_type": "code",
      "source": [
        "low=percentile[2:4]\n",
        "low"
      ],
      "metadata": {
        "execution": {
          "iopub.status.busy": "2023-09-19T05:32:34.137757Z",
          "iopub.execute_input": "2023-09-19T05:32:34.138106Z",
          "iopub.status.idle": "2023-09-19T05:32:34.152582Z",
          "shell.execute_reply.started": "2023-09-19T05:32:34.138077Z",
          "shell.execute_reply": "2023-09-19T05:32:34.151423Z"
        },
        "trusted": true,
        "id": "M6Uv_7NS75Mb"
      },
      "execution_count": null,
      "outputs": []
    },
    {
      "cell_type": "code",
      "source": [
        "medium=percentile[4:]\n",
        "medium"
      ],
      "metadata": {
        "execution": {
          "iopub.status.busy": "2023-09-19T05:32:34.154213Z",
          "iopub.execute_input": "2023-09-19T05:32:34.154577Z",
          "iopub.status.idle": "2023-09-19T05:32:34.169057Z",
          "shell.execute_reply.started": "2023-09-19T05:32:34.154548Z",
          "shell.execute_reply": "2023-09-19T05:32:34.167868Z"
        },
        "trusted": true,
        "id": "vGYyToFe75Mb"
      },
      "execution_count": null,
      "outputs": []
    },
    {
      "cell_type": "code",
      "source": [
        "fig,(ax1,ax2,ax3) = plt.subplots(ncols=3,figsize=(12,6))\n",
        "ax1.pie(high, labels=['<=50K','>50K'],autopct='%0.1f%%',colors=['lightblue','yellow'])\n",
        "ax1.set_title('high_level_edu',fontsize=10)\n",
        "ax1.set_ylabel('salary')\n",
        "ax2.pie(low, labels=['<=50K','>50K'],autopct='%0.1f%%',colors=['lightblue','yellow'])\n",
        "ax2.set_title('low_level_edu',fontsize=10)\n",
        "ax2.set_ylabel('salary')\n",
        "ax3.pie(medium, labels=['<=50K','>50K'],autopct='%0.1f%%',colors=['lightblue','yellow'])\n",
        "ax3.set_title('medium_level_edu',fontsize=10)\n",
        "ax3.set_ylabel('salary')"
      ],
      "metadata": {
        "execution": {
          "iopub.status.busy": "2023-09-19T05:32:34.170571Z",
          "iopub.execute_input": "2023-09-19T05:32:34.170974Z",
          "iopub.status.idle": "2023-09-19T05:32:34.558962Z",
          "shell.execute_reply.started": "2023-09-19T05:32:34.170943Z",
          "shell.execute_reply": "2023-09-19T05:32:34.558074Z"
        },
        "trusted": true,
        "id": "TFcqr8bM75Mb"
      },
      "execution_count": null,
      "outputs": []
    },
    {
      "cell_type": "markdown",
      "source": [
        "## Martial Status"
      ],
      "metadata": {
        "id": "eJASmHMW75Mc"
      }
    },
    {
      "cell_type": "code",
      "source": [
        "df.marital_status.unique()"
      ],
      "metadata": {
        "execution": {
          "iopub.status.busy": "2023-09-19T05:32:34.560495Z",
          "iopub.execute_input": "2023-09-19T05:32:34.561108Z",
          "iopub.status.idle": "2023-09-19T05:32:34.573517Z",
          "shell.execute_reply.started": "2023-09-19T05:32:34.561060Z",
          "shell.execute_reply": "2023-09-19T05:32:34.572058Z"
        },
        "trusted": true,
        "id": "c8_Pev1P75Mc"
      },
      "execution_count": null,
      "outputs": []
    },
    {
      "cell_type": "code",
      "source": [
        "df.marital_status.value_counts()"
      ],
      "metadata": {
        "execution": {
          "iopub.status.busy": "2023-09-19T05:32:34.575132Z",
          "iopub.execute_input": "2023-09-19T05:32:34.575471Z",
          "iopub.status.idle": "2023-09-19T05:32:34.590005Z",
          "shell.execute_reply.started": "2023-09-19T05:32:34.575441Z",
          "shell.execute_reply": "2023-09-19T05:32:34.589193Z"
        },
        "trusted": true,
        "id": "cMC-gBgU75Mc"
      },
      "execution_count": null,
      "outputs": []
    },
    {
      "cell_type": "code",
      "source": [
        "fig,ax = plt.subplots(figsize=(8,5))\n",
        "sns.countplot(x='marital_status',data=df)\n",
        "ax.set_xticklabels(df.marital_status.unique(),rotation=90);"
      ],
      "metadata": {
        "execution": {
          "iopub.status.busy": "2023-09-19T05:32:34.591407Z",
          "iopub.execute_input": "2023-09-19T05:32:34.591756Z",
          "iopub.status.idle": "2023-09-19T05:32:34.971388Z",
          "shell.execute_reply.started": "2023-09-19T05:32:34.591728Z",
          "shell.execute_reply": "2023-09-19T05:32:34.970101Z"
        },
        "trusted": true,
        "id": "mcMTm-ZN75Mc"
      },
      "execution_count": null,
      "outputs": []
    },
    {
      "cell_type": "code",
      "source": [
        "fig,ax = plt.subplots(figsize=(8,5))\n",
        "sns.countplot(x='marital_status',data=df,hue='salary')\n",
        "ax.set_xticklabels(df.marital_status.unique(),rotation=90);"
      ],
      "metadata": {
        "execution": {
          "iopub.status.busy": "2023-09-19T05:32:34.973226Z",
          "iopub.execute_input": "2023-09-19T05:32:34.973990Z",
          "iopub.status.idle": "2023-09-19T05:32:35.421089Z",
          "shell.execute_reply.started": "2023-09-19T05:32:34.973947Z",
          "shell.execute_reply": "2023-09-19T05:32:35.419917Z"
        },
        "trusted": true,
        "id": "olu4fIMn75Mc"
      },
      "execution_count": null,
      "outputs": []
    },
    {
      "cell_type": "code",
      "source": [
        "def marital_arranging(x):\n",
        "    if x in ['Married-civ-spouse','Married-spouse-absent','Married-AF-spouse']:\n",
        "        return 'Married'\n",
        "    if x in ['Divorced','Separated','Widowed']:\n",
        "        return 'Divorced'\n",
        "    if x in ['Never-married']:\n",
        "        return 'Never Married'"
      ],
      "metadata": {
        "execution": {
          "iopub.status.busy": "2023-09-19T05:32:35.422755Z",
          "iopub.execute_input": "2023-09-19T05:32:35.423194Z",
          "iopub.status.idle": "2023-09-19T05:32:35.429895Z",
          "shell.execute_reply.started": "2023-09-19T05:32:35.423152Z",
          "shell.execute_reply": "2023-09-19T05:32:35.428671Z"
        },
        "trusted": true,
        "id": "6tcTiTOA75Mc"
      },
      "execution_count": null,
      "outputs": []
    },
    {
      "cell_type": "code",
      "source": [
        "df['Marital_Status']=df.marital_status.apply(marital_arranging)"
      ],
      "metadata": {
        "execution": {
          "iopub.status.busy": "2023-09-19T05:32:35.431125Z",
          "iopub.execute_input": "2023-09-19T05:32:35.431433Z",
          "iopub.status.idle": "2023-09-19T05:32:35.459009Z",
          "shell.execute_reply.started": "2023-09-19T05:32:35.431405Z",
          "shell.execute_reply": "2023-09-19T05:32:35.457832Z"
        },
        "trusted": true,
        "id": "TjODDNW175Mc"
      },
      "execution_count": null,
      "outputs": []
    },
    {
      "cell_type": "code",
      "source": [
        "fig,ax = plt.subplots(figsize=(8,5))\n",
        "sns.countplot(x='Marital_Status',data=df)\n",
        "ax.set_xticklabels(df.Marital_Status.unique(),rotation=90);"
      ],
      "metadata": {
        "execution": {
          "iopub.status.busy": "2023-09-19T05:32:35.462885Z",
          "iopub.execute_input": "2023-09-19T05:32:35.463246Z",
          "iopub.status.idle": "2023-09-19T05:32:35.780654Z",
          "shell.execute_reply.started": "2023-09-19T05:32:35.463215Z",
          "shell.execute_reply": "2023-09-19T05:32:35.779473Z"
        },
        "trusted": true,
        "id": "Maq-7Ro675Mc"
      },
      "execution_count": null,
      "outputs": []
    },
    {
      "cell_type": "code",
      "source": [
        "fig,ax = plt.subplots(figsize=(8,5))\n",
        "sns.countplot(x='Marital_Status',data=df,hue='salary')\n",
        "ax.set_xticklabels(df.Marital_Status.unique(),rotation=90);"
      ],
      "metadata": {
        "execution": {
          "iopub.status.busy": "2023-09-19T05:32:35.782142Z",
          "iopub.execute_input": "2023-09-19T05:32:35.782503Z",
          "iopub.status.idle": "2023-09-19T05:32:36.156493Z",
          "shell.execute_reply.started": "2023-09-19T05:32:35.782471Z",
          "shell.execute_reply": "2023-09-19T05:32:36.155379Z"
        },
        "trusted": true,
        "id": "55plswy975Md"
      },
      "execution_count": null,
      "outputs": []
    },
    {
      "cell_type": "code",
      "source": [
        "df.Marital_Status.value_counts()"
      ],
      "metadata": {
        "execution": {
          "iopub.status.busy": "2023-09-19T05:32:36.157674Z",
          "iopub.execute_input": "2023-09-19T05:32:36.157989Z",
          "iopub.status.idle": "2023-09-19T05:32:36.171704Z",
          "shell.execute_reply.started": "2023-09-19T05:32:36.157962Z",
          "shell.execute_reply": "2023-09-19T05:32:36.170470Z"
        },
        "trusted": true,
        "id": "4XXHCIEI75Md"
      },
      "execution_count": null,
      "outputs": []
    },
    {
      "cell_type": "code",
      "source": [
        "df.groupby('Marital_Status')['salary'].value_counts()"
      ],
      "metadata": {
        "execution": {
          "iopub.status.busy": "2023-09-19T05:32:36.173052Z",
          "iopub.execute_input": "2023-09-19T05:32:36.173387Z",
          "iopub.status.idle": "2023-09-19T05:32:36.197568Z",
          "shell.execute_reply.started": "2023-09-19T05:32:36.173359Z",
          "shell.execute_reply": "2023-09-19T05:32:36.196557Z"
        },
        "trusted": true,
        "id": "TPkz8mNh75Md"
      },
      "execution_count": null,
      "outputs": []
    },
    {
      "cell_type": "code",
      "source": [
        "marital_per=df.groupby('Marital_Status')['salary'].value_counts()/df.groupby('Marital_Status')['salary'].count()\n",
        "marital_per"
      ],
      "metadata": {
        "execution": {
          "iopub.status.busy": "2023-09-19T05:32:36.198870Z",
          "iopub.execute_input": "2023-09-19T05:32:36.199163Z",
          "iopub.status.idle": "2023-09-19T05:32:36.227095Z",
          "shell.execute_reply.started": "2023-09-19T05:32:36.199136Z",
          "shell.execute_reply": "2023-09-19T05:32:36.225915Z"
        },
        "trusted": true,
        "id": "pIBOh3Fo75Md"
      },
      "execution_count": null,
      "outputs": []
    },
    {
      "cell_type": "code",
      "source": [
        "Divorced = marital_per[:2]\n",
        "Divorced"
      ],
      "metadata": {
        "execution": {
          "iopub.status.busy": "2023-09-19T05:32:36.228319Z",
          "iopub.execute_input": "2023-09-19T05:32:36.228674Z",
          "iopub.status.idle": "2023-09-19T05:32:36.239463Z",
          "shell.execute_reply.started": "2023-09-19T05:32:36.228628Z",
          "shell.execute_reply": "2023-09-19T05:32:36.238485Z"
        },
        "trusted": true,
        "id": "yi9ga8QF75Md"
      },
      "execution_count": null,
      "outputs": []
    },
    {
      "cell_type": "code",
      "source": [
        "Married = marital_per[2:4]\n",
        "Married"
      ],
      "metadata": {
        "execution": {
          "iopub.status.busy": "2023-09-19T05:32:36.241845Z",
          "iopub.execute_input": "2023-09-19T05:32:36.242157Z",
          "iopub.status.idle": "2023-09-19T05:32:36.254670Z",
          "shell.execute_reply.started": "2023-09-19T05:32:36.242130Z",
          "shell.execute_reply": "2023-09-19T05:32:36.253519Z"
        },
        "trusted": true,
        "id": "7NvYDx3T75Md"
      },
      "execution_count": null,
      "outputs": []
    },
    {
      "cell_type": "code",
      "source": [
        "Never_Married = marital_per[4:]\n",
        "Never_Married"
      ],
      "metadata": {
        "execution": {
          "iopub.status.busy": "2023-09-19T05:32:36.256187Z",
          "iopub.execute_input": "2023-09-19T05:32:36.256497Z",
          "iopub.status.idle": "2023-09-19T05:32:36.271418Z",
          "shell.execute_reply.started": "2023-09-19T05:32:36.256460Z",
          "shell.execute_reply": "2023-09-19T05:32:36.270082Z"
        },
        "trusted": true,
        "id": "0NOKyrrv75Md"
      },
      "execution_count": null,
      "outputs": []
    },
    {
      "cell_type": "code",
      "source": [
        "fig,(plot1,plot2,plot3)=plt.subplots(ncols=3,figsize=(10,6));\n",
        "plot1.pie(Married,autopct='%.1f%%',labels=['<=50K','>50K'],explode=[0,0.1],shadow=True,colors=(['yellow','red']))\n",
        "plot1.set_title('Married')\n",
        "plot1.set_ylabel('salary')\n",
        "plot2.pie(Divorced,autopct='%.1f%%',labels=['<=50K','>50K'],explode=[0,0.1],shadow=True,colors=(['yellow','red']))\n",
        "plot2.set_title('Divorced')\n",
        "plot2.set_ylabel('salary')\n",
        "plot3.pie(Never_Married,autopct='%.1f%%',labels=['<=50K','>50K'],explode=[0,0.1],shadow=True,colors=(['yellow','red']))\n",
        "plot3.set_title('Never_Married')\n",
        "plot3.set_ylabel('salary');"
      ],
      "metadata": {
        "execution": {
          "iopub.status.busy": "2023-09-19T05:32:36.272881Z",
          "iopub.execute_input": "2023-09-19T05:32:36.273228Z",
          "iopub.status.idle": "2023-09-19T05:32:36.763805Z",
          "shell.execute_reply.started": "2023-09-19T05:32:36.273199Z",
          "shell.execute_reply": "2023-09-19T05:32:36.762766Z"
        },
        "trusted": true,
        "id": "p8nX4mlp75Md"
      },
      "execution_count": null,
      "outputs": []
    },
    {
      "cell_type": "markdown",
      "source": [
        "## Sex"
      ],
      "metadata": {
        "id": "pRZu9MWx75Md"
      }
    },
    {
      "cell_type": "code",
      "source": [
        "df.sex.unique()"
      ],
      "metadata": {
        "execution": {
          "iopub.status.busy": "2023-09-19T05:32:36.764983Z",
          "iopub.execute_input": "2023-09-19T05:32:36.765286Z",
          "iopub.status.idle": "2023-09-19T05:32:36.775881Z",
          "shell.execute_reply.started": "2023-09-19T05:32:36.765259Z",
          "shell.execute_reply": "2023-09-19T05:32:36.774543Z"
        },
        "trusted": true,
        "id": "2JSdUhLy75Me"
      },
      "execution_count": null,
      "outputs": []
    },
    {
      "cell_type": "code",
      "source": [
        "df.sex.value_counts()"
      ],
      "metadata": {
        "execution": {
          "iopub.status.busy": "2023-09-19T05:32:36.777002Z",
          "iopub.execute_input": "2023-09-19T05:32:36.777359Z",
          "iopub.status.idle": "2023-09-19T05:32:36.796142Z",
          "shell.execute_reply.started": "2023-09-19T05:32:36.777329Z",
          "shell.execute_reply": "2023-09-19T05:32:36.795064Z"
        },
        "trusted": true,
        "id": "7xCkGMfh75Me"
      },
      "execution_count": null,
      "outputs": []
    },
    {
      "cell_type": "code",
      "source": [
        "fig,ax = plt.subplots(figsize=(8,5))\n",
        "sns.countplot(x='sex',data=df)"
      ],
      "metadata": {
        "execution": {
          "iopub.status.busy": "2023-09-19T05:32:36.797684Z",
          "iopub.execute_input": "2023-09-19T05:32:36.798287Z",
          "iopub.status.idle": "2023-09-19T05:32:37.072531Z",
          "shell.execute_reply.started": "2023-09-19T05:32:36.798194Z",
          "shell.execute_reply": "2023-09-19T05:32:37.071117Z"
        },
        "trusted": true,
        "id": "0su8ue8G75Me"
      },
      "execution_count": null,
      "outputs": []
    },
    {
      "cell_type": "code",
      "source": [
        "fig,ax = plt.subplots(figsize=(8,5))\n",
        "sns.countplot(x='sex',data=df,hue='salary')"
      ],
      "metadata": {
        "execution": {
          "iopub.status.busy": "2023-09-19T05:32:37.073848Z",
          "iopub.execute_input": "2023-09-19T05:32:37.074193Z",
          "iopub.status.idle": "2023-09-19T05:32:37.441925Z",
          "shell.execute_reply.started": "2023-09-19T05:32:37.074161Z",
          "shell.execute_reply": "2023-09-19T05:32:37.440680Z"
        },
        "trusted": true,
        "id": "134nfil-75Me"
      },
      "execution_count": null,
      "outputs": []
    },
    {
      "cell_type": "code",
      "source": [
        "df.groupby('sex')['salary'].value_counts()"
      ],
      "metadata": {
        "execution": {
          "iopub.status.busy": "2023-09-19T05:32:37.443278Z",
          "iopub.execute_input": "2023-09-19T05:32:37.443648Z",
          "iopub.status.idle": "2023-09-19T05:32:37.477906Z",
          "shell.execute_reply.started": "2023-09-19T05:32:37.443583Z",
          "shell.execute_reply": "2023-09-19T05:32:37.461060Z"
        },
        "trusted": true,
        "id": "jjmerdrZ75Me"
      },
      "execution_count": null,
      "outputs": []
    },
    {
      "cell_type": "code",
      "source": [
        "sex_per = df.groupby('sex')['salary'].value_counts()/df.groupby('sex')['salary'].count()\n",
        "sex_per"
      ],
      "metadata": {
        "execution": {
          "iopub.status.busy": "2023-09-19T05:32:37.479060Z",
          "iopub.execute_input": "2023-09-19T05:32:37.479502Z",
          "iopub.status.idle": "2023-09-19T05:32:37.508644Z",
          "shell.execute_reply.started": "2023-09-19T05:32:37.479459Z",
          "shell.execute_reply": "2023-09-19T05:32:37.507582Z"
        },
        "trusted": true,
        "id": "KBdtASf875Me"
      },
      "execution_count": null,
      "outputs": []
    },
    {
      "cell_type": "code",
      "source": [
        "Female = sex_per[:2]\n",
        "print(Female)\n",
        "Male = sex_per[2:]\n",
        "print(Male)"
      ],
      "metadata": {
        "execution": {
          "iopub.status.busy": "2023-09-19T05:32:37.509937Z",
          "iopub.execute_input": "2023-09-19T05:32:37.510270Z",
          "iopub.status.idle": "2023-09-19T05:32:37.517366Z",
          "shell.execute_reply.started": "2023-09-19T05:32:37.510241Z",
          "shell.execute_reply": "2023-09-19T05:32:37.516336Z"
        },
        "trusted": true,
        "id": "uNxay6Xd75Me"
      },
      "execution_count": null,
      "outputs": []
    },
    {
      "cell_type": "code",
      "source": [
        "fig , (plot1,plot2) = plt.subplots(ncols=2,figsize=(8,6))\n",
        "plot1.pie(Female,labels=['<=50K','>50K'],autopct='%.1f%%',shadow=True,explode=[0,0.1])\n",
        "plot1.set_title('Female',fontsize=10)\n",
        "plot1.set_ylabel('salary')\n",
        "plot2.pie(Male,labels=['<=50K','>50K'],autopct='%.1f%%',shadow=True,explode=[0,0.1])\n",
        "plot2.set_title('Male')\n",
        "plot2.set_ylabel('salary')"
      ],
      "metadata": {
        "execution": {
          "iopub.status.busy": "2023-09-19T05:32:37.518752Z",
          "iopub.execute_input": "2023-09-19T05:32:37.519078Z",
          "iopub.status.idle": "2023-09-19T05:32:37.849787Z",
          "shell.execute_reply.started": "2023-09-19T05:32:37.519049Z",
          "shell.execute_reply": "2023-09-19T05:32:37.848281Z"
        },
        "trusted": true,
        "id": "7IDmX86K75Me"
      },
      "execution_count": null,
      "outputs": []
    },
    {
      "cell_type": "markdown",
      "source": [
        "#### Result : The percentage of male is more who earns >50K than female"
      ],
      "metadata": {
        "id": "gitFjSW375Me"
      }
    },
    {
      "cell_type": "code",
      "source": [
        "df.head(2)"
      ],
      "metadata": {
        "execution": {
          "iopub.status.busy": "2023-09-19T05:32:37.851800Z",
          "iopub.execute_input": "2023-09-19T05:32:37.853130Z",
          "iopub.status.idle": "2023-09-19T05:32:37.883442Z",
          "shell.execute_reply.started": "2023-09-19T05:32:37.853068Z",
          "shell.execute_reply": "2023-09-19T05:32:37.882645Z"
        },
        "trusted": true,
        "id": "x1ate6Ka75Mf"
      },
      "execution_count": null,
      "outputs": []
    },
    {
      "cell_type": "markdown",
      "source": [
        "## Data Cleaning\n",
        "\n",
        "### 1. Handling Missing values"
      ],
      "metadata": {
        "id": "FRbYh52r75Mf"
      }
    },
    {
      "cell_type": "code",
      "source": [
        "df.isnull().sum()"
      ],
      "metadata": {
        "execution": {
          "iopub.status.busy": "2023-09-19T05:32:37.884689Z",
          "iopub.execute_input": "2023-09-19T05:32:37.885167Z",
          "iopub.status.idle": "2023-09-19T05:32:38.007696Z",
          "shell.execute_reply.started": "2023-09-19T05:32:37.885139Z",
          "shell.execute_reply": "2023-09-19T05:32:38.006645Z"
        },
        "trusted": true,
        "id": "kIlXPV6J75Mf"
      },
      "execution_count": null,
      "outputs": []
    },
    {
      "cell_type": "code",
      "source": [
        "df.dropna(axis=1,inplace=True)"
      ],
      "metadata": {
        "execution": {
          "iopub.status.busy": "2023-09-19T05:32:38.009039Z",
          "iopub.execute_input": "2023-09-19T05:32:38.009701Z",
          "iopub.status.idle": "2023-09-19T05:32:38.142448Z",
          "shell.execute_reply.started": "2023-09-19T05:32:38.009669Z",
          "shell.execute_reply": "2023-09-19T05:32:38.141182Z"
        },
        "trusted": true,
        "id": "00z5ZRFY75Mf"
      },
      "execution_count": null,
      "outputs": []
    },
    {
      "cell_type": "code",
      "source": [
        "df.isnull().sum()"
      ],
      "metadata": {
        "execution": {
          "iopub.status.busy": "2023-09-19T05:32:38.143964Z",
          "iopub.execute_input": "2023-09-19T05:32:38.144314Z",
          "iopub.status.idle": "2023-09-19T05:32:38.258414Z",
          "shell.execute_reply.started": "2023-09-19T05:32:38.144274Z",
          "shell.execute_reply": "2023-09-19T05:32:38.257507Z"
        },
        "trusted": true,
        "id": "amWGMNPz75Mf"
      },
      "execution_count": null,
      "outputs": []
    },
    {
      "cell_type": "code",
      "source": [
        "df.workclass.value_counts()"
      ],
      "metadata": {
        "execution": {
          "iopub.status.busy": "2023-09-19T05:32:38.259854Z",
          "iopub.execute_input": "2023-09-19T05:32:38.260238Z",
          "iopub.status.idle": "2023-09-19T05:32:38.275960Z",
          "shell.execute_reply.started": "2023-09-19T05:32:38.260186Z",
          "shell.execute_reply": "2023-09-19T05:32:38.274528Z"
        },
        "trusted": true,
        "id": "hw6LMXUX75Mf"
      },
      "execution_count": null,
      "outputs": []
    },
    {
      "cell_type": "code",
      "source": [
        "df.occupation.value_counts()"
      ],
      "metadata": {
        "execution": {
          "iopub.status.busy": "2023-09-19T05:32:38.277668Z",
          "iopub.execute_input": "2023-09-19T05:32:38.278019Z",
          "iopub.status.idle": "2023-09-19T05:32:38.295918Z",
          "shell.execute_reply.started": "2023-09-19T05:32:38.277975Z",
          "shell.execute_reply": "2023-09-19T05:32:38.294609Z"
        },
        "trusted": true,
        "id": "5tO2JBts75Mf"
      },
      "execution_count": null,
      "outputs": []
    },
    {
      "cell_type": "code",
      "source": [
        "df.replace(to_replace='?',value=np.nan,inplace=True)"
      ],
      "metadata": {
        "execution": {
          "iopub.status.busy": "2023-09-19T05:32:38.297220Z",
          "iopub.execute_input": "2023-09-19T05:32:38.297562Z",
          "iopub.status.idle": "2023-09-19T05:32:38.320845Z",
          "shell.execute_reply.started": "2023-09-19T05:32:38.297531Z",
          "shell.execute_reply": "2023-09-19T05:32:38.319636Z"
        },
        "trusted": true,
        "id": "HnLOlMYB75Mf"
      },
      "execution_count": null,
      "outputs": []
    },
    {
      "cell_type": "code",
      "source": [
        "df.isnull().sum()"
      ],
      "metadata": {
        "execution": {
          "iopub.status.busy": "2023-09-19T05:32:38.322240Z",
          "iopub.execute_input": "2023-09-19T05:32:38.322551Z",
          "iopub.status.idle": "2023-09-19T05:32:38.442198Z",
          "shell.execute_reply.started": "2023-09-19T05:32:38.322523Z",
          "shell.execute_reply": "2023-09-19T05:32:38.441183Z"
        },
        "trusted": true,
        "id": "vvtGZA5B75Mf"
      },
      "execution_count": null,
      "outputs": []
    },
    {
      "cell_type": "code",
      "source": [
        "df.dropna(inplace=True)\n",
        "df.isnull().sum()"
      ],
      "metadata": {
        "execution": {
          "iopub.status.busy": "2023-09-19T05:32:38.444022Z",
          "iopub.execute_input": "2023-09-19T05:32:38.444496Z",
          "iopub.status.idle": "2023-09-19T05:32:38.667371Z",
          "shell.execute_reply.started": "2023-09-19T05:32:38.444452Z",
          "shell.execute_reply": "2023-09-19T05:32:38.666353Z"
        },
        "trusted": true,
        "id": "ZKPy3m-B75Mf"
      },
      "execution_count": null,
      "outputs": []
    },
    {
      "cell_type": "markdown",
      "source": [
        "## Handling Outliers"
      ],
      "metadata": {
        "id": "GiQPm7qi75Mg"
      }
    },
    {
      "cell_type": "code",
      "source": [
        "plt.figure(figsize=(8,6))\n",
        "df.boxplot()"
      ],
      "metadata": {
        "execution": {
          "iopub.status.busy": "2023-09-19T05:32:38.669221Z",
          "iopub.execute_input": "2023-09-19T05:32:38.669675Z",
          "iopub.status.idle": "2023-09-19T05:32:39.239916Z",
          "shell.execute_reply.started": "2023-09-19T05:32:38.669629Z",
          "shell.execute_reply": "2023-09-19T05:32:39.238841Z"
        },
        "trusted": true,
        "id": "Ni0rqfrf75Mg"
      },
      "execution_count": null,
      "outputs": []
    },
    {
      "cell_type": "code",
      "source": [
        "fig,ax = plt.subplots(nrows=2,ncols=3,figsize=(12,6))\n",
        "\n",
        "sns.boxplot(ax=ax[0, 0], data=df, x='age')\n",
        "sns.boxplot(ax=ax[0, 1], data=df, x='fnlwgt')\n",
        "sns.boxplot(ax=ax[0, 2], data=df, x='capital_gain')\n",
        "sns.boxplot(ax=ax[1, 0], data=df, x='capital_loss')\n",
        "sns.boxplot(ax=ax[1, 2], data=df, x='hours_per_week')\n"
      ],
      "metadata": {
        "execution": {
          "iopub.status.busy": "2023-09-19T05:32:39.241688Z",
          "iopub.execute_input": "2023-09-19T05:32:39.242104Z",
          "iopub.status.idle": "2023-09-19T05:32:40.152935Z",
          "shell.execute_reply.started": "2023-09-19T05:32:39.242065Z",
          "shell.execute_reply": "2023-09-19T05:32:40.151828Z"
        },
        "trusted": true,
        "id": "zXAWNtlX75Mg"
      },
      "execution_count": null,
      "outputs": []
    },
    {
      "cell_type": "code",
      "source": [
        "df.corr()"
      ],
      "metadata": {
        "execution": {
          "iopub.status.busy": "2023-09-19T05:43:17.456195Z",
          "iopub.execute_input": "2023-09-19T05:43:17.456582Z",
          "iopub.status.idle": "2023-09-19T05:43:17.476120Z",
          "shell.execute_reply.started": "2023-09-19T05:43:17.456550Z",
          "shell.execute_reply": "2023-09-19T05:43:17.475051Z"
        },
        "trusted": true,
        "id": "HCyerhwT75Mg"
      },
      "execution_count": null,
      "outputs": []
    },
    {
      "cell_type": "code",
      "source": [
        "plt.figure(figsize=(12,6))\n",
        "sns.heatmap(df.corr(),annot=True)"
      ],
      "metadata": {
        "execution": {
          "iopub.status.busy": "2023-09-19T05:51:59.077762Z",
          "iopub.execute_input": "2023-09-19T05:51:59.078716Z",
          "iopub.status.idle": "2023-09-19T05:51:59.532158Z",
          "shell.execute_reply.started": "2023-09-19T05:51:59.078677Z",
          "shell.execute_reply": "2023-09-19T05:51:59.531104Z"
        },
        "trusted": true,
        "id": "Fw2RsSTy75Mg"
      },
      "execution_count": null,
      "outputs": []
    }
  ]
}