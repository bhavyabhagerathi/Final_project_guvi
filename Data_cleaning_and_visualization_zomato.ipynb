{
  "metadata": {
    "kernelspec": {
      "language": "python",
      "display_name": "Python 3",
      "name": "python3"
    },
    "language_info": {
      "pygments_lexer": "ipython3",
      "nbconvert_exporter": "python",
      "version": "3.6.4",
      "file_extension": ".py",
      "codemirror_mode": {
        "name": "ipython",
        "version": 3
      },
      "name": "python",
      "mimetype": "text/x-python"
    },
    "colab": {
      "provenance": []
    }
  },
  "nbformat_minor": 0,
  "nbformat": 4,
  "cells": [
    {
      "cell_type": "code",
      "source": [
        "# This Python 3 environment comes with many helpful analytics libraries installed\n",
        "# It is defined by the kaggle/python Docker image: https://github.com/kaggle/docker-python\n",
        "# For example, here's several helpful packages to load\n",
        "\n",
        "import numpy as np # linear algebra\n",
        "import pandas as pd # data processing, CSV file I/O (e.g. pd.read_csv)\n",
        "\n",
        "# Input data files are available in the read-only \"../input/\" directory\n",
        "# For example, running this (by clicking run or pressing Shift+Enter) will list all files under the input directory\n",
        "\n",
        "import os\n",
        "for dirname, _, filenames in os.walk('/kaggle/input'):\n",
        "    for filename in filenames:\n",
        "        print(os.path.join(dirname, filename))\n",
        "\n",
        "# You can write up to 20GB to the current directory (/kaggle/working/) that gets preserved as output when you create a version using \"Save & Run All\"\n",
        "# You can also write temporary files to /kaggle/temp/, but they won't be saved outside of the current session"
      ],
      "metadata": {
        "_uuid": "8f2839f25d086af736a60e9eeb907d3b93b6e0e5",
        "_cell_guid": "b1076dfc-b9ad-4769-8c92-a6c4dae69d19",
        "execution": {
          "iopub.status.busy": "2023-08-18T09:34:52.557180Z",
          "iopub.execute_input": "2023-08-18T09:34:52.558581Z",
          "iopub.status.idle": "2023-08-18T09:34:52.574956Z",
          "shell.execute_reply.started": "2023-08-18T09:34:52.558533Z",
          "shell.execute_reply": "2023-08-18T09:34:52.573885Z"
        },
        "trusted": true,
        "id": "GoIrlut1IOgB"
      },
      "execution_count": null,
      "outputs": []
    },
    {
      "cell_type": "code",
      "source": [
        "import matplotlib.pyplot as plt\n",
        "import seaborn as sns\n",
        "import warnings\n",
        "warnings.filterwarnings('ignore')\n",
        "import fuzzywuzzy.process"
      ],
      "metadata": {
        "execution": {
          "iopub.status.busy": "2023-08-18T09:34:52.581323Z",
          "iopub.execute_input": "2023-08-18T09:34:52.581922Z",
          "iopub.status.idle": "2023-08-18T09:34:53.254464Z",
          "shell.execute_reply.started": "2023-08-18T09:34:52.581888Z",
          "shell.execute_reply": "2023-08-18T09:34:53.253409Z"
        },
        "trusted": true,
        "id": "wB516HjUIOgD"
      },
      "execution_count": null,
      "outputs": []
    },
    {
      "cell_type": "code",
      "source": [
        "df=pd.read_csv('/kaggle/input/zomato-dataset/zomato.csv')\n",
        "df.head()"
      ],
      "metadata": {
        "execution": {
          "iopub.status.busy": "2023-08-18T09:34:53.256041Z",
          "iopub.execute_input": "2023-08-18T09:34:53.256399Z",
          "iopub.status.idle": "2023-08-18T09:34:59.404958Z",
          "shell.execute_reply.started": "2023-08-18T09:34:53.256369Z",
          "shell.execute_reply": "2023-08-18T09:34:59.403615Z"
        },
        "trusted": true,
        "id": "LnZ1EkfCIOgD"
      },
      "execution_count": null,
      "outputs": []
    },
    {
      "cell_type": "markdown",
      "source": [
        "# Analysing and Cleaning of Data"
      ],
      "metadata": {
        "id": "BpLkTzdkIOgE"
      }
    },
    {
      "cell_type": "code",
      "source": [
        "df.shape"
      ],
      "metadata": {
        "execution": {
          "iopub.status.busy": "2023-08-18T09:34:59.409327Z",
          "iopub.execute_input": "2023-08-18T09:34:59.409690Z",
          "iopub.status.idle": "2023-08-18T09:34:59.417660Z",
          "shell.execute_reply.started": "2023-08-18T09:34:59.409660Z",
          "shell.execute_reply": "2023-08-18T09:34:59.416490Z"
        },
        "trusted": true,
        "id": "9uPujLyPIOgF"
      },
      "execution_count": null,
      "outputs": []
    },
    {
      "cell_type": "code",
      "source": [
        "df.info()"
      ],
      "metadata": {
        "execution": {
          "iopub.status.busy": "2023-08-18T09:34:59.419357Z",
          "iopub.execute_input": "2023-08-18T09:34:59.419836Z",
          "iopub.status.idle": "2023-08-18T09:34:59.706221Z",
          "shell.execute_reply.started": "2023-08-18T09:34:59.419796Z",
          "shell.execute_reply": "2023-08-18T09:34:59.704905Z"
        },
        "trusted": true,
        "id": "wfcE9Z2PIOgF"
      },
      "execution_count": null,
      "outputs": []
    },
    {
      "cell_type": "code",
      "source": [
        "df.isnull().sum()"
      ],
      "metadata": {
        "execution": {
          "iopub.status.busy": "2023-08-18T09:34:59.707604Z",
          "iopub.execute_input": "2023-08-18T09:34:59.707948Z",
          "iopub.status.idle": "2023-08-18T09:34:59.981082Z",
          "shell.execute_reply.started": "2023-08-18T09:34:59.707919Z",
          "shell.execute_reply": "2023-08-18T09:34:59.980069Z"
        },
        "trusted": true,
        "id": "S44XrFjnIOgF"
      },
      "execution_count": null,
      "outputs": []
    },
    {
      "cell_type": "markdown",
      "source": [
        "### Droping unnecessary columns"
      ],
      "metadata": {
        "id": "xqz7yTENIOgF"
      }
    },
    {
      "cell_type": "code",
      "source": [
        "df.drop(columns=['url','reviews_list','menu_item','dish_liked','cuisines','phone','address','location'],inplace=True)\n",
        "df.columns"
      ],
      "metadata": {
        "execution": {
          "iopub.status.busy": "2023-08-18T09:34:59.982475Z",
          "iopub.execute_input": "2023-08-18T09:34:59.983675Z",
          "iopub.status.idle": "2023-08-18T09:34:59.997483Z",
          "shell.execute_reply.started": "2023-08-18T09:34:59.983636Z",
          "shell.execute_reply": "2023-08-18T09:34:59.996536Z"
        },
        "trusted": true,
        "id": "33e7sQ22IOgF"
      },
      "execution_count": null,
      "outputs": []
    },
    {
      "cell_type": "markdown",
      "source": [
        "### Droping duplicates"
      ],
      "metadata": {
        "id": "0VHQeRApIOgG"
      }
    },
    {
      "cell_type": "code",
      "source": [
        "df.drop_duplicates(ignore_index=True,inplace=True)"
      ],
      "metadata": {
        "execution": {
          "iopub.status.busy": "2023-08-18T09:34:59.999101Z",
          "iopub.execute_input": "2023-08-18T09:34:59.999635Z",
          "iopub.status.idle": "2023-08-18T09:35:00.076982Z",
          "shell.execute_reply.started": "2023-08-18T09:34:59.999602Z",
          "shell.execute_reply": "2023-08-18T09:35:00.075751Z"
        },
        "trusted": true,
        "id": "8HSf0llJIOgG"
      },
      "execution_count": null,
      "outputs": []
    },
    {
      "cell_type": "markdown",
      "source": [
        "### renaming columns"
      ],
      "metadata": {
        "id": "PApfd_MXIOgG"
      }
    },
    {
      "cell_type": "code",
      "source": [
        "df.rename(columns={'approx_cost(for two people)':'_2platescost','listed_in(city)':'location','name':'restaurants'},inplace=True)\n",
        "df.head()"
      ],
      "metadata": {
        "execution": {
          "iopub.status.busy": "2023-08-18T09:35:00.078958Z",
          "iopub.execute_input": "2023-08-18T09:35:00.079479Z",
          "iopub.status.idle": "2023-08-18T09:35:00.098268Z",
          "shell.execute_reply.started": "2023-08-18T09:35:00.079435Z",
          "shell.execute_reply": "2023-08-18T09:35:00.097356Z"
        },
        "trusted": true,
        "id": "xJ5BKWobIOgG"
      },
      "execution_count": null,
      "outputs": []
    },
    {
      "cell_type": "markdown",
      "source": [
        "## Analysing rate column"
      ],
      "metadata": {
        "id": "-Vd-ItkWIOgG"
      }
    },
    {
      "cell_type": "code",
      "source": [
        "df.rate.unique()"
      ],
      "metadata": {
        "execution": {
          "iopub.status.busy": "2023-08-18T09:35:00.099858Z",
          "iopub.execute_input": "2023-08-18T09:35:00.100218Z",
          "iopub.status.idle": "2023-08-18T09:35:00.112340Z",
          "shell.execute_reply.started": "2023-08-18T09:35:00.100189Z",
          "shell.execute_reply": "2023-08-18T09:35:00.111092Z"
        },
        "trusted": true,
        "id": "GboAwgWWIOgG"
      },
      "execution_count": null,
      "outputs": []
    },
    {
      "cell_type": "code",
      "source": [
        "# converting the rate dtype to float\n",
        "df.rate=df['rate'].replace([\"NEW\",\"-\"],np.nan)\n",
        "for i in range(len(df.rate)):\n",
        "    if df.loc[i,'rate'] is not np.nan:\n",
        "        df.loc[i,'rate']= float(str(df.loc[i,'rate']).split('/')[0])\n",
        "df.rate.unique()"
      ],
      "metadata": {
        "execution": {
          "iopub.status.busy": "2023-08-18T09:35:00.113871Z",
          "iopub.execute_input": "2023-08-18T09:35:00.114210Z",
          "iopub.status.idle": "2023-08-18T09:35:06.591068Z",
          "shell.execute_reply.started": "2023-08-18T09:35:00.114183Z",
          "shell.execute_reply": "2023-08-18T09:35:06.589904Z"
        },
        "trusted": true,
        "id": "F15VN1c6IOgG"
      },
      "execution_count": null,
      "outputs": []
    },
    {
      "cell_type": "code",
      "source": [
        "df.head()"
      ],
      "metadata": {
        "execution": {
          "iopub.status.busy": "2023-08-18T09:35:06.592810Z",
          "iopub.execute_input": "2023-08-18T09:35:06.593167Z",
          "iopub.status.idle": "2023-08-18T09:35:06.608891Z",
          "shell.execute_reply.started": "2023-08-18T09:35:06.593125Z",
          "shell.execute_reply": "2023-08-18T09:35:06.607730Z"
        },
        "trusted": true,
        "id": "iZDfToICIOgH"
      },
      "execution_count": null,
      "outputs": []
    },
    {
      "cell_type": "markdown",
      "source": [
        "### Handling null values in rate column"
      ],
      "metadata": {
        "id": "ta0OEoF7IOgH"
      }
    },
    {
      "cell_type": "code",
      "source": [
        "df['rate'].isnull().sum()"
      ],
      "metadata": {
        "execution": {
          "iopub.status.busy": "2023-08-18T09:35:06.614809Z",
          "iopub.execute_input": "2023-08-18T09:35:06.615188Z",
          "iopub.status.idle": "2023-08-18T09:35:06.625709Z",
          "shell.execute_reply.started": "2023-08-18T09:35:06.615132Z",
          "shell.execute_reply": "2023-08-18T09:35:06.624453Z"
        },
        "trusted": true,
        "id": "D8Ve7iKiIOgH"
      },
      "execution_count": null,
      "outputs": []
    },
    {
      "cell_type": "code",
      "source": [
        "resturant_with_nan=df.loc[df['rate'].isnull(),'restaurants'].unique()\n",
        "resturant_with_nan"
      ],
      "metadata": {
        "execution": {
          "iopub.status.busy": "2023-08-18T09:35:06.626977Z",
          "iopub.execute_input": "2023-08-18T09:35:06.627349Z",
          "iopub.status.idle": "2023-08-18T09:35:06.643368Z",
          "shell.execute_reply.started": "2023-08-18T09:35:06.627317Z",
          "shell.execute_reply": "2023-08-18T09:35:06.642225Z"
        },
        "trusted": true,
        "id": "wx5dWkT7IOgH"
      },
      "execution_count": null,
      "outputs": []
    },
    {
      "cell_type": "code",
      "source": [
        "#providing rating by calculating avg rating of other branches of the same resturant\n",
        "for i in range(len(resturant_with_nan)):\n",
        "    rest=df.loc[df[\"restaurants\"]==resturant_with_nan[i],'rate']\n",
        "    df.loc[rest[rest.isnull()].index,'rate']=round(rest.mean(),1)\n",
        "    #print(df.loc[df[\"restaurants\"]==resturant_with_nan[i],'rate'])\n",
        "    #print(\"*\"*30)"
      ],
      "metadata": {
        "execution": {
          "iopub.status.busy": "2023-08-18T09:35:06.644646Z",
          "iopub.execute_input": "2023-08-18T09:35:06.644993Z",
          "iopub.status.idle": "2023-08-18T09:35:35.001563Z",
          "shell.execute_reply.started": "2023-08-18T09:35:06.644963Z",
          "shell.execute_reply": "2023-08-18T09:35:34.999000Z"
        },
        "trusted": true,
        "id": "bHFyepDjIOgH"
      },
      "execution_count": null,
      "outputs": []
    },
    {
      "cell_type": "code",
      "source": [
        "df['rate'].isnull().sum()"
      ],
      "metadata": {
        "execution": {
          "iopub.status.busy": "2023-08-18T09:35:35.003298Z",
          "iopub.execute_input": "2023-08-18T09:35:35.003748Z",
          "iopub.status.idle": "2023-08-18T09:35:35.016979Z",
          "shell.execute_reply.started": "2023-08-18T09:35:35.003711Z",
          "shell.execute_reply": "2023-08-18T09:35:35.015425Z"
        },
        "trusted": true,
        "id": "eagZQem3IOgH"
      },
      "execution_count": null,
      "outputs": []
    },
    {
      "cell_type": "code",
      "source": [
        "df.rate.fillna(df.rate.mean(),inplace=True)# since many resturants where not rated, I have provided the average rating"
      ],
      "metadata": {
        "execution": {
          "iopub.status.busy": "2023-08-18T09:35:35.018644Z",
          "iopub.execute_input": "2023-08-18T09:35:35.019512Z",
          "iopub.status.idle": "2023-08-18T09:35:35.057861Z",
          "shell.execute_reply.started": "2023-08-18T09:35:35.019458Z",
          "shell.execute_reply": "2023-08-18T09:35:35.055840Z"
        },
        "trusted": true,
        "id": "JExtIdiJIOgH"
      },
      "execution_count": null,
      "outputs": []
    },
    {
      "cell_type": "code",
      "source": [
        "df.isnull().sum()"
      ],
      "metadata": {
        "execution": {
          "iopub.status.busy": "2023-08-18T09:35:35.059250Z",
          "iopub.execute_input": "2023-08-18T09:35:35.059620Z",
          "iopub.status.idle": "2023-08-18T09:35:35.198495Z",
          "shell.execute_reply.started": "2023-08-18T09:35:35.059589Z",
          "shell.execute_reply": "2023-08-18T09:35:35.197496Z"
        },
        "trusted": true,
        "id": "OMDAViU7IOgH"
      },
      "execution_count": null,
      "outputs": []
    },
    {
      "cell_type": "code",
      "source": [
        "df.head()"
      ],
      "metadata": {
        "execution": {
          "iopub.status.busy": "2023-08-18T09:35:35.199529Z",
          "iopub.execute_input": "2023-08-18T09:35:35.199885Z",
          "iopub.status.idle": "2023-08-18T09:35:35.226965Z",
          "shell.execute_reply.started": "2023-08-18T09:35:35.199857Z",
          "shell.execute_reply": "2023-08-18T09:35:35.225484Z"
        },
        "trusted": true,
        "id": "aInYHfzIIOgH"
      },
      "execution_count": null,
      "outputs": []
    },
    {
      "cell_type": "markdown",
      "source": [
        "## Analyzing rest_type column"
      ],
      "metadata": {
        "id": "NSvcqpeLIOgH"
      }
    },
    {
      "cell_type": "code",
      "source": [
        "len(df.rest_type.unique())"
      ],
      "metadata": {
        "execution": {
          "iopub.status.busy": "2023-08-18T09:35:35.229938Z",
          "iopub.execute_input": "2023-08-18T09:35:35.230360Z",
          "iopub.status.idle": "2023-08-18T09:35:35.251471Z",
          "shell.execute_reply.started": "2023-08-18T09:35:35.230325Z",
          "shell.execute_reply": "2023-08-18T09:35:35.249997Z"
        },
        "trusted": true,
        "id": "0g8vQ2MqIOgH"
      },
      "execution_count": null,
      "outputs": []
    },
    {
      "cell_type": "code",
      "source": [
        "df.rest_type.unique()"
      ],
      "metadata": {
        "execution": {
          "iopub.status.busy": "2023-08-18T09:35:35.253965Z",
          "iopub.execute_input": "2023-08-18T09:35:35.255353Z",
          "iopub.status.idle": "2023-08-18T09:35:35.271712Z",
          "shell.execute_reply.started": "2023-08-18T09:35:35.255298Z",
          "shell.execute_reply": "2023-08-18T09:35:35.269436Z"
        },
        "trusted": true,
        "id": "9Per7gXmIOgI"
      },
      "execution_count": null,
      "outputs": []
    },
    {
      "cell_type": "markdown",
      "source": [
        "noticed some duplicate rest_type values like 'Cafe, Casual Dining' and 'Casual Dining, Cafe'\n",
        "or 'Quick Bites, Cafe' and 'Cafe, Quick Bites', lets focus on cleaning these duplications as it occurs only to the resturants that have 2 rest_type categories combined"
      ],
      "metadata": {
        "id": "lJylC0FWIOgI"
      }
    },
    {
      "cell_type": "code",
      "source": [
        "lst=[]\n",
        "for i in df.rest_type.unique():\n",
        "    if pd.notna(i)and ',' in i:\n",
        "        lst.append(i)\n",
        "lst"
      ],
      "metadata": {
        "execution": {
          "iopub.status.busy": "2023-08-18T09:35:35.276410Z",
          "iopub.execute_input": "2023-08-18T09:35:35.278362Z",
          "iopub.status.idle": "2023-08-18T09:35:35.295573Z",
          "shell.execute_reply.started": "2023-08-18T09:35:35.278301Z",
          "shell.execute_reply": "2023-08-18T09:35:35.293583Z"
        },
        "trusted": true,
        "id": "wbJef7CuIOgI"
      },
      "execution_count": null,
      "outputs": []
    },
    {
      "cell_type": "code",
      "source": [
        "def replace_string(dt,col,str_2_match,min_ratio=90):\n",
        "    match = fuzzywuzzy.process.extract(str_2_match,dt[col].unique(),limit=10,scorer=fuzzywuzzy.fuzz.token_sort_ratio)\n",
        "    close_matches=[i[0] for i in match if i[1]>min_ratio]\n",
        "    match_index=dt[col].isin(close_matches)\n",
        "    dt.loc[match_index,col]=str_2_match"
      ],
      "metadata": {
        "execution": {
          "iopub.status.busy": "2023-08-18T09:35:35.298940Z",
          "iopub.execute_input": "2023-08-18T09:35:35.299516Z",
          "iopub.status.idle": "2023-08-18T09:35:35.311079Z",
          "shell.execute_reply.started": "2023-08-18T09:35:35.299468Z",
          "shell.execute_reply": "2023-08-18T09:35:35.309880Z"
        },
        "trusted": true,
        "id": "knUUNMWXIOgI"
      },
      "execution_count": null,
      "outputs": []
    },
    {
      "cell_type": "code",
      "source": [
        "for i in lst:\n",
        "    replace_string(df,'rest_type',i,min_ratio=90)"
      ],
      "metadata": {
        "execution": {
          "iopub.status.busy": "2023-08-18T09:35:35.312968Z",
          "iopub.execute_input": "2023-08-18T09:35:35.313726Z",
          "iopub.status.idle": "2023-08-18T09:35:35.988826Z",
          "shell.execute_reply.started": "2023-08-18T09:35:35.313678Z",
          "shell.execute_reply": "2023-08-18T09:35:35.987815Z"
        },
        "trusted": true,
        "id": "C4E0pkPeIOgI"
      },
      "execution_count": null,
      "outputs": []
    },
    {
      "cell_type": "code",
      "source": [
        "len(df.rest_type.unique()) # the uniqueness has been reduced from 94 to 69 after removing such duplications"
      ],
      "metadata": {
        "execution": {
          "iopub.status.busy": "2023-08-18T09:35:35.990179Z",
          "iopub.execute_input": "2023-08-18T09:35:35.990583Z",
          "iopub.status.idle": "2023-08-18T09:35:36.005194Z",
          "shell.execute_reply.started": "2023-08-18T09:35:35.990550Z",
          "shell.execute_reply": "2023-08-18T09:35:36.003587Z"
        },
        "trusted": true,
        "id": "0tBHt8mNIOgI"
      },
      "execution_count": null,
      "outputs": []
    },
    {
      "cell_type": "code",
      "source": [
        "df.rest_type.unique()"
      ],
      "metadata": {
        "execution": {
          "iopub.status.busy": "2023-08-18T09:35:36.007697Z",
          "iopub.execute_input": "2023-08-18T09:35:36.008267Z",
          "iopub.status.idle": "2023-08-18T09:35:36.031118Z",
          "shell.execute_reply.started": "2023-08-18T09:35:36.008219Z",
          "shell.execute_reply": "2023-08-18T09:35:36.028470Z"
        },
        "trusted": true,
        "id": "KUn9LHQXIOgI"
      },
      "execution_count": null,
      "outputs": []
    },
    {
      "cell_type": "markdown",
      "source": [
        "### Handling null values in rest_type column"
      ],
      "metadata": {
        "id": "v8wM1dDKIOgI"
      }
    },
    {
      "cell_type": "markdown",
      "source": [
        "I have used same method as 'rate' column to handle null value in 'rest_type' column but instead of average I have taken mode value, as string values don't have mean"
      ],
      "metadata": {
        "id": "NKnO5_FGIOgI"
      }
    },
    {
      "cell_type": "code",
      "source": [
        "null_rest_type=df.loc[df['rest_type'].isnull(),'restaurants'].unique()\n",
        "null_rest_type"
      ],
      "metadata": {
        "execution": {
          "iopub.status.busy": "2023-08-18T09:35:36.034429Z",
          "iopub.execute_input": "2023-08-18T09:35:36.035669Z",
          "iopub.status.idle": "2023-08-18T09:35:36.062017Z",
          "shell.execute_reply.started": "2023-08-18T09:35:36.035586Z",
          "shell.execute_reply": "2023-08-18T09:35:36.059698Z"
        },
        "trusted": true,
        "id": "v3pnjnO6IOgI"
      },
      "execution_count": null,
      "outputs": []
    },
    {
      "cell_type": "code",
      "source": [
        "for i in range(len(null_rest_type)):\n",
        "    typ=df.loc[df['restaurants']==null_rest_type[i],'rest_type']\n",
        "    if typ.mode().empty:\n",
        "        pass\n",
        "    else:\n",
        "        df.loc[typ[typ.isnull()].index,'rest_type']=typ.mode().iloc[0]"
      ],
      "metadata": {
        "execution": {
          "iopub.status.busy": "2023-08-18T09:35:36.063989Z",
          "iopub.execute_input": "2023-08-18T09:35:36.064439Z",
          "iopub.status.idle": "2023-08-18T09:35:36.794889Z",
          "shell.execute_reply.started": "2023-08-18T09:35:36.064405Z",
          "shell.execute_reply": "2023-08-18T09:35:36.793556Z"
        },
        "trusted": true,
        "id": "Xz6DWJXvIOgJ"
      },
      "execution_count": null,
      "outputs": []
    },
    {
      "cell_type": "code",
      "source": [
        "df.rest_type.fillna(df['rest_type'].mode()[0],inplace=True)"
      ],
      "metadata": {
        "execution": {
          "iopub.status.busy": "2023-08-18T09:35:36.796700Z",
          "iopub.execute_input": "2023-08-18T09:35:36.797719Z",
          "iopub.status.idle": "2023-08-18T09:35:36.821185Z",
          "shell.execute_reply.started": "2023-08-18T09:35:36.797653Z",
          "shell.execute_reply": "2023-08-18T09:35:36.819334Z"
        },
        "trusted": true,
        "id": "FGi4RbcuIOgJ"
      },
      "execution_count": null,
      "outputs": []
    },
    {
      "cell_type": "code",
      "source": [
        "df.isnull().sum()"
      ],
      "metadata": {
        "execution": {
          "iopub.status.busy": "2023-08-18T09:35:36.823282Z",
          "iopub.execute_input": "2023-08-18T09:35:36.823692Z",
          "iopub.status.idle": "2023-08-18T09:35:36.963774Z",
          "shell.execute_reply.started": "2023-08-18T09:35:36.823658Z",
          "shell.execute_reply": "2023-08-18T09:35:36.962502Z"
        },
        "trusted": true,
        "id": "CSI1xDWpIOgK"
      },
      "execution_count": null,
      "outputs": []
    },
    {
      "cell_type": "markdown",
      "source": [
        "## Analysing _2platescost column"
      ],
      "metadata": {
        "id": "--TtLeOmIOgK"
      }
    },
    {
      "cell_type": "code",
      "source": [
        "df['_2platescost'].unique()"
      ],
      "metadata": {
        "execution": {
          "iopub.status.busy": "2023-08-18T09:35:36.965678Z",
          "iopub.execute_input": "2023-08-18T09:35:36.966048Z",
          "iopub.status.idle": "2023-08-18T09:35:36.983861Z",
          "shell.execute_reply.started": "2023-08-18T09:35:36.966018Z",
          "shell.execute_reply": "2023-08-18T09:35:36.982715Z"
        },
        "trusted": true,
        "id": "N2aXVzBmIOgK"
      },
      "execution_count": null,
      "outputs": []
    },
    {
      "cell_type": "code",
      "source": [
        "## converting the _2platescost dtype to float\n",
        "def float_conv(i):\n",
        "    if ',' in str(i):\n",
        "        return float(i.replace(',',''))\n",
        "    else:\n",
        "        return float(i)\n",
        "df._2platescost=df._2platescost.apply(float_conv)\n",
        "df['_2platescost'].unique()"
      ],
      "metadata": {
        "execution": {
          "iopub.status.busy": "2023-08-18T09:35:36.985488Z",
          "iopub.execute_input": "2023-08-18T09:35:36.985912Z",
          "iopub.status.idle": "2023-08-18T09:35:37.050887Z",
          "shell.execute_reply.started": "2023-08-18T09:35:36.985878Z",
          "shell.execute_reply": "2023-08-18T09:35:37.049495Z"
        },
        "trusted": true,
        "id": "xtyifFS4IOgK"
      },
      "execution_count": null,
      "outputs": []
    },
    {
      "cell_type": "markdown",
      "source": [
        "### Handling null values in _2platescost column"
      ],
      "metadata": {
        "id": "skU_HeAWIOgL"
      }
    },
    {
      "cell_type": "code",
      "source": [
        "df.loc[pd.isnull(df['_2platescost']),'restaurants'].unique()"
      ],
      "metadata": {
        "execution": {
          "iopub.status.busy": "2023-08-18T09:35:37.053481Z",
          "iopub.execute_input": "2023-08-18T09:35:37.053858Z",
          "iopub.status.idle": "2023-08-18T09:35:37.064142Z",
          "shell.execute_reply.started": "2023-08-18T09:35:37.053828Z",
          "shell.execute_reply": "2023-08-18T09:35:37.062710Z"
        },
        "trusted": true,
        "id": "VuHUNsf0IOgL"
      },
      "execution_count": null,
      "outputs": []
    },
    {
      "cell_type": "code",
      "source": [
        "null_2platescost=df.loc[df['_2platescost'].isnull(),'restaurants'].unique()\n",
        "null_2platescost"
      ],
      "metadata": {
        "execution": {
          "iopub.status.busy": "2023-08-18T09:35:37.066683Z",
          "iopub.execute_input": "2023-08-18T09:35:37.068391Z",
          "iopub.status.idle": "2023-08-18T09:35:37.084294Z",
          "shell.execute_reply.started": "2023-08-18T09:35:37.068328Z",
          "shell.execute_reply": "2023-08-18T09:35:37.083174Z"
        },
        "trusted": true,
        "id": "lmrZfb-7IOgL"
      },
      "execution_count": null,
      "outputs": []
    },
    {
      "cell_type": "code",
      "source": [
        "for i in range(len(null_2platescost)):\n",
        "    _2plates=df.loc[df['restaurants']==null_2platescost[i],'_2platescost']\n",
        "    df.loc[_2plates[_2plates.isnull()].index,'_2platescost']=round(_2plates.mean(),1)"
      ],
      "metadata": {
        "execution": {
          "iopub.status.busy": "2023-08-18T09:35:37.087101Z",
          "iopub.execute_input": "2023-08-18T09:35:37.087543Z",
          "iopub.status.idle": "2023-08-18T09:35:38.342247Z",
          "shell.execute_reply.started": "2023-08-18T09:35:37.087500Z",
          "shell.execute_reply": "2023-08-18T09:35:38.340316Z"
        },
        "trusted": true,
        "id": "hSiOkiW4IOgL"
      },
      "execution_count": null,
      "outputs": []
    },
    {
      "cell_type": "code",
      "source": [
        "df._2platescost.fillna(df['_2platescost'].mean(),inplace=True)"
      ],
      "metadata": {
        "execution": {
          "iopub.status.busy": "2023-08-18T09:35:38.344206Z",
          "iopub.execute_input": "2023-08-18T09:35:38.345307Z",
          "iopub.status.idle": "2023-08-18T09:35:38.354928Z",
          "shell.execute_reply.started": "2023-08-18T09:35:38.345264Z",
          "shell.execute_reply": "2023-08-18T09:35:38.352441Z"
        },
        "trusted": true,
        "id": "sDqJV7lWIOgM"
      },
      "execution_count": null,
      "outputs": []
    },
    {
      "cell_type": "code",
      "source": [
        "df.isnull().sum()"
      ],
      "metadata": {
        "execution": {
          "iopub.status.busy": "2023-08-18T09:35:38.358036Z",
          "iopub.execute_input": "2023-08-18T09:35:38.358652Z",
          "iopub.status.idle": "2023-08-18T09:35:38.498681Z",
          "shell.execute_reply.started": "2023-08-18T09:35:38.358612Z",
          "shell.execute_reply": "2023-08-18T09:35:38.496493Z"
        },
        "trusted": true,
        "id": "TV08bVoIIOgM"
      },
      "execution_count": null,
      "outputs": []
    },
    {
      "cell_type": "markdown",
      "source": [
        "# Data Visualisation"
      ],
      "metadata": {
        "id": "8sd1BVr5IOgM"
      }
    },
    {
      "cell_type": "code",
      "source": [
        "sns.set_style('dark')"
      ],
      "metadata": {
        "execution": {
          "iopub.status.busy": "2023-08-18T09:35:38.500684Z",
          "iopub.execute_input": "2023-08-18T09:35:38.501170Z",
          "iopub.status.idle": "2023-08-18T09:35:38.507191Z",
          "shell.execute_reply.started": "2023-08-18T09:35:38.501119Z",
          "shell.execute_reply": "2023-08-18T09:35:38.505641Z"
        },
        "trusted": true,
        "id": "nXSY_YhyIOgM"
      },
      "execution_count": null,
      "outputs": []
    },
    {
      "cell_type": "code",
      "source": [
        "plt.figure(figsize=(7,7))\n",
        "sns.distplot(df['rate'])"
      ],
      "metadata": {
        "execution": {
          "iopub.status.busy": "2023-08-18T09:35:38.511910Z",
          "iopub.execute_input": "2023-08-18T09:35:38.513658Z",
          "iopub.status.idle": "2023-08-18T09:35:39.535513Z",
          "shell.execute_reply.started": "2023-08-18T09:35:38.513560Z",
          "shell.execute_reply": "2023-08-18T09:35:39.534084Z"
        },
        "trusted": true,
        "id": "I9QE4iGkIOgM"
      },
      "execution_count": null,
      "outputs": []
    },
    {
      "cell_type": "code",
      "source": [
        "#rating counts of all the resturants in a location that has over 2.5K resturants"
      ],
      "metadata": {
        "execution": {
          "iopub.status.busy": "2023-08-18T09:35:39.543326Z",
          "iopub.execute_input": "2023-08-18T09:35:39.543732Z",
          "iopub.status.idle": "2023-08-18T09:35:39.548889Z",
          "shell.execute_reply.started": "2023-08-18T09:35:39.543700Z",
          "shell.execute_reply": "2023-08-18T09:35:39.547965Z"
        },
        "trusted": true,
        "id": "RgjpXLdRIOgM"
      },
      "execution_count": null,
      "outputs": []
    },
    {
      "cell_type": "code",
      "source": [
        "df.groupby('location')['restaurants'].size().sort_values(ascending=False) # top 6 locations have over 2.5K resutrants"
      ],
      "metadata": {
        "execution": {
          "iopub.status.busy": "2023-08-18T09:35:39.550274Z",
          "iopub.execute_input": "2023-08-18T09:35:39.550928Z",
          "iopub.status.idle": "2023-08-18T09:35:39.577609Z",
          "shell.execute_reply.started": "2023-08-18T09:35:39.550775Z",
          "shell.execute_reply": "2023-08-18T09:35:39.576244Z"
        },
        "trusted": true,
        "id": "3NcRuD-RIOgM"
      },
      "execution_count": null,
      "outputs": []
    },
    {
      "cell_type": "code",
      "source": [
        "loc_index=df.groupby('location')['restaurants'].size().sort_values(ascending=False).iloc[0:6].index\n",
        "f,a=plt.subplots(2,3,figsize=(15,10),dpi=100)\n",
        "for i,axes_subplot in enumerate(a.flatten()):\n",
        "    sns.histplot(data=df,x=df.loc[df[\"location\"]==loc_index[i],'rate'],bins=6,ax=axes_subplot)\n",
        "    axes_subplot.set_title(f\"{i+1} {loc_index[i]}\")\n",
        "plt.show()"
      ],
      "metadata": {
        "execution": {
          "iopub.status.busy": "2023-08-18T09:35:39.580696Z",
          "iopub.execute_input": "2023-08-18T09:35:39.581304Z",
          "iopub.status.idle": "2023-08-18T09:35:42.149922Z",
          "shell.execute_reply.started": "2023-08-18T09:35:39.581236Z",
          "shell.execute_reply": "2023-08-18T09:35:42.147527Z"
        },
        "trusted": true,
        "id": "0rkUuoPxIOgN"
      },
      "execution_count": null,
      "outputs": []
    },
    {
      "cell_type": "code",
      "source": [
        "plt.figure(figsize=(20,7))\n",
        "df['rest_type'].value_counts().nlargest(30).plot(kind='bar',color='gold')"
      ],
      "metadata": {
        "execution": {
          "iopub.status.busy": "2023-08-18T09:35:42.151654Z",
          "iopub.execute_input": "2023-08-18T09:35:42.152423Z",
          "iopub.status.idle": "2023-08-18T09:35:43.178960Z",
          "shell.execute_reply.started": "2023-08-18T09:35:42.152381Z",
          "shell.execute_reply": "2023-08-18T09:35:43.177881Z"
        },
        "trusted": true,
        "id": "yO9P-sfkIOgN"
      },
      "execution_count": null,
      "outputs": []
    },
    {
      "cell_type": "code",
      "source": [
        "# accept online orders, accept booking table, accept both, don't accept both\n",
        "accept_only_online_orders = df.online_order.value_counts().loc['Yes'] - df[(df['online_order']=='Yes') & (df['book_table']=='Yes')].book_table.value_counts().loc['Yes']\n",
        "#accept booking table\n",
        "accept_only_booking_table = df.book_table.value_counts().loc['Yes']-df[(df['online_order']=='Yes') & (df['book_table']=='Yes')].book_table.value_counts().loc['Yes']\n",
        "#accept both\n",
        "accept_both = df[(df['online_order']=='Yes') & (df['book_table']=='Yes')].book_table.value_counts().loc['Yes']\n",
        "#don't accept both\n",
        "dont_accept_both = df[(df['online_order']=='No') & (df['book_table']=='No')].book_table.value_counts().loc['No']\n",
        "\n",
        "size=[accept_only_online_orders,accept_only_booking_table,accept_both,dont_accept_both]\n",
        "labels=['Accept only Online orders','Accept only Booking table','Accept Both',\"Don't Accept both\"]\n",
        "colors=['gold','orange','coral','olive']\n",
        "explode=(.01,.01,.01,.01)\n",
        "plt.figure(figsize=(4,4),dpi=100)\n",
        "plt.pie(size,autopct='%.1f%%',colors=colors,labels=labels,explode=explode)\n",
        "plt.axis('equal')\n",
        "plt.show()"
      ],
      "metadata": {
        "execution": {
          "iopub.status.busy": "2023-08-18T09:35:43.180638Z",
          "iopub.execute_input": "2023-08-18T09:35:43.181139Z",
          "iopub.status.idle": "2023-08-18T09:35:43.529445Z",
          "shell.execute_reply.started": "2023-08-18T09:35:43.181093Z",
          "shell.execute_reply": "2023-08-18T09:35:43.527233Z"
        },
        "trusted": true,
        "id": "WTPay_w5IOgN"
      },
      "execution_count": null,
      "outputs": []
    },
    {
      "cell_type": "code",
      "source": [
        "loc=df.groupby('location')['restaurants'].unique()\n",
        "for i in range(loc.size):\n",
        "    loc.iloc[i]=loc.iloc[i].size\n",
        "loc=pd.DataFrame(loc)\n",
        "loc.restaurants.astype(int)\n",
        "loc"
      ],
      "metadata": {
        "execution": {
          "iopub.status.busy": "2023-08-18T09:35:43.532693Z",
          "iopub.execute_input": "2023-08-18T09:35:43.534016Z",
          "iopub.status.idle": "2023-08-18T09:35:43.589238Z",
          "shell.execute_reply.started": "2023-08-18T09:35:43.533914Z",
          "shell.execute_reply": "2023-08-18T09:35:43.586699Z"
        },
        "trusted": true,
        "id": "7EwlfZGVIOgN"
      },
      "execution_count": null,
      "outputs": []
    },
    {
      "cell_type": "code",
      "source": [
        "loc.sort_values(by='restaurants',ascending=False).plot.bar(figsize=(20,6),color='gold')\n",
        "plt.gcf().autofmt_xdate()\n",
        "plt.show()"
      ],
      "metadata": {
        "execution": {
          "iopub.status.busy": "2023-08-18T09:35:43.591454Z",
          "iopub.execute_input": "2023-08-18T09:35:43.591891Z",
          "iopub.status.idle": "2023-08-18T09:35:44.402012Z",
          "shell.execute_reply.started": "2023-08-18T09:35:43.591857Z",
          "shell.execute_reply": "2023-08-18T09:35:44.400604Z"
        },
        "trusted": true,
        "id": "kGSgeqY-IOgN"
      },
      "execution_count": null,
      "outputs": []
    }
  ]
}