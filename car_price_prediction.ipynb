{
  "metadata": {
    "kernelspec": {
      "language": "python",
      "display_name": "Python 3",
      "name": "python3"
    },
    "language_info": {
      "name": "python",
      "version": "3.10.12",
      "mimetype": "text/x-python",
      "codemirror_mode": {
        "name": "ipython",
        "version": 3
      },
      "pygments_lexer": "ipython3",
      "nbconvert_exporter": "python",
      "file_extension": ".py"
    },
    "colab": {
      "provenance": []
    }
  },
  "nbformat_minor": 0,
  "nbformat": 4,
  "cells": [
    {
      "cell_type": "code",
      "source": [
        "import pandas as pd\n",
        "from sklearn.model_selection import train_test_split\n",
        "from sklearn import metrics\n",
        "from sklearn.metrics import accuracy_score\n",
        "import matplotlib.pyplot as plt\n",
        "import seaborn as sns"
      ],
      "metadata": {
        "_uuid": "8f2839f25d086af736a60e9eeb907d3b93b6e0e5",
        "_cell_guid": "b1076dfc-b9ad-4769-8c92-a6c4dae69d19",
        "execution": {
          "iopub.status.busy": "2023-09-09T12:02:38.716261Z",
          "iopub.execute_input": "2023-09-09T12:02:38.716677Z",
          "iopub.status.idle": "2023-09-09T12:02:38.723011Z",
          "shell.execute_reply.started": "2023-09-09T12:02:38.716647Z",
          "shell.execute_reply": "2023-09-09T12:02:38.721793Z"
        },
        "trusted": true,
        "id": "LffxUQ3uE6p9"
      },
      "execution_count": 1,
      "outputs": []
    },
    {
      "cell_type": "markdown",
      "source": [
        "# **READING DATASET**"
      ],
      "metadata": {
        "id": "PyhqiSHXE6p_"
      }
    },
    {
      "cell_type": "code",
      "source": [
        "vehicle_dataset=pd.read_csv(\"/kaggle/input/vehicle-dataset-from-cardekho/car data.csv\")"
      ],
      "metadata": {
        "execution": {
          "iopub.status.busy": "2023-09-09T12:02:38.728695Z",
          "iopub.execute_input": "2023-09-09T12:02:38.729056Z",
          "iopub.status.idle": "2023-09-09T12:02:38.745473Z",
          "shell.execute_reply.started": "2023-09-09T12:02:38.729027Z",
          "shell.execute_reply": "2023-09-09T12:02:38.744507Z"
        },
        "trusted": true,
        "id": "bG9Q8ms0E6qA"
      },
      "execution_count": null,
      "outputs": []
    },
    {
      "cell_type": "code",
      "source": [
        "vehicle_dataset.shape"
      ],
      "metadata": {
        "execution": {
          "iopub.status.busy": "2023-09-09T12:02:38.747378Z",
          "iopub.execute_input": "2023-09-09T12:02:38.747699Z",
          "iopub.status.idle": "2023-09-09T12:02:38.754726Z",
          "shell.execute_reply.started": "2023-09-09T12:02:38.747671Z",
          "shell.execute_reply": "2023-09-09T12:02:38.753632Z"
        },
        "trusted": true,
        "id": "SlIXDWZME6qA"
      },
      "execution_count": null,
      "outputs": []
    },
    {
      "cell_type": "code",
      "source": [
        "vehicle_dataset.head()"
      ],
      "metadata": {
        "execution": {
          "iopub.status.busy": "2023-09-09T12:02:38.756572Z",
          "iopub.execute_input": "2023-09-09T12:02:38.757576Z",
          "iopub.status.idle": "2023-09-09T12:02:38.778660Z",
          "shell.execute_reply.started": "2023-09-09T12:02:38.757536Z",
          "shell.execute_reply": "2023-09-09T12:02:38.777585Z"
        },
        "trusted": true,
        "id": "O9uLQi7mE6qA"
      },
      "execution_count": null,
      "outputs": []
    },
    {
      "cell_type": "code",
      "source": [
        "import datetime\n",
        "date_time = datetime.datetime.now()\n",
        "print(date_time)\n",
        "vehicle_dataset['Age']=date_time.year - vehicle_dataset['Year']"
      ],
      "metadata": {
        "execution": {
          "iopub.status.busy": "2023-09-09T12:02:38.780720Z",
          "iopub.execute_input": "2023-09-09T12:02:38.781200Z",
          "iopub.status.idle": "2023-09-09T12:02:38.795098Z",
          "shell.execute_reply.started": "2023-09-09T12:02:38.781158Z",
          "shell.execute_reply": "2023-09-09T12:02:38.793931Z"
        },
        "trusted": true,
        "id": "DFMaBYGwE6qA"
      },
      "execution_count": null,
      "outputs": []
    },
    {
      "cell_type": "code",
      "source": [
        "vehicle_dataset.head()"
      ],
      "metadata": {
        "execution": {
          "iopub.status.busy": "2023-09-09T12:02:38.815402Z",
          "iopub.execute_input": "2023-09-09T12:02:38.815789Z",
          "iopub.status.idle": "2023-09-09T12:02:38.833172Z",
          "shell.execute_reply.started": "2023-09-09T12:02:38.815759Z",
          "shell.execute_reply": "2023-09-09T12:02:38.831898Z"
        },
        "trusted": true,
        "id": "WzGJlTc3E6qB"
      },
      "execution_count": null,
      "outputs": []
    },
    {
      "cell_type": "code",
      "source": [
        "class_counts = vehicle_dataset['Selling_Price'].value_counts()\n",
        "\n",
        "all_classes_equal = (class_counts == class_counts.iloc[0]).all()\n",
        "\n",
        "if all_classes_equal:\n",
        "    print(\"All unique classes have an equal number of instances.\")\n",
        "else:\n",
        "    print(\"Not all unique classes have an equal number of instances.\")\n",
        "    print(\"Class Counts:\")\n",
        "    print(class_counts)"
      ],
      "metadata": {
        "execution": {
          "iopub.status.busy": "2023-09-09T12:02:38.839342Z",
          "iopub.execute_input": "2023-09-09T12:02:38.839795Z",
          "iopub.status.idle": "2023-09-09T12:02:38.850878Z",
          "shell.execute_reply.started": "2023-09-09T12:02:38.839673Z",
          "shell.execute_reply": "2023-09-09T12:02:38.849484Z"
        },
        "trusted": true,
        "id": "Y6F8PN0YE6qB"
      },
      "execution_count": null,
      "outputs": []
    },
    {
      "cell_type": "code",
      "source": [
        "class_counts = vehicle_dataset['Selling_Price'].value_counts()\n",
        "plt.figure(figsize=(8, 6))\n",
        "plt.bar(class_counts.index, class_counts.values, color='magenta')\n",
        "plt.xlabel('Unique Classes')\n",
        "plt.ylabel('Number of Instances')\n",
        "plt.title('Class Distribution in the Dataset')\n",
        "plt.xticks(rotation=45)\n",
        "plt.show()"
      ],
      "metadata": {
        "execution": {
          "iopub.status.busy": "2023-09-09T12:02:38.853310Z",
          "iopub.execute_input": "2023-09-09T12:02:38.853698Z",
          "iopub.status.idle": "2023-09-09T12:02:39.431272Z",
          "shell.execute_reply.started": "2023-09-09T12:02:38.853664Z",
          "shell.execute_reply": "2023-09-09T12:02:39.430192Z"
        },
        "trusted": true,
        "id": "xYJe4UNPE6qB"
      },
      "execution_count": null,
      "outputs": []
    },
    {
      "cell_type": "markdown",
      "source": [
        "# **CHECKING FOR CORRELATED FEATURES USING HEATMAP**"
      ],
      "metadata": {
        "id": "F4AMGmugE6qB"
      }
    },
    {
      "cell_type": "code",
      "source": [
        "vehicle_df = pd.DataFrame(vehicle_dataset[['Present_Price', 'Kms_Driven','Age', 'Selling_Price']])"
      ],
      "metadata": {
        "execution": {
          "iopub.status.busy": "2023-09-09T12:02:39.433148Z",
          "iopub.execute_input": "2023-09-09T12:02:39.433451Z",
          "iopub.status.idle": "2023-09-09T12:02:39.439619Z",
          "shell.execute_reply.started": "2023-09-09T12:02:39.433424Z",
          "shell.execute_reply": "2023-09-09T12:02:39.438562Z"
        },
        "trusted": true,
        "id": "6AAfWTGBE6qB"
      },
      "execution_count": null,
      "outputs": []
    },
    {
      "cell_type": "code",
      "source": [
        "vehicle_corr = vehicle_df.corr()\n",
        "vehicle_corr"
      ],
      "metadata": {
        "execution": {
          "iopub.status.busy": "2023-09-09T12:02:39.441363Z",
          "iopub.execute_input": "2023-09-09T12:02:39.441938Z",
          "iopub.status.idle": "2023-09-09T12:02:39.462320Z",
          "shell.execute_reply.started": "2023-09-09T12:02:39.441898Z",
          "shell.execute_reply": "2023-09-09T12:02:39.461176Z"
        },
        "trusted": true,
        "id": "VnBGB1PKE6qC"
      },
      "execution_count": null,
      "outputs": []
    },
    {
      "cell_type": "code",
      "source": [
        "sns.heatmap(vehicle_corr, cmap = 'YlGnBu')"
      ],
      "metadata": {
        "execution": {
          "iopub.status.busy": "2023-09-09T12:02:39.465927Z",
          "iopub.execute_input": "2023-09-09T12:02:39.466270Z",
          "iopub.status.idle": "2023-09-09T12:02:39.816597Z",
          "shell.execute_reply.started": "2023-09-09T12:02:39.466241Z",
          "shell.execute_reply": "2023-09-09T12:02:39.815006Z"
        },
        "trusted": true,
        "id": "sRvbbGLqE6qC"
      },
      "execution_count": null,
      "outputs": []
    },
    {
      "cell_type": "code",
      "source": [
        "vehicle_dataset.shape"
      ],
      "metadata": {
        "execution": {
          "iopub.status.busy": "2023-09-09T12:02:39.818037Z",
          "iopub.execute_input": "2023-09-09T12:02:39.818999Z",
          "iopub.status.idle": "2023-09-09T12:02:39.825613Z",
          "shell.execute_reply.started": "2023-09-09T12:02:39.818963Z",
          "shell.execute_reply": "2023-09-09T12:02:39.824464Z"
        },
        "trusted": true,
        "id": "_gWZhu74E6qC"
      },
      "execution_count": null,
      "outputs": []
    },
    {
      "cell_type": "code",
      "source": [
        "vehicle_dataset.isnull().sum()"
      ],
      "metadata": {
        "execution": {
          "iopub.status.busy": "2023-09-09T12:02:39.827257Z",
          "iopub.execute_input": "2023-09-09T12:02:39.827563Z",
          "iopub.status.idle": "2023-09-09T12:02:39.843975Z",
          "shell.execute_reply.started": "2023-09-09T12:02:39.827536Z",
          "shell.execute_reply": "2023-09-09T12:02:39.843089Z"
        },
        "trusted": true,
        "id": "-oMSlOiRE6qC"
      },
      "execution_count": null,
      "outputs": []
    },
    {
      "cell_type": "code",
      "source": [
        "vehicle_dataset.duplicated().sum()"
      ],
      "metadata": {
        "execution": {
          "iopub.status.busy": "2023-09-09T12:02:39.845038Z",
          "iopub.execute_input": "2023-09-09T12:02:39.845827Z",
          "iopub.status.idle": "2023-09-09T12:02:39.862046Z",
          "shell.execute_reply.started": "2023-09-09T12:02:39.845785Z",
          "shell.execute_reply": "2023-09-09T12:02:39.860833Z"
        },
        "trusted": true,
        "id": "ishBQC96E6qC"
      },
      "execution_count": null,
      "outputs": []
    },
    {
      "cell_type": "code",
      "source": [
        "vehicle_dataset = vehicle_dataset.drop_duplicates()\n",
        "vehicle_dataset = vehicle_dataset.reset_index(drop=True)"
      ],
      "metadata": {
        "execution": {
          "iopub.status.busy": "2023-09-09T12:02:39.863487Z",
          "iopub.execute_input": "2023-09-09T12:02:39.863868Z",
          "iopub.status.idle": "2023-09-09T12:02:39.876242Z",
          "shell.execute_reply.started": "2023-09-09T12:02:39.863827Z",
          "shell.execute_reply": "2023-09-09T12:02:39.875020Z"
        },
        "trusted": true,
        "id": "5xS2kTITE6qC"
      },
      "execution_count": null,
      "outputs": []
    },
    {
      "cell_type": "code",
      "source": [
        "vehicle_dataset.duplicated().sum()"
      ],
      "metadata": {
        "execution": {
          "iopub.status.busy": "2023-09-09T12:02:39.877952Z",
          "iopub.execute_input": "2023-09-09T12:02:39.878281Z",
          "iopub.status.idle": "2023-09-09T12:02:39.893238Z",
          "shell.execute_reply.started": "2023-09-09T12:02:39.878253Z",
          "shell.execute_reply": "2023-09-09T12:02:39.892125Z"
        },
        "trusted": true,
        "id": "z03r-dnmE6qC"
      },
      "execution_count": null,
      "outputs": []
    },
    {
      "cell_type": "code",
      "source": [
        "categorical_missing_counts = vehicle_dataset.select_dtypes(include=['object']).isnull().sum()\n",
        "print(categorical_missing_counts)"
      ],
      "metadata": {
        "execution": {
          "iopub.status.busy": "2023-09-09T12:02:39.898161Z",
          "iopub.execute_input": "2023-09-09T12:02:39.898528Z",
          "iopub.status.idle": "2023-09-09T12:02:39.906105Z",
          "shell.execute_reply.started": "2023-09-09T12:02:39.898498Z",
          "shell.execute_reply": "2023-09-09T12:02:39.905253Z"
        },
        "trusted": true,
        "id": "Knp64fj3E6qD"
      },
      "execution_count": null,
      "outputs": []
    },
    {
      "cell_type": "markdown",
      "source": [
        "# **BINARY ENCODING**"
      ],
      "metadata": {
        "id": "SMjRxC-lE6qD"
      }
    },
    {
      "cell_type": "code",
      "source": [
        "vehicle_dataset['Fuel_Type'].unique()"
      ],
      "metadata": {
        "execution": {
          "iopub.status.busy": "2023-09-09T12:02:39.907295Z",
          "iopub.execute_input": "2023-09-09T12:02:39.907991Z",
          "iopub.status.idle": "2023-09-09T12:02:39.918870Z",
          "shell.execute_reply.started": "2023-09-09T12:02:39.907959Z",
          "shell.execute_reply": "2023-09-09T12:02:39.918080Z"
        },
        "trusted": true,
        "id": "7rvw2ZWfE6qD"
      },
      "execution_count": null,
      "outputs": []
    },
    {
      "cell_type": "code",
      "source": [
        "vehicle_dataset['Seller_Type'].unique()"
      ],
      "metadata": {
        "execution": {
          "iopub.status.busy": "2023-09-09T12:02:39.920073Z",
          "iopub.execute_input": "2023-09-09T12:02:39.920559Z",
          "iopub.status.idle": "2023-09-09T12:02:39.935531Z",
          "shell.execute_reply.started": "2023-09-09T12:02:39.920531Z",
          "shell.execute_reply": "2023-09-09T12:02:39.934440Z"
        },
        "trusted": true,
        "id": "wajgX-SfE6qD"
      },
      "execution_count": null,
      "outputs": []
    },
    {
      "cell_type": "code",
      "source": [
        "vehicle_dataset['Transmission'].unique()"
      ],
      "metadata": {
        "execution": {
          "iopub.status.busy": "2023-09-09T12:02:39.937177Z",
          "iopub.execute_input": "2023-09-09T12:02:39.937660Z",
          "iopub.status.idle": "2023-09-09T12:02:39.949428Z",
          "shell.execute_reply.started": "2023-09-09T12:02:39.937621Z",
          "shell.execute_reply": "2023-09-09T12:02:39.948398Z"
        },
        "trusted": true,
        "id": "7VBITbsYE6qD"
      },
      "execution_count": null,
      "outputs": []
    },
    {
      "cell_type": "code",
      "source": [
        "vehicle_dataset['Owner'].unique()"
      ],
      "metadata": {
        "execution": {
          "iopub.status.busy": "2023-09-09T12:02:39.950790Z",
          "iopub.execute_input": "2023-09-09T12:02:39.951567Z",
          "iopub.status.idle": "2023-09-09T12:02:39.963164Z",
          "shell.execute_reply.started": "2023-09-09T12:02:39.951528Z",
          "shell.execute_reply": "2023-09-09T12:02:39.961681Z"
        },
        "trusted": true,
        "id": "UFKXDuo7E6qD"
      },
      "execution_count": null,
      "outputs": []
    },
    {
      "cell_type": "code",
      "source": [
        "vehicle_dataset['Fuel_Type'] = vehicle_dataset['Fuel_Type'].map({'Petrol':2,'Diesel':1,'CNG':0})"
      ],
      "metadata": {
        "execution": {
          "iopub.status.busy": "2023-09-09T12:02:39.964294Z",
          "iopub.execute_input": "2023-09-09T12:02:39.964619Z",
          "iopub.status.idle": "2023-09-09T12:02:39.976734Z",
          "shell.execute_reply.started": "2023-09-09T12:02:39.964592Z",
          "shell.execute_reply": "2023-09-09T12:02:39.975874Z"
        },
        "trusted": true,
        "id": "kpnN3VyME6qD"
      },
      "execution_count": null,
      "outputs": []
    },
    {
      "cell_type": "code",
      "source": [
        "vehicle_dataset['Seller_Type'] = vehicle_dataset['Seller_Type'].map({'Dealer':0,'Individual':1})"
      ],
      "metadata": {
        "execution": {
          "iopub.status.busy": "2023-09-09T12:02:39.978225Z",
          "iopub.execute_input": "2023-09-09T12:02:39.978547Z",
          "iopub.status.idle": "2023-09-09T12:02:39.993674Z",
          "shell.execute_reply.started": "2023-09-09T12:02:39.978520Z",
          "shell.execute_reply": "2023-09-09T12:02:39.991997Z"
        },
        "trusted": true,
        "id": "RY50qns2E6qD"
      },
      "execution_count": null,
      "outputs": []
    },
    {
      "cell_type": "code",
      "source": [
        "vehicle_dataset['Transmission'] = vehicle_dataset['Transmission'].map({'Manual':0,'Automatic':1})"
      ],
      "metadata": {
        "execution": {
          "iopub.status.busy": "2023-09-09T12:02:39.995539Z",
          "iopub.execute_input": "2023-09-09T12:02:39.996335Z",
          "iopub.status.idle": "2023-09-09T12:02:40.008464Z",
          "shell.execute_reply.started": "2023-09-09T12:02:39.996290Z",
          "shell.execute_reply": "2023-09-09T12:02:40.007439Z"
        },
        "trusted": true,
        "id": "L6vNvcyKE6qD"
      },
      "execution_count": null,
      "outputs": []
    },
    {
      "cell_type": "code",
      "source": [
        "vehicle_dataset.head()"
      ],
      "metadata": {
        "execution": {
          "iopub.status.busy": "2023-09-09T12:02:40.009743Z",
          "iopub.execute_input": "2023-09-09T12:02:40.010262Z",
          "iopub.status.idle": "2023-09-09T12:02:40.036393Z",
          "shell.execute_reply.started": "2023-09-09T12:02:40.010214Z",
          "shell.execute_reply": "2023-09-09T12:02:40.035039Z"
        },
        "trusted": true,
        "id": "lO5KMpP-E6qE"
      },
      "execution_count": null,
      "outputs": []
    },
    {
      "cell_type": "markdown",
      "source": [
        "# **MAINTAINING SELLING PRICE**"
      ],
      "metadata": {
        "id": "sFaYPf1dE6qE"
      }
    },
    {
      "cell_type": "code",
      "source": [
        "sns.boxplot(vehicle_dataset['Selling_Price'])"
      ],
      "metadata": {
        "execution": {
          "iopub.status.busy": "2023-09-09T12:02:40.037945Z",
          "iopub.execute_input": "2023-09-09T12:02:40.038635Z",
          "iopub.status.idle": "2023-09-09T12:02:40.273373Z",
          "shell.execute_reply.started": "2023-09-09T12:02:40.038594Z",
          "shell.execute_reply": "2023-09-09T12:02:40.272173Z"
        },
        "trusted": true,
        "id": "saCo2q65E6qE"
      },
      "execution_count": null,
      "outputs": []
    },
    {
      "cell_type": "code",
      "source": [
        "sorted_price = sorted(vehicle_dataset['Selling_Price'], reverse = True)\n",
        "print(sorted_price[:10])"
      ],
      "metadata": {
        "execution": {
          "iopub.status.busy": "2023-09-09T12:02:40.274698Z",
          "iopub.execute_input": "2023-09-09T12:02:40.275059Z",
          "iopub.status.idle": "2023-09-09T12:02:40.281084Z",
          "shell.execute_reply.started": "2023-09-09T12:02:40.275029Z",
          "shell.execute_reply": "2023-09-09T12:02:40.279999Z"
        },
        "trusted": true,
        "id": "P6KyCXD2E6qE"
      },
      "execution_count": null,
      "outputs": []
    },
    {
      "cell_type": "code",
      "source": [
        "vehicle_dataset[(vehicle_dataset['Selling_Price']>=33.0) & (vehicle_dataset['Selling_Price']<=35.0)]"
      ],
      "metadata": {
        "execution": {
          "iopub.status.busy": "2023-09-09T12:02:40.282503Z",
          "iopub.execute_input": "2023-09-09T12:02:40.283202Z",
          "iopub.status.idle": "2023-09-09T12:02:40.307095Z",
          "shell.execute_reply.started": "2023-09-09T12:02:40.283163Z",
          "shell.execute_reply": "2023-09-09T12:02:40.305740Z"
        },
        "trusted": true,
        "id": "buUNsStbE6qE"
      },
      "execution_count": null,
      "outputs": []
    },
    {
      "cell_type": "code",
      "source": [
        "vehicle_dataset = vehicle_dataset[~(vehicle_dataset['Selling_Price']>=33.0) & (vehicle_dataset['Selling_Price']<=35.0)]"
      ],
      "metadata": {
        "execution": {
          "iopub.status.busy": "2023-09-09T12:02:40.308841Z",
          "iopub.execute_input": "2023-09-09T12:02:40.309286Z",
          "iopub.status.idle": "2023-09-09T12:02:40.321351Z",
          "shell.execute_reply.started": "2023-09-09T12:02:40.309245Z",
          "shell.execute_reply": "2023-09-09T12:02:40.320482Z"
        },
        "trusted": true,
        "id": "RzjvBs1LE6qE"
      },
      "execution_count": null,
      "outputs": []
    },
    {
      "cell_type": "code",
      "source": [
        "sns.boxplot(vehicle_dataset['Selling_Price'])"
      ],
      "metadata": {
        "execution": {
          "iopub.status.busy": "2023-09-09T12:02:40.322601Z",
          "iopub.execute_input": "2023-09-09T12:02:40.323782Z",
          "iopub.status.idle": "2023-09-09T12:02:40.717275Z",
          "shell.execute_reply.started": "2023-09-09T12:02:40.323734Z",
          "shell.execute_reply": "2023-09-09T12:02:40.716043Z"
        },
        "trusted": true,
        "id": "qdFJoy3KE6qE"
      },
      "execution_count": null,
      "outputs": []
    },
    {
      "cell_type": "markdown",
      "source": [
        "# **FEATURES SCALING**"
      ],
      "metadata": {
        "id": "T69KJyQUE6qE"
      }
    },
    {
      "cell_type": "code",
      "source": [
        "from sklearn.preprocessing import MinMaxScaler\n",
        "scaler = MinMaxScaler()\n",
        "vehicle_dataset[['Age','Kms_Driven','Selling_Price','Present_Price']]=scaler.fit_transform(vehicle_dataset[['Age','Kms_Driven','Selling_Price','Present_Price']])"
      ],
      "metadata": {
        "execution": {
          "iopub.status.busy": "2023-09-09T12:02:40.719182Z",
          "iopub.execute_input": "2023-09-09T12:02:40.719931Z",
          "iopub.status.idle": "2023-09-09T12:02:40.734404Z",
          "shell.execute_reply.started": "2023-09-09T12:02:40.719889Z",
          "shell.execute_reply": "2023-09-09T12:02:40.733152Z"
        },
        "trusted": true,
        "id": "TyKzvNccE6qE"
      },
      "execution_count": null,
      "outputs": []
    },
    {
      "cell_type": "code",
      "source": [
        "X=vehicle_dataset.drop([\"Car_Name\",\"Selling_Price\"],axis=1)\n",
        "Y=vehicle_dataset[\"Selling_Price\"]"
      ],
      "metadata": {
        "execution": {
          "iopub.status.busy": "2023-09-09T12:02:40.736303Z",
          "iopub.execute_input": "2023-09-09T12:02:40.737607Z",
          "iopub.status.idle": "2023-09-09T12:02:40.745015Z",
          "shell.execute_reply.started": "2023-09-09T12:02:40.737565Z",
          "shell.execute_reply": "2023-09-09T12:02:40.743870Z"
        },
        "trusted": true,
        "id": "IHVUHhEaE6qF"
      },
      "execution_count": null,
      "outputs": []
    },
    {
      "cell_type": "code",
      "source": [
        "print(X)"
      ],
      "metadata": {
        "execution": {
          "iopub.status.busy": "2023-09-09T12:02:40.746772Z",
          "iopub.execute_input": "2023-09-09T12:02:40.747234Z",
          "iopub.status.idle": "2023-09-09T12:02:40.768758Z",
          "shell.execute_reply.started": "2023-09-09T12:02:40.747194Z",
          "shell.execute_reply": "2023-09-09T12:02:40.767870Z"
        },
        "trusted": true,
        "id": "JXN-DfHvE6qF"
      },
      "execution_count": null,
      "outputs": []
    },
    {
      "cell_type": "code",
      "source": [
        "print(Y)"
      ],
      "metadata": {
        "execution": {
          "iopub.status.busy": "2023-09-09T12:02:40.770028Z",
          "iopub.execute_input": "2023-09-09T12:02:40.771149Z",
          "iopub.status.idle": "2023-09-09T12:02:40.786249Z",
          "shell.execute_reply.started": "2023-09-09T12:02:40.771116Z",
          "shell.execute_reply": "2023-09-09T12:02:40.784780Z"
        },
        "trusted": true,
        "id": "xtL1zmY0E6qF"
      },
      "execution_count": null,
      "outputs": []
    },
    {
      "cell_type": "markdown",
      "source": [
        "# **SPLIT FUNCTION**"
      ],
      "metadata": {
        "id": "ksFTQ8WgE6qG"
      }
    },
    {
      "cell_type": "code",
      "source": [
        "X_train, X_test, Y_train, Y_test = train_test_split(X, Y, test_size = 0.3, random_state=42)"
      ],
      "metadata": {
        "execution": {
          "iopub.status.busy": "2023-09-09T12:02:40.797383Z",
          "iopub.execute_input": "2023-09-09T12:02:40.798181Z",
          "iopub.status.idle": "2023-09-09T12:02:40.805611Z",
          "shell.execute_reply.started": "2023-09-09T12:02:40.798135Z",
          "shell.execute_reply": "2023-09-09T12:02:40.804475Z"
        },
        "trusted": true,
        "id": "wonlTsSvE6qG"
      },
      "execution_count": null,
      "outputs": []
    },
    {
      "cell_type": "markdown",
      "source": [
        "# **MODEL 1: DECISION TREE**"
      ],
      "metadata": {
        "id": "nwzDBmPQE6qG"
      }
    },
    {
      "cell_type": "code",
      "source": [
        "from sklearn.tree import DecisionTreeRegressor\n",
        "tree = DecisionTreeRegressor()\n",
        "tree.fit(X_train, Y_train)"
      ],
      "metadata": {
        "execution": {
          "iopub.status.busy": "2023-09-09T12:02:40.807316Z",
          "iopub.execute_input": "2023-09-09T12:02:40.807760Z",
          "iopub.status.idle": "2023-09-09T12:02:40.827586Z",
          "shell.execute_reply.started": "2023-09-09T12:02:40.807716Z",
          "shell.execute_reply": "2023-09-09T12:02:40.826168Z"
        },
        "trusted": true,
        "id": "YZqNTXsNE6qG"
      },
      "execution_count": null,
      "outputs": []
    },
    {
      "cell_type": "code",
      "source": [
        "print(\"Training accuracy of the model is {:.2f}\".format(tree.score(X_train, Y_train)))\n",
        "print(\"Testing accuracy of the model is {:.2f}\".format(tree.score(X_test, Y_test)))"
      ],
      "metadata": {
        "execution": {
          "iopub.status.busy": "2023-09-09T12:02:40.829498Z",
          "iopub.execute_input": "2023-09-09T12:02:40.829969Z",
          "iopub.status.idle": "2023-09-09T12:02:40.845792Z",
          "shell.execute_reply.started": "2023-09-09T12:02:40.829928Z",
          "shell.execute_reply": "2023-09-09T12:02:40.844882Z"
        },
        "trusted": true,
        "id": "ykQpEbwhE6qG"
      },
      "execution_count": null,
      "outputs": []
    },
    {
      "cell_type": "code",
      "source": [
        "training_data_predction = tree.predict(X_train)\n",
        "r_train_score1 = metrics.r2_score(Y_train, training_data_predction)\n",
        "print(\"R squared score of Training Set : \", r_train_score1)"
      ],
      "metadata": {
        "execution": {
          "iopub.status.busy": "2023-09-09T12:02:40.847256Z",
          "iopub.execute_input": "2023-09-09T12:02:40.848132Z",
          "iopub.status.idle": "2023-09-09T12:02:40.862638Z",
          "shell.execute_reply.started": "2023-09-09T12:02:40.848091Z",
          "shell.execute_reply": "2023-09-09T12:02:40.861489Z"
        },
        "trusted": true,
        "id": "9KOf5y91E6qH"
      },
      "execution_count": null,
      "outputs": []
    },
    {
      "cell_type": "code",
      "source": [
        "test_data_predction = tree.predict(X_test)\n",
        "r_test_score1 = metrics.r2_score(Y_test, test_data_predction)\n",
        "print(\"R squared score of Test Set : \", r_test_score1)"
      ],
      "metadata": {
        "execution": {
          "iopub.status.busy": "2023-09-09T12:02:40.864371Z",
          "iopub.execute_input": "2023-09-09T12:02:40.864790Z",
          "iopub.status.idle": "2023-09-09T12:02:40.878377Z",
          "shell.execute_reply.started": "2023-09-09T12:02:40.864750Z",
          "shell.execute_reply": "2023-09-09T12:02:40.877423Z"
        },
        "trusted": true,
        "id": "RVg4qseYE6qH"
      },
      "execution_count": null,
      "outputs": []
    },
    {
      "cell_type": "code",
      "source": [
        "ex_test_score1 = metrics.explained_variance_score(Y_test, test_data_predction)\n",
        "print(\"Explained Variance score of Test Set : \", ex_test_score1)"
      ],
      "metadata": {
        "execution": {
          "iopub.status.busy": "2023-09-09T12:02:40.880083Z",
          "iopub.execute_input": "2023-09-09T12:02:40.881139Z",
          "iopub.status.idle": "2023-09-09T12:02:40.894998Z",
          "shell.execute_reply.started": "2023-09-09T12:02:40.881099Z",
          "shell.execute_reply": "2023-09-09T12:02:40.893645Z"
        },
        "trusted": true,
        "id": "NtwiWDNWE6qH"
      },
      "execution_count": null,
      "outputs": []
    },
    {
      "cell_type": "code",
      "source": [
        "mae_test_score1 = metrics.mean_absolute_error(Y_test, test_data_predction)\n",
        "print(\"Mean Absolute Error score of Test Set : \", mae_test_score1)"
      ],
      "metadata": {
        "execution": {
          "iopub.status.busy": "2023-09-09T12:02:40.896953Z",
          "iopub.execute_input": "2023-09-09T12:02:40.897487Z",
          "iopub.status.idle": "2023-09-09T12:02:40.911518Z",
          "shell.execute_reply.started": "2023-09-09T12:02:40.897453Z",
          "shell.execute_reply": "2023-09-09T12:02:40.910298Z"
        },
        "trusted": true,
        "id": "B9_q9weEE6qH"
      },
      "execution_count": null,
      "outputs": []
    },
    {
      "cell_type": "markdown",
      "source": [
        "# **MODEL 2: LINEAR REGRESSION**"
      ],
      "metadata": {
        "id": "QCLDLAaEE6qH"
      }
    },
    {
      "cell_type": "code",
      "source": [
        "from sklearn.linear_model import LinearRegression\n",
        "linear = LinearRegression()\n",
        "linear.fit(X_train,Y_train)"
      ],
      "metadata": {
        "execution": {
          "iopub.status.busy": "2023-09-09T12:02:40.912969Z",
          "iopub.execute_input": "2023-09-09T12:02:40.913311Z",
          "iopub.status.idle": "2023-09-09T12:02:40.934855Z",
          "shell.execute_reply.started": "2023-09-09T12:02:40.913281Z",
          "shell.execute_reply": "2023-09-09T12:02:40.933106Z"
        },
        "trusted": true,
        "id": "9RQUKTdBE6qH"
      },
      "execution_count": null,
      "outputs": []
    },
    {
      "cell_type": "code",
      "source": [
        "print(\"Training accuracy of the model is {:.2f}\".format(linear.score(X_train, Y_train)))\n",
        "print(\"Testing accuracy of the model is {:.2f}\".format(linear.score(X_test, Y_test)))"
      ],
      "metadata": {
        "execution": {
          "iopub.status.busy": "2023-09-09T12:02:40.936194Z",
          "iopub.execute_input": "2023-09-09T12:02:40.936637Z",
          "iopub.status.idle": "2023-09-09T12:02:40.951866Z",
          "shell.execute_reply.started": "2023-09-09T12:02:40.936597Z",
          "shell.execute_reply": "2023-09-09T12:02:40.950511Z"
        },
        "trusted": true,
        "id": "Yc--S-ulE6qH"
      },
      "execution_count": null,
      "outputs": []
    },
    {
      "cell_type": "code",
      "source": [
        "training_data_predction = linear.predict(X_train)\n",
        "r_train_score2 = metrics.r2_score(Y_train, training_data_predction)\n",
        "print(\"R squared score of Training Set : \", r_train_score2)"
      ],
      "metadata": {
        "execution": {
          "iopub.status.busy": "2023-09-09T12:02:40.953177Z",
          "iopub.execute_input": "2023-09-09T12:02:40.953620Z",
          "iopub.status.idle": "2023-09-09T12:02:40.965961Z",
          "shell.execute_reply.started": "2023-09-09T12:02:40.953580Z",
          "shell.execute_reply": "2023-09-09T12:02:40.964918Z"
        },
        "trusted": true,
        "id": "9n9dzLE-E6qH"
      },
      "execution_count": null,
      "outputs": []
    },
    {
      "cell_type": "code",
      "source": [
        "test_data_predction = linear.predict(X_test)\n",
        "r_test_score2 = metrics.r2_score(Y_test, test_data_predction)\n",
        "print(\"R squared score of Test Set : \", r_test_score2)"
      ],
      "metadata": {
        "execution": {
          "iopub.status.busy": "2023-09-09T12:02:40.967074Z",
          "iopub.execute_input": "2023-09-09T12:02:40.967529Z",
          "iopub.status.idle": "2023-09-09T12:02:40.982395Z",
          "shell.execute_reply.started": "2023-09-09T12:02:40.967485Z",
          "shell.execute_reply": "2023-09-09T12:02:40.981255Z"
        },
        "trusted": true,
        "id": "snn3SuqdE6qI"
      },
      "execution_count": null,
      "outputs": []
    },
    {
      "cell_type": "code",
      "source": [
        "ex_test_score2 = metrics.explained_variance_score(Y_test, test_data_predction)\n",
        "print(\"Explained Variance score of Test Set : \", ex_test_score2)"
      ],
      "metadata": {
        "execution": {
          "iopub.status.busy": "2023-09-09T12:02:40.984010Z",
          "iopub.execute_input": "2023-09-09T12:02:40.984704Z",
          "iopub.status.idle": "2023-09-09T12:02:40.995916Z",
          "shell.execute_reply.started": "2023-09-09T12:02:40.984672Z",
          "shell.execute_reply": "2023-09-09T12:02:40.994226Z"
        },
        "trusted": true,
        "id": "vHobpDyhE6qI"
      },
      "execution_count": null,
      "outputs": []
    },
    {
      "cell_type": "code",
      "source": [
        "mae_test_score2 = metrics.mean_absolute_error(Y_test, test_data_predction)\n",
        "print(\"Mean Absolute Error score of Test Set : \", mae_test_score2)"
      ],
      "metadata": {
        "execution": {
          "iopub.status.busy": "2023-09-09T12:02:40.997897Z",
          "iopub.execute_input": "2023-09-09T12:02:40.998703Z",
          "iopub.status.idle": "2023-09-09T12:02:41.013665Z",
          "shell.execute_reply.started": "2023-09-09T12:02:40.998670Z",
          "shell.execute_reply": "2023-09-09T12:02:41.012333Z"
        },
        "trusted": true,
        "id": "ewcGWMhME6qI"
      },
      "execution_count": null,
      "outputs": []
    },
    {
      "cell_type": "markdown",
      "source": [
        "# **MODEL 3: GRADIENT BOOSTING REGRESSOR**"
      ],
      "metadata": {
        "id": "yMzIb6jjE6qI"
      }
    },
    {
      "cell_type": "code",
      "source": [
        "from sklearn.ensemble import GradientBoostingRegressor\n",
        "grad = GradientBoostingRegressor()\n",
        "grad.fit(X_train,Y_train)"
      ],
      "metadata": {
        "execution": {
          "iopub.status.busy": "2023-09-09T12:02:41.015627Z",
          "iopub.execute_input": "2023-09-09T12:02:41.016111Z",
          "iopub.status.idle": "2023-09-09T12:02:41.123253Z",
          "shell.execute_reply.started": "2023-09-09T12:02:41.016070Z",
          "shell.execute_reply": "2023-09-09T12:02:41.122237Z"
        },
        "trusted": true,
        "id": "MPyHRq5HE6qI"
      },
      "execution_count": null,
      "outputs": []
    },
    {
      "cell_type": "code",
      "source": [
        "print(\"Training accuracy of the model is {:.2f}\".format(grad.score(X_train, Y_train)))\n",
        "print(\"Testing accuracy of the model is {:.2f}\".format(grad.score(X_test, Y_test)))"
      ],
      "metadata": {
        "execution": {
          "iopub.status.busy": "2023-09-09T12:02:41.124934Z",
          "iopub.execute_input": "2023-09-09T12:02:41.125582Z",
          "iopub.status.idle": "2023-09-09T12:02:41.142092Z",
          "shell.execute_reply.started": "2023-09-09T12:02:41.125539Z",
          "shell.execute_reply": "2023-09-09T12:02:41.140667Z"
        },
        "trusted": true,
        "id": "zymlomUTE6qI"
      },
      "execution_count": null,
      "outputs": []
    },
    {
      "cell_type": "code",
      "source": [
        "training_data_predction = grad.predict(X_train)\n",
        "r_train_score3 = metrics.r2_score(Y_train, training_data_predction)\n",
        "print(\"R squared score of Training Set : \", r_train_score3)"
      ],
      "metadata": {
        "execution": {
          "iopub.status.busy": "2023-09-09T12:02:41.144271Z",
          "iopub.execute_input": "2023-09-09T12:02:41.145024Z",
          "iopub.status.idle": "2023-09-09T12:02:41.158470Z",
          "shell.execute_reply.started": "2023-09-09T12:02:41.144981Z",
          "shell.execute_reply": "2023-09-09T12:02:41.157291Z"
        },
        "trusted": true,
        "id": "Qy_nqrcJE6qI"
      },
      "execution_count": null,
      "outputs": []
    },
    {
      "cell_type": "code",
      "source": [
        "test_data_predction = grad.predict(X_test)\n",
        "r_test_score3 = metrics.r2_score(Y_test, test_data_predction)\n",
        "print(\"R squared score of Test Set : \", r_test_score3)"
      ],
      "metadata": {
        "execution": {
          "iopub.status.busy": "2023-09-09T12:02:41.161052Z",
          "iopub.execute_input": "2023-09-09T12:02:41.161768Z",
          "iopub.status.idle": "2023-09-09T12:02:41.175634Z",
          "shell.execute_reply.started": "2023-09-09T12:02:41.161727Z",
          "shell.execute_reply": "2023-09-09T12:02:41.174673Z"
        },
        "trusted": true,
        "id": "NKszNXZPE6qJ"
      },
      "execution_count": null,
      "outputs": []
    },
    {
      "cell_type": "code",
      "source": [
        "ex_test_score3 = metrics.explained_variance_score(Y_test, test_data_predction)\n",
        "print(\"Explained Variance score of Test Set : \", ex_test_score3)"
      ],
      "metadata": {
        "execution": {
          "iopub.status.busy": "2023-09-09T12:02:41.177077Z",
          "iopub.execute_input": "2023-09-09T12:02:41.178042Z",
          "iopub.status.idle": "2023-09-09T12:02:41.189503Z",
          "shell.execute_reply.started": "2023-09-09T12:02:41.178002Z",
          "shell.execute_reply": "2023-09-09T12:02:41.188251Z"
        },
        "trusted": true,
        "id": "00IYeAFAE6qJ"
      },
      "execution_count": null,
      "outputs": []
    },
    {
      "cell_type": "code",
      "source": [
        "mae_test_score3 = metrics.mean_absolute_error(Y_test, test_data_predction)\n",
        "print(\"Mean Absolute Error score of Test Set : \", mae_test_score3)"
      ],
      "metadata": {
        "execution": {
          "iopub.status.busy": "2023-09-09T12:02:41.191330Z",
          "iopub.execute_input": "2023-09-09T12:02:41.192576Z",
          "iopub.status.idle": "2023-09-09T12:02:41.205063Z",
          "shell.execute_reply.started": "2023-09-09T12:02:41.192541Z",
          "shell.execute_reply": "2023-09-09T12:02:41.203733Z"
        },
        "trusted": true,
        "id": "8DvC710TE6qJ"
      },
      "execution_count": null,
      "outputs": []
    },
    {
      "cell_type": "markdown",
      "source": [
        "# **MODEL 4: RIDGE REGRESSION**"
      ],
      "metadata": {
        "id": "SKT_A3XLE6qJ"
      }
    },
    {
      "cell_type": "code",
      "source": [
        "from sklearn.linear_model import Ridge\n",
        "rid= Ridge()\n",
        "rid.fit(X_train, Y_train)"
      ],
      "metadata": {
        "execution": {
          "iopub.status.busy": "2023-09-09T12:02:41.206804Z",
          "iopub.execute_input": "2023-09-09T12:02:41.207450Z",
          "iopub.status.idle": "2023-09-09T12:02:41.225053Z",
          "shell.execute_reply.started": "2023-09-09T12:02:41.207408Z",
          "shell.execute_reply": "2023-09-09T12:02:41.223747Z"
        },
        "trusted": true,
        "id": "7Zywi8wrE6qJ"
      },
      "execution_count": null,
      "outputs": []
    },
    {
      "cell_type": "code",
      "source": [
        "print(\"Training accuracy of the model is {:.2f}\".format(rid.score(X_train, Y_train)))\n",
        "print(\"Testing accuracy of the model is {:.2f}\".format(rid.score(X_test, Y_test)))"
      ],
      "metadata": {
        "execution": {
          "iopub.status.busy": "2023-09-09T12:02:41.226563Z",
          "iopub.execute_input": "2023-09-09T12:02:41.229574Z",
          "iopub.status.idle": "2023-09-09T12:02:41.244630Z",
          "shell.execute_reply.started": "2023-09-09T12:02:41.229538Z",
          "shell.execute_reply": "2023-09-09T12:02:41.243480Z"
        },
        "trusted": true,
        "id": "hzFCPPM3E6qJ"
      },
      "execution_count": null,
      "outputs": []
    },
    {
      "cell_type": "code",
      "source": [
        "training_data_predction = rid.predict(X_train)\n",
        "r_train_score4 = metrics.r2_score(Y_train, training_data_predction)\n",
        "print(\"R squared score of Training Set : \", r_train_score4)"
      ],
      "metadata": {
        "execution": {
          "iopub.status.busy": "2023-09-09T12:02:41.246313Z",
          "iopub.execute_input": "2023-09-09T12:02:41.247552Z",
          "iopub.status.idle": "2023-09-09T12:02:41.258921Z",
          "shell.execute_reply.started": "2023-09-09T12:02:41.247507Z",
          "shell.execute_reply": "2023-09-09T12:02:41.257747Z"
        },
        "trusted": true,
        "id": "yGDKaMXxE6qJ"
      },
      "execution_count": null,
      "outputs": []
    },
    {
      "cell_type": "code",
      "source": [
        "test_data_predction = rid.predict(X_test)\n",
        "r_test_score4 = metrics.r2_score(Y_test, test_data_predction)\n",
        "print(\"R squared score of Test Set : \", r_test_score4)"
      ],
      "metadata": {
        "execution": {
          "iopub.status.busy": "2023-09-09T12:02:41.260510Z",
          "iopub.execute_input": "2023-09-09T12:02:41.261714Z",
          "iopub.status.idle": "2023-09-09T12:02:41.275029Z",
          "shell.execute_reply.started": "2023-09-09T12:02:41.261670Z",
          "shell.execute_reply": "2023-09-09T12:02:41.273629Z"
        },
        "trusted": true,
        "id": "bajVLHZfE6qJ"
      },
      "execution_count": null,
      "outputs": []
    },
    {
      "cell_type": "code",
      "source": [
        "ex_test_score4 = metrics.explained_variance_score(Y_test, test_data_predction)\n",
        "print(\"Explained Variance score of Test Set : \", ex_test_score4)"
      ],
      "metadata": {
        "execution": {
          "iopub.status.busy": "2023-09-09T12:02:41.276292Z",
          "iopub.execute_input": "2023-09-09T12:02:41.276788Z",
          "iopub.status.idle": "2023-09-09T12:02:41.288119Z",
          "shell.execute_reply.started": "2023-09-09T12:02:41.276746Z",
          "shell.execute_reply": "2023-09-09T12:02:41.286880Z"
        },
        "trusted": true,
        "id": "6FKDpZyRE6qK"
      },
      "execution_count": null,
      "outputs": []
    },
    {
      "cell_type": "code",
      "source": [
        "mae_test_score4 = metrics.mean_absolute_error(Y_test, test_data_predction)\n",
        "print(\"Mean Absolute Error score of Test Set : \", mae_test_score4)"
      ],
      "metadata": {
        "execution": {
          "iopub.status.busy": "2023-09-09T12:02:41.289750Z",
          "iopub.execute_input": "2023-09-09T12:02:41.290194Z",
          "iopub.status.idle": "2023-09-09T12:02:41.303757Z",
          "shell.execute_reply.started": "2023-09-09T12:02:41.290159Z",
          "shell.execute_reply": "2023-09-09T12:02:41.302786Z"
        },
        "trusted": true,
        "id": "afhpfy9FE6qK"
      },
      "execution_count": null,
      "outputs": []
    },
    {
      "cell_type": "markdown",
      "source": [
        "# **PERFORMANCE OF EACH MODEL IN BAR CHART**"
      ],
      "metadata": {
        "id": "a60T1yG6E6qK"
      }
    },
    {
      "cell_type": "code",
      "source": [
        "'''\n",
        "DT = DECISION TREE\n",
        "LR = LINEAR REGRESSION\n",
        "GBR = GRADIENT BOOSTING REGRESSOR\n",
        "RR = RIDGE REGRESSION\n",
        "'''\n",
        "\n",
        "model_data_1 = pd.DataFrame({'Models':['DT','LR','GBR','RR'],\n",
        "             \"R-squared score\":[r_test_score1,r_test_score2,r_test_score3,r_test_score4]})"
      ],
      "metadata": {
        "execution": {
          "iopub.status.busy": "2023-09-09T12:02:41.305318Z",
          "iopub.execute_input": "2023-09-09T12:02:41.305959Z",
          "iopub.status.idle": "2023-09-09T12:02:41.321781Z",
          "shell.execute_reply.started": "2023-09-09T12:02:41.305926Z",
          "shell.execute_reply": "2023-09-09T12:02:41.320288Z"
        },
        "trusted": true,
        "id": "ES9wf0n6E6qK"
      },
      "execution_count": null,
      "outputs": []
    },
    {
      "cell_type": "code",
      "source": [
        "model_data_1"
      ],
      "metadata": {
        "execution": {
          "iopub.status.busy": "2023-09-09T12:02:41.323576Z",
          "iopub.execute_input": "2023-09-09T12:02:41.325022Z",
          "iopub.status.idle": "2023-09-09T12:02:41.345230Z",
          "shell.execute_reply.started": "2023-09-09T12:02:41.324971Z",
          "shell.execute_reply": "2023-09-09T12:02:41.343831Z"
        },
        "trusted": true,
        "id": "Y1sFHpb3E6qK"
      },
      "execution_count": null,
      "outputs": []
    },
    {
      "cell_type": "code",
      "source": [
        "plt.figure(figsize=(8, 6))\n",
        "plt.bar(model_data_1['Models'], model_data_1['R-squared score'], color=['red', 'green', 'blue', 'yellow'])\n",
        "plt.xlabel('Models')\n",
        "plt.ylabel('R-squared Score')\n",
        "plt.title('R-squared Score Comparison for Different Models')\n",
        "plt.ylim(0, 1)\n",
        "plt.show()"
      ],
      "metadata": {
        "execution": {
          "iopub.status.busy": "2023-09-09T12:02:41.347058Z",
          "iopub.execute_input": "2023-09-09T12:02:41.348220Z",
          "iopub.status.idle": "2023-09-09T12:02:41.625725Z",
          "shell.execute_reply.started": "2023-09-09T12:02:41.348173Z",
          "shell.execute_reply": "2023-09-09T12:02:41.624880Z"
        },
        "trusted": true,
        "id": "qS5y-bFTE6qK"
      },
      "execution_count": null,
      "outputs": []
    },
    {
      "cell_type": "code",
      "source": [
        "'''\n",
        "DT = DECISION TREE\n",
        "LR = LINEAR REGRESSION\n",
        "GBR = GRADIENT BOOSTING REGRESSOR\n",
        "RR = RIDGE REGRESSION\n",
        "'''\n",
        "\n",
        "model_data_2 = pd.DataFrame({'Models':['DT','LR','GBR','RR'],\n",
        "             \"Explained Variance Score\":[ex_test_score1,ex_test_score2,ex_test_score3,ex_test_score4]})"
      ],
      "metadata": {
        "execution": {
          "iopub.status.busy": "2023-09-09T12:02:41.627071Z",
          "iopub.execute_input": "2023-09-09T12:02:41.628123Z",
          "iopub.status.idle": "2023-09-09T12:02:41.634199Z",
          "shell.execute_reply.started": "2023-09-09T12:02:41.628088Z",
          "shell.execute_reply": "2023-09-09T12:02:41.633057Z"
        },
        "trusted": true,
        "id": "HY3FDxtIE6qK"
      },
      "execution_count": null,
      "outputs": []
    },
    {
      "cell_type": "code",
      "source": [
        "model_data_2"
      ],
      "metadata": {
        "execution": {
          "iopub.status.busy": "2023-09-09T12:02:41.635707Z",
          "iopub.execute_input": "2023-09-09T12:02:41.636224Z",
          "iopub.status.idle": "2023-09-09T12:02:41.654387Z",
          "shell.execute_reply.started": "2023-09-09T12:02:41.636194Z",
          "shell.execute_reply": "2023-09-09T12:02:41.653092Z"
        },
        "trusted": true,
        "id": "murySPklE6qK"
      },
      "execution_count": null,
      "outputs": []
    },
    {
      "cell_type": "code",
      "source": [
        "plt.figure(figsize=(8, 6))\n",
        "plt.bar(model_data_2['Models'], model_data_2['Explained Variance Score'], color=['red', 'green', 'blue', 'yellow'])\n",
        "plt.xlabel('Models')\n",
        "plt.ylabel('Explained Variance Score')\n",
        "plt.title('Explained Variance Score Comparison for Different Models')\n",
        "plt.ylim(0, 1)\n",
        "plt.show()"
      ],
      "metadata": {
        "execution": {
          "iopub.status.busy": "2023-09-09T12:02:41.655931Z",
          "iopub.execute_input": "2023-09-09T12:02:41.656613Z",
          "iopub.status.idle": "2023-09-09T12:02:41.935227Z",
          "shell.execute_reply.started": "2023-09-09T12:02:41.656579Z",
          "shell.execute_reply": "2023-09-09T12:02:41.934063Z"
        },
        "trusted": true,
        "id": "UFu-ZA5GE6qK"
      },
      "execution_count": null,
      "outputs": []
    },
    {
      "cell_type": "code",
      "source": [
        "'''\n",
        "DT = DECISION TREE\n",
        "LR = LINEAR REGRESSION\n",
        "GBR = GRADIENT BOOSTING REGRESSOR\n",
        "RR = RIDGE REGRESSION\n",
        "'''\n",
        "\n",
        "model_data_3 = pd.DataFrame({'Models':['DT','LR','GBR','RR'],\n",
        "             \"Mean Absolute Error score\":[mae_test_score1,mae_test_score2,mae_test_score3,mae_test_score4]})"
      ],
      "metadata": {
        "execution": {
          "iopub.status.busy": "2023-09-09T12:02:41.936640Z",
          "iopub.execute_input": "2023-09-09T12:02:41.936994Z",
          "iopub.status.idle": "2023-09-09T12:02:41.942859Z",
          "shell.execute_reply.started": "2023-09-09T12:02:41.936964Z",
          "shell.execute_reply": "2023-09-09T12:02:41.941635Z"
        },
        "trusted": true,
        "id": "J74XR59EE6qL"
      },
      "execution_count": null,
      "outputs": []
    },
    {
      "cell_type": "code",
      "source": [
        "model_data_3"
      ],
      "metadata": {
        "execution": {
          "iopub.status.busy": "2023-09-09T12:02:41.944648Z",
          "iopub.execute_input": "2023-09-09T12:02:41.944993Z",
          "iopub.status.idle": "2023-09-09T12:02:41.965193Z",
          "shell.execute_reply.started": "2023-09-09T12:02:41.944964Z",
          "shell.execute_reply": "2023-09-09T12:02:41.963920Z"
        },
        "trusted": true,
        "id": "qcgavmtuE6qL"
      },
      "execution_count": null,
      "outputs": []
    },
    {
      "cell_type": "code",
      "source": [
        "plt.figure(figsize=(8, 6))\n",
        "plt.bar(model_data_3['Models'], model_data_3['Mean Absolute Error score'], color=['red', 'green', 'blue', 'yellow'])\n",
        "plt.xlabel('Models')\n",
        "plt.ylabel('Mean Absolute Error score')\n",
        "plt.title('Mean Absolute Error score Comparison for Different Models')\n",
        "plt.ylim(0, 1)\n",
        "plt.show()"
      ],
      "metadata": {
        "execution": {
          "iopub.status.busy": "2023-09-09T12:02:41.966825Z",
          "iopub.execute_input": "2023-09-09T12:02:41.967306Z",
          "iopub.status.idle": "2023-09-09T12:02:42.246972Z",
          "shell.execute_reply.started": "2023-09-09T12:02:41.967264Z",
          "shell.execute_reply": "2023-09-09T12:02:42.245859Z"
        },
        "trusted": true,
        "id": "X7JWc_WaE6qL"
      },
      "execution_count": null,
      "outputs": []
    }
  ]
}