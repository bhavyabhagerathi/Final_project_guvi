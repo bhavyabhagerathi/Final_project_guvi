{
  "metadata": {
    "kernelspec": {
      "language": "python",
      "display_name": "Python 3",
      "name": "python3"
    },
    "language_info": {
      "pygments_lexer": "ipython3",
      "nbconvert_exporter": "python",
      "version": "3.6.4",
      "file_extension": ".py",
      "codemirror_mode": {
        "name": "ipython",
        "version": 3
      },
      "name": "python",
      "mimetype": "text/x-python"
    },
    "colab": {
      "provenance": []
    }
  },
  "nbformat_minor": 0,
  "nbformat": 4,
  "cells": [
    {
      "cell_type": "code",
      "source": [
        "# This Python 3 environment comes with many helpful analytics libraries installed\n",
        "# It is defined by the kaggle/python Docker image: https://github.com/kaggle/docker-python\n",
        "# For example, here's several helpful packages to load\n",
        "\n",
        "import numpy as np # linear algebra\n",
        "import pandas as pd # data processing, CSV file I/O (e.g. pd.read_csv)\n",
        "\n",
        "# Input data files are available in the read-only \"../input/\" directory\n",
        "# For example, running this (by clicking run or pressing Shift+Enter) will list all files under the input directory\n",
        "\n",
        "import os\n",
        "for dirname, _, filenames in os.walk('/kaggle/input'):\n",
        "    for filename in filenames:\n",
        "        print(os.path.join(dirname, filename))\n",
        "\n",
        "# You can write up to 20GB to the current directory (/kaggle/working/) that gets preserved as output when you create a version using \"Save & Run All\"\n",
        "# You can also write temporary files to /kaggle/temp/, but they won't be saved outside of the current session"
      ],
      "metadata": {
        "_uuid": "8f2839f25d086af736a60e9eeb907d3b93b6e0e5",
        "_cell_guid": "b1076dfc-b9ad-4769-8c92-a6c4dae69d19",
        "execution": {
          "iopub.status.busy": "2023-08-25T21:14:04.979203Z",
          "iopub.execute_input": "2023-08-25T21:14:04.979687Z",
          "iopub.status.idle": "2023-08-25T21:14:04.989623Z",
          "shell.execute_reply.started": "2023-08-25T21:14:04.979651Z",
          "shell.execute_reply": "2023-08-25T21:14:04.988266Z"
        },
        "trusted": true,
        "id": "s9NNaPLBHngY"
      },
      "execution_count": null,
      "outputs": []
    },
    {
      "cell_type": "code",
      "source": [
        "import pandas as pd\n",
        "import matplotlib.pyplot as plt\n",
        "%matplotlib inline\n",
        "import seaborn as sns\n",
        "import numpy as np"
      ],
      "metadata": {
        "execution": {
          "iopub.status.busy": "2023-08-25T21:14:04.993955Z",
          "iopub.execute_input": "2023-08-25T21:14:04.994317Z",
          "iopub.status.idle": "2023-08-25T21:14:05.005722Z",
          "shell.execute_reply.started": "2023-08-25T21:14:04.994287Z",
          "shell.execute_reply": "2023-08-25T21:14:05.004851Z"
        },
        "trusted": true,
        "id": "9RwVVZC8Hnga"
      },
      "execution_count": null,
      "outputs": []
    },
    {
      "cell_type": "code",
      "source": [
        "#reading the dataset\n",
        "df=pd.read_csv(\"/kaggle/input/zomato-dataset/zomato.csv\")\n",
        "df"
      ],
      "metadata": {
        "execution": {
          "iopub.status.busy": "2023-08-25T21:14:05.007329Z",
          "iopub.execute_input": "2023-08-25T21:14:05.008197Z",
          "iopub.status.idle": "2023-08-25T21:14:11.255759Z",
          "shell.execute_reply.started": "2023-08-25T21:14:05.008163Z",
          "shell.execute_reply": "2023-08-25T21:14:11.254529Z"
        },
        "trusted": true,
        "id": "YX1a4GFaHngb"
      },
      "execution_count": null,
      "outputs": []
    },
    {
      "cell_type": "code",
      "source": [
        "#understanding each feature and get an idea of dataset\n",
        "df.describe()"
      ],
      "metadata": {
        "execution": {
          "iopub.status.busy": "2023-08-25T21:14:11.257744Z",
          "iopub.execute_input": "2023-08-25T21:14:11.258206Z",
          "iopub.status.idle": "2023-08-25T21:14:11.275877Z",
          "shell.execute_reply.started": "2023-08-25T21:14:11.258168Z",
          "shell.execute_reply": "2023-08-25T21:14:11.274641Z"
        },
        "trusted": true,
        "id": "WuX3nmu0Hngb"
      },
      "execution_count": null,
      "outputs": []
    },
    {
      "cell_type": "code",
      "source": [
        "df.info()"
      ],
      "metadata": {
        "execution": {
          "iopub.status.busy": "2023-08-25T21:14:11.276971Z",
          "iopub.execute_input": "2023-08-25T21:14:11.277390Z",
          "iopub.status.idle": "2023-08-25T21:14:11.562684Z",
          "shell.execute_reply.started": "2023-08-25T21:14:11.277344Z",
          "shell.execute_reply": "2023-08-25T21:14:11.561443Z"
        },
        "trusted": true,
        "id": "dJS72thxHngb"
      },
      "execution_count": null,
      "outputs": []
    },
    {
      "cell_type": "code",
      "source": [
        "df.isnull().sum()/len(df)*100"
      ],
      "metadata": {
        "execution": {
          "iopub.status.busy": "2023-08-25T21:14:11.565398Z",
          "iopub.execute_input": "2023-08-25T21:14:11.565949Z",
          "iopub.status.idle": "2023-08-25T21:14:11.845668Z",
          "shell.execute_reply.started": "2023-08-25T21:14:11.565917Z",
          "shell.execute_reply": "2023-08-25T21:14:11.844507Z"
        },
        "trusted": true,
        "id": "M1zAlK31Hngb"
      },
      "execution_count": null,
      "outputs": []
    },
    {
      "cell_type": "code",
      "source": [
        "df.head()"
      ],
      "metadata": {
        "execution": {
          "iopub.status.busy": "2023-08-25T21:14:11.846937Z",
          "iopub.execute_input": "2023-08-25T21:14:11.848249Z",
          "iopub.status.idle": "2023-08-25T21:14:11.872664Z",
          "shell.execute_reply.started": "2023-08-25T21:14:11.848139Z",
          "shell.execute_reply": "2023-08-25T21:14:11.871353Z"
        },
        "trusted": true,
        "id": "K_Lw6sIMHngb"
      },
      "execution_count": null,
      "outputs": []
    },
    {
      "cell_type": "code",
      "source": [
        "#checking null values percentage\n",
        "df.isnull().sum()/len(df)*100"
      ],
      "metadata": {
        "execution": {
          "iopub.status.busy": "2023-08-25T21:14:11.874177Z",
          "iopub.execute_input": "2023-08-25T21:14:11.874524Z",
          "iopub.status.idle": "2023-08-25T21:14:12.155882Z",
          "shell.execute_reply.started": "2023-08-25T21:14:11.874496Z",
          "shell.execute_reply": "2023-08-25T21:14:12.154519Z"
        },
        "trusted": true,
        "id": "2DCv3quRHngb"
      },
      "execution_count": null,
      "outputs": []
    },
    {
      "cell_type": "markdown",
      "source": [],
      "metadata": {
        "id": "uYyzd2EKHngc"
      }
    },
    {
      "cell_type": "code",
      "source": [
        "df.columns.values"
      ],
      "metadata": {
        "execution": {
          "iopub.status.busy": "2023-08-25T21:14:12.157758Z",
          "iopub.execute_input": "2023-08-25T21:14:12.158533Z",
          "iopub.status.idle": "2023-08-25T21:14:12.166710Z",
          "shell.execute_reply.started": "2023-08-25T21:14:12.158489Z",
          "shell.execute_reply": "2023-08-25T21:14:12.165597Z"
        },
        "trusted": true,
        "id": "bu9j_2xrHngd"
      },
      "execution_count": null,
      "outputs": []
    },
    {
      "cell_type": "code",
      "source": [
        "#Renaming the colums for better understanding\n",
        "df=df.rename(columns={\"listed_in(type)\":\"Services\",\"listed_in(city)\":\"City\",\"approx_cost(for two people)\":\"Cost\"})\n",
        "df"
      ],
      "metadata": {
        "execution": {
          "iopub.status.busy": "2023-08-25T21:14:12.201316Z",
          "iopub.execute_input": "2023-08-25T21:14:12.201651Z",
          "iopub.status.idle": "2023-08-25T21:14:12.243752Z",
          "shell.execute_reply.started": "2023-08-25T21:14:12.201622Z",
          "shell.execute_reply": "2023-08-25T21:14:12.242730Z"
        },
        "trusted": true,
        "id": "sR7ytwIzHngd"
      },
      "execution_count": null,
      "outputs": []
    },
    {
      "cell_type": "code",
      "source": [
        "df.isnull().sum()/len(df)*100"
      ],
      "metadata": {
        "execution": {
          "iopub.status.busy": "2023-08-25T21:14:12.248098Z",
          "iopub.execute_input": "2023-08-25T21:14:12.248437Z",
          "iopub.status.idle": "2023-08-25T21:14:12.522337Z",
          "shell.execute_reply.started": "2023-08-25T21:14:12.248397Z",
          "shell.execute_reply": "2023-08-25T21:14:12.521124Z"
        },
        "trusted": true,
        "id": "ETcdi4ugHnge"
      },
      "execution_count": null,
      "outputs": []
    },
    {
      "cell_type": "code",
      "source": [
        "#Making heatmap of null values for better visuallization and understanding\n",
        "sns.heatmap(df.isnull())"
      ],
      "metadata": {
        "execution": {
          "iopub.status.busy": "2023-08-25T21:14:12.523826Z",
          "iopub.execute_input": "2023-08-25T21:14:12.524206Z",
          "iopub.status.idle": "2023-08-25T21:14:14.611603Z",
          "shell.execute_reply.started": "2023-08-25T21:14:12.524173Z",
          "shell.execute_reply": "2023-08-25T21:14:14.610330Z"
        },
        "trusted": true,
        "id": "H8JqOBp4Hnge"
      },
      "execution_count": null,
      "outputs": []
    },
    {
      "cell_type": "code",
      "source": [
        "df[\"rate\"].unique()"
      ],
      "metadata": {
        "execution": {
          "iopub.status.busy": "2023-08-25T21:14:14.612972Z",
          "iopub.execute_input": "2023-08-25T21:14:14.613723Z",
          "iopub.status.idle": "2023-08-25T21:14:14.624708Z",
          "shell.execute_reply.started": "2023-08-25T21:14:14.613690Z",
          "shell.execute_reply": "2023-08-25T21:14:14.623905Z"
        },
        "trusted": true,
        "id": "-w8tUTCrHnge"
      },
      "execution_count": null,
      "outputs": []
    },
    {
      "cell_type": "code",
      "source": [
        "df[\"rate\"]=df[\"rate\"].str.strip()\n",
        "df[\"rate\"]=df[\"rate\"].str.replace(\"-\",\"\")\n",
        "df[\"rate\"]=df[\"rate\"].str.replace(\"NEW\",\"\")\n",
        "df[\"rate\"]=df[\"rate\"].str.replace(\"/5\",\"\")"
      ],
      "metadata": {
        "execution": {
          "iopub.status.busy": "2023-08-25T21:14:14.625826Z",
          "iopub.execute_input": "2023-08-25T21:14:14.626774Z",
          "iopub.status.idle": "2023-08-25T21:14:14.789749Z",
          "shell.execute_reply.started": "2023-08-25T21:14:14.626743Z",
          "shell.execute_reply": "2023-08-25T21:14:14.788573Z"
        },
        "trusted": true,
        "id": "kkqQ9ohsHnge"
      },
      "execution_count": null,
      "outputs": []
    },
    {
      "cell_type": "code",
      "source": [
        "df[\"rate\"].unique()"
      ],
      "metadata": {
        "execution": {
          "iopub.status.busy": "2023-08-25T21:14:14.791188Z",
          "iopub.execute_input": "2023-08-25T21:14:14.792057Z",
          "iopub.status.idle": "2023-08-25T21:14:14.806550Z",
          "shell.execute_reply.started": "2023-08-25T21:14:14.792024Z",
          "shell.execute_reply": "2023-08-25T21:14:14.805365Z"
        },
        "trusted": true,
        "id": "atRXIDvEHnge"
      },
      "execution_count": null,
      "outputs": []
    },
    {
      "cell_type": "code",
      "source": [
        "#The pd.to_numeric() function is used to convert the \"rate\" column to numeric values, and the errors=\"coerce\" parameter ensures that any non-convertible values (including empty strings) are replaced with NaN. After this process, the \"rate\" column should only contain numeric values or NaN.\n",
        "\n",
        "df[\"rate\"] = pd.to_numeric(df[\"rate\"], errors=\"coerce\")"
      ],
      "metadata": {
        "execution": {
          "iopub.status.busy": "2023-08-25T21:14:14.808024Z",
          "iopub.execute_input": "2023-08-25T21:14:14.808649Z",
          "iopub.status.idle": "2023-08-25T21:14:14.849752Z",
          "shell.execute_reply.started": "2023-08-25T21:14:14.808617Z",
          "shell.execute_reply": "2023-08-25T21:14:14.848613Z"
        },
        "trusted": true,
        "id": "Hpich3qMHngf"
      },
      "execution_count": null,
      "outputs": []
    },
    {
      "cell_type": "code",
      "source": [
        "#we see that null values in rate column has increased from 15 percent to 19 percent.\n",
        "df.isnull().sum()/len(df)*100"
      ],
      "metadata": {
        "execution": {
          "iopub.status.busy": "2023-08-25T21:14:14.851267Z",
          "iopub.execute_input": "2023-08-25T21:14:14.851648Z",
          "iopub.status.idle": "2023-08-25T21:14:15.118671Z",
          "shell.execute_reply.started": "2023-08-25T21:14:14.851617Z",
          "shell.execute_reply": "2023-08-25T21:14:15.117366Z"
        },
        "trusted": true,
        "id": "ElHPij6MHngf"
      },
      "execution_count": null,
      "outputs": []
    },
    {
      "cell_type": "code",
      "source": [
        "df[\"rate\"].describe()"
      ],
      "metadata": {
        "execution": {
          "iopub.status.busy": "2023-08-25T21:14:15.121723Z",
          "iopub.execute_input": "2023-08-25T21:14:15.122190Z",
          "iopub.status.idle": "2023-08-25T21:14:15.138355Z",
          "shell.execute_reply.started": "2023-08-25T21:14:15.122127Z",
          "shell.execute_reply": "2023-08-25T21:14:15.137196Z"
        },
        "trusted": true,
        "id": "aaHRM-cKHngf"
      },
      "execution_count": null,
      "outputs": []
    },
    {
      "cell_type": "code",
      "source": [
        "#We will replace the missing values in rate with its mean\n",
        "df[\"rate\"]=df[\"rate\"].fillna(df[\"rate\"].mean())\n",
        "#Or we can simply write as\n",
        "df[\"rate\"]=df[\"rate\"].fillna(3.700449)"
      ],
      "metadata": {
        "execution": {
          "iopub.status.busy": "2023-08-25T21:14:15.139879Z",
          "iopub.execute_input": "2023-08-25T21:14:15.140237Z",
          "iopub.status.idle": "2023-08-25T21:14:15.150109Z",
          "shell.execute_reply.started": "2023-08-25T21:14:15.140207Z",
          "shell.execute_reply": "2023-08-25T21:14:15.148332Z"
        },
        "trusted": true,
        "id": "TxUVLq0tHngf"
      },
      "execution_count": null,
      "outputs": []
    },
    {
      "cell_type": "code",
      "source": [
        "#Now there are 0 percent values in rate\n",
        "df.isnull().sum()/len(df)*100"
      ],
      "metadata": {
        "execution": {
          "iopub.status.busy": "2023-08-25T21:14:15.152215Z",
          "iopub.execute_input": "2023-08-25T21:14:15.152636Z",
          "iopub.status.idle": "2023-08-25T21:14:15.417242Z",
          "shell.execute_reply.started": "2023-08-25T21:14:15.152592Z",
          "shell.execute_reply": "2023-08-25T21:14:15.415813Z"
        },
        "trusted": true,
        "id": "CkC7Jh6BHngf"
      },
      "execution_count": null,
      "outputs": []
    },
    {
      "cell_type": "code",
      "source": [
        "#We will do the same procedure with the dish_liked column.\n",
        "#first we check the unique values in disk_liked\n",
        "df[\"dish_liked\"].unique()"
      ],
      "metadata": {
        "execution": {
          "iopub.status.busy": "2023-08-25T21:14:15.418891Z",
          "iopub.execute_input": "2023-08-25T21:14:15.419275Z",
          "iopub.status.idle": "2023-08-25T21:14:15.433650Z",
          "shell.execute_reply.started": "2023-08-25T21:14:15.419243Z",
          "shell.execute_reply": "2023-08-25T21:14:15.432332Z"
        },
        "trusted": true,
        "id": "eQW9C3UbHngf"
      },
      "execution_count": null,
      "outputs": []
    },
    {
      "cell_type": "code",
      "source": [
        "\n",
        "df[\"dish_liked\"].value_counts()"
      ],
      "metadata": {
        "execution": {
          "iopub.status.busy": "2023-08-25T21:14:15.435343Z",
          "iopub.execute_input": "2023-08-25T21:14:15.435797Z",
          "iopub.status.idle": "2023-08-25T21:14:15.458618Z",
          "shell.execute_reply.started": "2023-08-25T21:14:15.435758Z",
          "shell.execute_reply": "2023-08-25T21:14:15.457208Z"
        },
        "trusted": true,
        "id": "gJGjlVqQHngf"
      },
      "execution_count": null,
      "outputs": []
    },
    {
      "cell_type": "code",
      "source": [
        "#most liked dished is biryani so we replace missing values in dish_liked with biryani\n",
        "df[\"dish_liked\"]=df[\"dish_liked\"].fillna(\"Biryani\")"
      ],
      "metadata": {
        "execution": {
          "iopub.status.busy": "2023-08-25T21:14:15.460411Z",
          "iopub.execute_input": "2023-08-25T21:14:15.460844Z",
          "iopub.status.idle": "2023-08-25T21:14:15.486649Z",
          "shell.execute_reply.started": "2023-08-25T21:14:15.460808Z",
          "shell.execute_reply": "2023-08-25T21:14:15.485499Z"
        },
        "trusted": true,
        "id": "eiHk7Q8XHngg"
      },
      "execution_count": null,
      "outputs": []
    },
    {
      "cell_type": "code",
      "source": [
        "df.isnull().sum()/len(df)*100\n"
      ],
      "metadata": {
        "execution": {
          "iopub.status.busy": "2023-08-25T21:14:15.488252Z",
          "iopub.execute_input": "2023-08-25T21:14:15.489252Z",
          "iopub.status.idle": "2023-08-25T21:14:15.752806Z",
          "shell.execute_reply.started": "2023-08-25T21:14:15.489210Z",
          "shell.execute_reply": "2023-08-25T21:14:15.751379Z"
        },
        "trusted": true,
        "id": "mMdz2ax1Hngg"
      },
      "execution_count": null,
      "outputs": []
    },
    {
      "cell_type": "code",
      "source": [
        "df.head()"
      ],
      "metadata": {
        "execution": {
          "iopub.status.busy": "2023-08-25T21:14:15.756952Z",
          "iopub.execute_input": "2023-08-25T21:14:15.757310Z",
          "iopub.status.idle": "2023-08-25T21:14:15.785314Z",
          "shell.execute_reply.started": "2023-08-25T21:14:15.757276Z",
          "shell.execute_reply": "2023-08-25T21:14:15.784007Z"
        },
        "trusted": true,
        "id": "HAvAZ9WnHngg"
      },
      "execution_count": null,
      "outputs": []
    },
    {
      "cell_type": "code",
      "source": [
        "#We have removed some columns which we donot have any need in our problem.\n",
        "df.drop(columns=[\"url\",\"address\",\"name\",\"phone\",\"menu_item\"],axis=\"columns\",inplace=True)"
      ],
      "metadata": {
        "execution": {
          "iopub.status.busy": "2023-08-25T21:14:15.786506Z",
          "iopub.execute_input": "2023-08-25T21:14:15.786854Z",
          "iopub.status.idle": "2023-08-25T21:14:15.805028Z",
          "shell.execute_reply.started": "2023-08-25T21:14:15.786824Z",
          "shell.execute_reply": "2023-08-25T21:14:15.803957Z"
        },
        "trusted": true,
        "id": "jxi05dcuHngg"
      },
      "execution_count": null,
      "outputs": []
    },
    {
      "cell_type": "code",
      "source": [
        "df"
      ],
      "metadata": {
        "execution": {
          "iopub.status.busy": "2023-08-25T21:14:15.806192Z",
          "iopub.execute_input": "2023-08-25T21:14:15.806530Z",
          "iopub.status.idle": "2023-08-25T21:14:15.830677Z",
          "shell.execute_reply.started": "2023-08-25T21:14:15.806492Z",
          "shell.execute_reply": "2023-08-25T21:14:15.829494Z"
        },
        "trusted": true,
        "id": "_aAlUuDoHngg"
      },
      "execution_count": null,
      "outputs": []
    },
    {
      "cell_type": "code",
      "source": [
        "df.isnull().sum()/len(df)*100"
      ],
      "metadata": {
        "execution": {
          "iopub.status.busy": "2023-08-25T21:14:15.832159Z",
          "iopub.execute_input": "2023-08-25T21:14:15.832511Z",
          "iopub.status.idle": "2023-08-25T21:14:16.012528Z",
          "shell.execute_reply.started": "2023-08-25T21:14:15.832480Z",
          "shell.execute_reply": "2023-08-25T21:14:16.011330Z"
        },
        "trusted": true,
        "id": "lqD9NmLJHngg"
      },
      "execution_count": null,
      "outputs": []
    },
    {
      "cell_type": "code",
      "source": [
        "df[\"Cost\"].unique()"
      ],
      "metadata": {
        "execution": {
          "iopub.status.busy": "2023-08-25T21:14:16.020802Z",
          "iopub.execute_input": "2023-08-25T21:14:16.021181Z",
          "iopub.status.idle": "2023-08-25T21:14:16.034109Z",
          "shell.execute_reply.started": "2023-08-25T21:14:16.021149Z",
          "shell.execute_reply": "2023-08-25T21:14:16.032823Z"
        },
        "trusted": true,
        "id": "WTDc5COhHngg"
      },
      "execution_count": null,
      "outputs": []
    },
    {
      "cell_type": "code",
      "source": [
        "#Correcting some values of integers.\n",
        "\n",
        "\n",
        "df[\"Cost\"] = df[\"Cost\"].str.replace(\",\", \"\").astype(float)\n"
      ],
      "metadata": {
        "execution": {
          "iopub.status.busy": "2023-08-25T21:14:16.036071Z",
          "iopub.execute_input": "2023-08-25T21:14:16.036683Z",
          "iopub.status.idle": "2023-08-25T21:14:16.090653Z",
          "shell.execute_reply.started": "2023-08-25T21:14:16.036644Z",
          "shell.execute_reply": "2023-08-25T21:14:16.089357Z"
        },
        "trusted": true,
        "id": "BnhO3J1vHngg"
      },
      "execution_count": null,
      "outputs": []
    },
    {
      "cell_type": "code",
      "source": [
        "df[\"Cost\"]"
      ],
      "metadata": {
        "execution": {
          "iopub.status.busy": "2023-08-25T21:14:16.092481Z",
          "iopub.execute_input": "2023-08-25T21:14:16.093340Z",
          "iopub.status.idle": "2023-08-25T21:14:16.103673Z",
          "shell.execute_reply.started": "2023-08-25T21:14:16.093295Z",
          "shell.execute_reply": "2023-08-25T21:14:16.102403Z"
        },
        "trusted": true,
        "id": "WUa3sA22Hngh"
      },
      "execution_count": null,
      "outputs": []
    },
    {
      "cell_type": "code",
      "source": [
        "df[\"Cost\"].describe()"
      ],
      "metadata": {
        "execution": {
          "iopub.status.busy": "2023-08-25T21:14:16.105063Z",
          "iopub.execute_input": "2023-08-25T21:14:16.105393Z",
          "iopub.status.idle": "2023-08-25T21:14:16.126259Z",
          "shell.execute_reply.started": "2023-08-25T21:14:16.105364Z",
          "shell.execute_reply": "2023-08-25T21:14:16.124908Z"
        },
        "trusted": true,
        "id": "fTeWVkibHngh"
      },
      "execution_count": null,
      "outputs": []
    },
    {
      "cell_type": "code",
      "source": [
        "#We will raplace it by its mean\n",
        "df[\"Cost\"]=df[\"Cost\"].fillna(df[\"Cost\"].mean())"
      ],
      "metadata": {
        "execution": {
          "iopub.status.busy": "2023-08-25T21:14:16.128062Z",
          "iopub.execute_input": "2023-08-25T21:14:16.129052Z",
          "iopub.status.idle": "2023-08-25T21:14:16.136137Z",
          "shell.execute_reply.started": "2023-08-25T21:14:16.129006Z",
          "shell.execute_reply": "2023-08-25T21:14:16.135036Z"
        },
        "trusted": true,
        "id": "f_tmtuFfHngh"
      },
      "execution_count": null,
      "outputs": []
    },
    {
      "cell_type": "code",
      "source": [
        "df.isnull().sum()/len(df)*100\n"
      ],
      "metadata": {
        "execution": {
          "iopub.status.busy": "2023-08-25T21:14:16.137655Z",
          "iopub.execute_input": "2023-08-25T21:14:16.138783Z",
          "iopub.status.idle": "2023-08-25T21:14:16.307970Z",
          "shell.execute_reply.started": "2023-08-25T21:14:16.138748Z",
          "shell.execute_reply": "2023-08-25T21:14:16.307003Z"
        },
        "trusted": true,
        "id": "oIHWyTlEHngh"
      },
      "execution_count": null,
      "outputs": []
    },
    {
      "cell_type": "code",
      "source": [
        "#Location also tells the location of the hotels.\n",
        "#so we shall remove an extra column that is City\n",
        "df.drop(columns=[\"City\"],axis=\"columns\",inplace=True)"
      ],
      "metadata": {
        "execution": {
          "iopub.status.busy": "2023-08-25T21:14:16.309204Z",
          "iopub.execute_input": "2023-08-25T21:14:16.309731Z",
          "iopub.status.idle": "2023-08-25T21:14:16.322775Z",
          "shell.execute_reply.started": "2023-08-25T21:14:16.309691Z",
          "shell.execute_reply": "2023-08-25T21:14:16.321496Z"
        },
        "trusted": true,
        "id": "w9cNgxD5Hngh"
      },
      "execution_count": null,
      "outputs": []
    },
    {
      "cell_type": "code",
      "source": [
        "df.isnull().sum()/len(df)*100\n"
      ],
      "metadata": {
        "execution": {
          "iopub.status.busy": "2023-08-25T21:14:16.324007Z",
          "iopub.execute_input": "2023-08-25T21:14:16.324327Z",
          "iopub.status.idle": "2023-08-25T21:14:16.474619Z",
          "shell.execute_reply.started": "2023-08-25T21:14:16.324299Z",
          "shell.execute_reply": "2023-08-25T21:14:16.473353Z"
        },
        "trusted": true,
        "id": "vCorvEocHngh"
      },
      "execution_count": null,
      "outputs": []
    },
    {
      "cell_type": "code",
      "source": [
        "df.isnull().sum()/len(df)*100"
      ],
      "metadata": {
        "execution": {
          "iopub.status.busy": "2023-08-25T21:14:16.476284Z",
          "iopub.execute_input": "2023-08-25T21:14:16.476647Z",
          "iopub.status.idle": "2023-08-25T21:14:16.624464Z",
          "shell.execute_reply.started": "2023-08-25T21:14:16.476615Z",
          "shell.execute_reply": "2023-08-25T21:14:16.623019Z"
        },
        "trusted": true,
        "id": "n1KeEkQQHngh"
      },
      "execution_count": null,
      "outputs": []
    },
    {
      "cell_type": "code",
      "source": [
        "df[\"cuisines\"].unique()"
      ],
      "metadata": {
        "execution": {
          "iopub.status.busy": "2023-08-25T21:14:16.626339Z",
          "iopub.execute_input": "2023-08-25T21:14:16.627225Z",
          "iopub.status.idle": "2023-08-25T21:14:16.641119Z",
          "shell.execute_reply.started": "2023-08-25T21:14:16.627159Z",
          "shell.execute_reply": "2023-08-25T21:14:16.640262Z"
        },
        "trusted": true,
        "id": "13UNjB9DHngh"
      },
      "execution_count": null,
      "outputs": []
    },
    {
      "cell_type": "code",
      "source": [
        "#Removing null values from these columns\n",
        "df.dropna(subset=[\"rest_type\", \"cuisines\"], inplace=True)"
      ],
      "metadata": {
        "execution": {
          "iopub.status.busy": "2023-08-25T21:14:16.642653Z",
          "iopub.execute_input": "2023-08-25T21:14:16.643015Z",
          "iopub.status.idle": "2023-08-25T21:14:16.708612Z",
          "shell.execute_reply.started": "2023-08-25T21:14:16.642979Z",
          "shell.execute_reply": "2023-08-25T21:14:16.707521Z"
        },
        "trusted": true,
        "id": "0b0nzYSpHngi"
      },
      "execution_count": null,
      "outputs": []
    },
    {
      "cell_type": "code",
      "source": [
        "df.isnull().sum()/len(df)*100"
      ],
      "metadata": {
        "execution": {
          "iopub.status.busy": "2023-08-25T21:14:16.710002Z",
          "iopub.execute_input": "2023-08-25T21:14:16.710329Z",
          "iopub.status.idle": "2023-08-25T21:14:16.854285Z",
          "shell.execute_reply.started": "2023-08-25T21:14:16.710301Z",
          "shell.execute_reply": "2023-08-25T21:14:16.853000Z"
        },
        "trusted": true,
        "id": "uMr9jV1KHngj"
      },
      "execution_count": null,
      "outputs": []
    },
    {
      "cell_type": "code",
      "source": [
        "#Now our dataset is totally clean"
      ],
      "metadata": {
        "execution": {
          "iopub.status.busy": "2023-08-25T21:14:16.855860Z",
          "iopub.execute_input": "2023-08-25T21:14:16.856313Z",
          "iopub.status.idle": "2023-08-25T21:14:16.861848Z",
          "shell.execute_reply.started": "2023-08-25T21:14:16.856273Z",
          "shell.execute_reply": "2023-08-25T21:14:16.860660Z"
        },
        "trusted": true,
        "id": "wh_-mRcKHngj"
      },
      "execution_count": null,
      "outputs": []
    },
    {
      "cell_type": "code",
      "source": [
        "#Now comes toward visualization part"
      ],
      "metadata": {
        "execution": {
          "iopub.status.busy": "2023-08-25T21:14:16.863172Z",
          "iopub.execute_input": "2023-08-25T21:14:16.863583Z",
          "iopub.status.idle": "2023-08-25T21:14:16.876115Z",
          "shell.execute_reply.started": "2023-08-25T21:14:16.863552Z",
          "shell.execute_reply": "2023-08-25T21:14:16.874477Z"
        },
        "trusted": true,
        "id": "UmvAMXUYHngj"
      },
      "execution_count": null,
      "outputs": []
    },
    {
      "cell_type": "code",
      "source": [
        "#Plotting graph for Restaurants delivering Online or not\n",
        "sns.countplot(x=\"online_order\",data=df)"
      ],
      "metadata": {
        "execution": {
          "iopub.status.busy": "2023-08-25T21:14:16.878068Z",
          "iopub.execute_input": "2023-08-25T21:14:16.879399Z",
          "iopub.status.idle": "2023-08-25T21:14:17.197285Z",
          "shell.execute_reply.started": "2023-08-25T21:14:16.879352Z",
          "shell.execute_reply": "2023-08-25T21:14:17.196163Z"
        },
        "trusted": true,
        "id": "-QbX77OsHngj"
      },
      "execution_count": null,
      "outputs": []
    },
    {
      "cell_type": "code",
      "source": [
        "# Plotting graph for Restaurants allowing table booking or not\n",
        "sns.countplot(x=\"book_table\",data=df)\n"
      ],
      "metadata": {
        "execution": {
          "iopub.status.busy": "2023-08-25T21:14:17.198963Z",
          "iopub.execute_input": "2023-08-25T21:14:17.200416Z",
          "iopub.status.idle": "2023-08-25T21:14:17.473401Z",
          "shell.execute_reply.started": "2023-08-25T21:14:17.200380Z",
          "shell.execute_reply": "2023-08-25T21:14:17.472375Z"
        },
        "trusted": true,
        "id": "bRUH7Op7Hngj"
      },
      "execution_count": null,
      "outputs": []
    },
    {
      "cell_type": "code",
      "source": [
        "#plotting graph for Table booking Rate vs Rate\n",
        "sns.barplot(x=\"book_table\",y=\"rate\",data=df)"
      ],
      "metadata": {
        "execution": {
          "iopub.status.busy": "2023-08-25T21:14:17.474640Z",
          "iopub.execute_input": "2023-08-25T21:14:17.474954Z",
          "iopub.status.idle": "2023-08-25T21:14:18.401588Z",
          "shell.execute_reply.started": "2023-08-25T21:14:17.474926Z",
          "shell.execute_reply": "2023-08-25T21:14:18.400342Z"
        },
        "trusted": true,
        "id": "3Mv91BCXHngj"
      },
      "execution_count": null,
      "outputs": []
    },
    {
      "cell_type": "code",
      "source": [
        "#Relation between Location and Rating\n",
        "plt.figure(figsize=(10,20))\n",
        "\n",
        "sns.barplot(y=\"location\",x=\"rate\",data=df)\n",
        "\n"
      ],
      "metadata": {
        "execution": {
          "iopub.status.busy": "2023-08-25T21:19:24.739266Z",
          "iopub.execute_input": "2023-08-25T21:19:24.740399Z",
          "iopub.status.idle": "2023-08-25T21:19:29.910858Z",
          "shell.execute_reply.started": "2023-08-25T21:19:24.740349Z",
          "shell.execute_reply": "2023-08-25T21:19:29.909513Z"
        },
        "trusted": true,
        "id": "loQW__x1Hngj"
      },
      "execution_count": null,
      "outputs": []
    },
    {
      "cell_type": "code",
      "source": [
        "#Restaurant Type\n",
        "plt.figure(figsize=(10,20))\n",
        "sns.countplot(y=\"rest_type\",data=df)"
      ],
      "metadata": {
        "execution": {
          "iopub.status.busy": "2023-08-25T21:14:18.425917Z",
          "iopub.execute_input": "2023-08-25T21:14:18.426692Z",
          "iopub.status.idle": "2023-08-25T21:14:19.922178Z",
          "shell.execute_reply.started": "2023-08-25T21:14:18.426650Z",
          "shell.execute_reply": "2023-08-25T21:14:19.920903Z"
        },
        "trusted": true,
        "id": "CzpRWkLOHngk"
      },
      "execution_count": null,
      "outputs": []
    },
    {
      "cell_type": "code",
      "source": [
        "#Types of Services\n",
        "plt.figure(figsize=(10,4))\n",
        "sns.countplot(x=\"Services\",data=df)"
      ],
      "metadata": {
        "execution": {
          "iopub.status.busy": "2023-08-25T21:14:19.924062Z",
          "iopub.execute_input": "2023-08-25T21:14:19.924788Z",
          "iopub.status.idle": "2023-08-25T21:14:20.290608Z",
          "shell.execute_reply.started": "2023-08-25T21:14:19.924740Z",
          "shell.execute_reply": "2023-08-25T21:14:20.289440Z"
        },
        "trusted": true,
        "id": "aFG8b8YWHngk"
      },
      "execution_count": null,
      "outputs": []
    },
    {
      "cell_type": "code",
      "source": [
        "#Relation between Type and Rating\n",
        "plt.figure(figsize=(10,20))\n",
        "sns.barplot(y=\"rest_type\",x=\"rate\",data=df)"
      ],
      "metadata": {
        "execution": {
          "iopub.status.busy": "2023-08-25T21:14:20.291951Z",
          "iopub.execute_input": "2023-08-25T21:14:20.292306Z",
          "iopub.status.idle": "2023-08-25T21:14:25.401925Z",
          "shell.execute_reply.started": "2023-08-25T21:14:20.292275Z",
          "shell.execute_reply": "2023-08-25T21:14:25.400591Z"
        },
        "trusted": true,
        "id": "ag77ZSyhHngk"
      },
      "execution_count": null,
      "outputs": []
    }
  ]
}
